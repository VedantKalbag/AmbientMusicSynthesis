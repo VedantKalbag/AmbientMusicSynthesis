{
 "cells": [
  {
   "cell_type": "code",
   "execution_count": 5,
   "metadata": {},
   "outputs": [
    {
     "name": "stdout",
     "output_type": "stream",
     "text": [
      "Requirement already satisfied: numpy in /Users/vedant/miniconda3/envs/bgm-generation/lib/python3.10/site-packages (1.22.4)\n",
      "Requirement already satisfied: librosa in /Users/vedant/miniconda3/envs/bgm-generation/lib/python3.10/site-packages (0.9.2)\n",
      "Requirement already satisfied: scipy in /Users/vedant/miniconda3/envs/bgm-generation/lib/python3.10/site-packages (1.9.1)\n",
      "Requirement already satisfied: matplotlib in /Users/vedant/miniconda3/envs/bgm-generation/lib/python3.10/site-packages (3.5.3)\n",
      "Requirement already satisfied: pedalboard in /Users/vedant/miniconda3/envs/bgm-generation/lib/python3.10/site-packages (0.5.10)\n",
      "Collecting synthesizer\n",
      "  Downloading synthesizer-0.2.0.tar.gz (5.4 kB)\n",
      "  Preparing metadata (setup.py) ... \u001b[?25ldone\n",
      "\u001b[?25hRequirement already satisfied: pooch>=1.0 in /Users/vedant/miniconda3/envs/bgm-generation/lib/python3.10/site-packages (from librosa) (1.6.0)\n",
      "Requirement already satisfied: joblib>=0.14 in /Users/vedant/miniconda3/envs/bgm-generation/lib/python3.10/site-packages (from librosa) (1.1.0)\n",
      "Requirement already satisfied: resampy>=0.2.2 in /Users/vedant/miniconda3/envs/bgm-generation/lib/python3.10/site-packages (from librosa) (0.4.0)\n",
      "Requirement already satisfied: scikit-learn>=0.19.1 in /Users/vedant/miniconda3/envs/bgm-generation/lib/python3.10/site-packages (from librosa) (1.1.2)\n",
      "Requirement already satisfied: audioread>=2.1.9 in /Users/vedant/miniconda3/envs/bgm-generation/lib/python3.10/site-packages (from librosa) (3.0.0)\n",
      "Requirement already satisfied: decorator>=4.0.10 in /Users/vedant/miniconda3/envs/bgm-generation/lib/python3.10/site-packages (from librosa) (5.1.1)\n",
      "Requirement already satisfied: soundfile>=0.10.2 in /Users/vedant/miniconda3/envs/bgm-generation/lib/python3.10/site-packages (from librosa) (0.10.3.post1)\n",
      "Requirement already satisfied: numba>=0.45.1 in /Users/vedant/miniconda3/envs/bgm-generation/lib/python3.10/site-packages (from librosa) (0.56.0)\n",
      "Requirement already satisfied: packaging>=20.0 in /Users/vedant/miniconda3/envs/bgm-generation/lib/python3.10/site-packages (from librosa) (21.3)\n",
      "Requirement already satisfied: pillow>=6.2.0 in /Users/vedant/miniconda3/envs/bgm-generation/lib/python3.10/site-packages (from matplotlib) (9.2.0)\n",
      "Requirement already satisfied: fonttools>=4.22.0 in /Users/vedant/miniconda3/envs/bgm-generation/lib/python3.10/site-packages (from matplotlib) (4.37.1)\n",
      "Requirement already satisfied: pyparsing>=2.2.1 in /Users/vedant/miniconda3/envs/bgm-generation/lib/python3.10/site-packages (from matplotlib) (3.0.9)\n",
      "Requirement already satisfied: kiwisolver>=1.0.1 in /Users/vedant/miniconda3/envs/bgm-generation/lib/python3.10/site-packages (from matplotlib) (1.4.4)\n",
      "Requirement already satisfied: python-dateutil>=2.7 in /Users/vedant/miniconda3/envs/bgm-generation/lib/python3.10/site-packages (from matplotlib) (2.8.2)\n",
      "Requirement already satisfied: cycler>=0.10 in /Users/vedant/miniconda3/envs/bgm-generation/lib/python3.10/site-packages (from matplotlib) (0.11.0)\n",
      "Collecting enum34>=1.1.6\n",
      "  Using cached enum34-1.1.10-py3-none-any.whl (11 kB)\n",
      "Requirement already satisfied: llvmlite<0.40,>=0.39.0dev0 in /Users/vedant/miniconda3/envs/bgm-generation/lib/python3.10/site-packages (from numba>=0.45.1->librosa) (0.39.0)\n",
      "Requirement already satisfied: setuptools in /Users/vedant/miniconda3/envs/bgm-generation/lib/python3.10/site-packages (from numba>=0.45.1->librosa) (63.4.1)\n",
      "Requirement already satisfied: requests>=2.19.0 in /Users/vedant/miniconda3/envs/bgm-generation/lib/python3.10/site-packages (from pooch>=1.0->librosa) (2.28.1)\n",
      "Requirement already satisfied: appdirs>=1.3.0 in /Users/vedant/miniconda3/envs/bgm-generation/lib/python3.10/site-packages (from pooch>=1.0->librosa) (1.4.4)\n",
      "Requirement already satisfied: six>=1.5 in /Users/vedant/miniconda3/envs/bgm-generation/lib/python3.10/site-packages (from python-dateutil>=2.7->matplotlib) (1.16.0)\n",
      "Requirement already satisfied: threadpoolctl>=2.0.0 in /Users/vedant/miniconda3/envs/bgm-generation/lib/python3.10/site-packages (from scikit-learn>=0.19.1->librosa) (3.1.0)\n",
      "Requirement already satisfied: cffi>=1.0 in /Users/vedant/miniconda3/envs/bgm-generation/lib/python3.10/site-packages (from soundfile>=0.10.2->librosa) (1.15.1)\n",
      "Requirement already satisfied: pycparser in /Users/vedant/miniconda3/envs/bgm-generation/lib/python3.10/site-packages (from cffi>=1.0->soundfile>=0.10.2->librosa) (2.21)\n",
      "Requirement already satisfied: certifi>=2017.4.17 in /Users/vedant/miniconda3/envs/bgm-generation/lib/python3.10/site-packages (from requests>=2.19.0->pooch>=1.0->librosa) (2022.6.15)\n",
      "Requirement already satisfied: urllib3<1.27,>=1.21.1 in /Users/vedant/miniconda3/envs/bgm-generation/lib/python3.10/site-packages (from requests>=2.19.0->pooch>=1.0->librosa) (1.26.12)\n",
      "Requirement already satisfied: charset-normalizer<3,>=2 in /Users/vedant/miniconda3/envs/bgm-generation/lib/python3.10/site-packages (from requests>=2.19.0->pooch>=1.0->librosa) (2.1.1)\n",
      "Requirement already satisfied: idna<4,>=2.5 in /Users/vedant/miniconda3/envs/bgm-generation/lib/python3.10/site-packages (from requests>=2.19.0->pooch>=1.0->librosa) (3.3)\n",
      "Building wheels for collected packages: synthesizer\n",
      "  Building wheel for synthesizer (setup.py) ... \u001b[?25ldone\n",
      "\u001b[?25h  Created wheel for synthesizer: filename=synthesizer-0.2.0-py2.py3-none-any.whl size=5879 sha256=bf00f3c6ac03fe2d4f41723c0de2f0e3a14933999ed2630fba8933f4f05a6ba7\n",
      "  Stored in directory: /Users/vedant/Library/Caches/pip/wheels/00/07/f7/f6919b025939c72812e61e71bf3316e38bb4f740f661d70a18\n",
      "Successfully built synthesizer\n",
      "Installing collected packages: enum34, synthesizer\n",
      "Successfully installed enum34-1.1.10 synthesizer-0.2.0\n"
     ]
    }
   ],
   "source": [
    "!pip install numpy librosa scipy matplotlib pedalboard synthesizer"
   ]
  },
  {
   "cell_type": "code",
   "execution_count": 6,
   "metadata": {},
   "outputs": [
    {
     "name": "stdout",
     "output_type": "stream",
     "text": [
      "Running `brew update --auto-update`...\n",
      "\u001b[34m==>\u001b[0m \u001b[1mAuto-updated Homebrew!\u001b[0m\n",
      "Updated 5 taps (ngrok/ngrok, heroku/brew, homebrew/core, homebrew/cask and caskroom/cask).\n",
      "\u001b[34m==>\u001b[0m \u001b[1mNew Formulae\u001b[0m\n",
      "agg                                      mesheryctl\n",
      "aws2-wrap                                mkp224o\n",
      "berkeley-db@5                            nmrpflash\n",
      "bfgminer                                 ocl-icd\n",
      "burst                                    onlykey-agent\n",
      "c2rust                                   open62541\n",
      "cargo-crev                               openvi\n",
      "cargo-depgraph                           ouch\n",
      "cargo-nextest                            page\n",
      "cargo-udeps                              pint\n",
      "censys                                   pixiewps\n",
      "chain-bench                              pkcs11-tools\n",
      "cpp-httplib                              pocl\n",
      "cql-proxy                                protobuf@3\n",
      "create-api                               prql-compiler\n",
      "crytic-compile                           prr\n",
      "dsda-doom                                purescript-language-server\n",
      "dunamai                                  pymol\n",
      "dura                                     pymupdf\n",
      "echidna                                  python-build\n",
      "enex2notion                              qsv\n",
      "felinks                                  rdb\n",
      "gaze                                     ripsecrets\n",
      "gcc@11                                   rush-parallel\n",
      "gcem                                     sgn\n",
      "ghorg                                    sgr\n",
      "git-codereview                           shaderc\n",
      "git-delete-merged-branches               slither-analyzer\n",
      "git-sync                                 smap\n",
      "go@1.18                                  snapcast\n",
      "gum                                      snowflake\n",
      "helix                                    solc-select\n",
      "hyx                                      spr\n",
      "jupp                                     svt-av1\n",
      "kalign                                   swiftdraw\n",
      "ksh93                                    tea\n",
      "libbpf                                   tere\n",
      "libeatmydata                             tlsx\n",
      "libff                                    treefmt\n",
      "libplacebo                               ttdl\n",
      "libvatek                                 tuntox\n",
      "licensor                                 vile\n",
      "linux-headers@5.15                       vineyard\n",
      "lucky-commit                             vulkan-loader\n",
      "manifest-tool                            x86_64-linux-gnu-binutils\n",
      "meek\n",
      "\u001b[34m==>\u001b[0m \u001b[1mNew Casks\u001b[0m\n",
      "aliwangwang                              livebook\n",
      "aliwangwang                              micromamba\n",
      "astrofox                                 micromamba\n",
      "astrofox                                 mints\n",
      "bookwright                               mints\n",
      "bookwright                               moderndeck\n",
      "calhash                                  moderndeck\n",
      "calhash                                  nanoem\n",
      "cardinal                                 nanoem\n",
      "cardinal                                 opencore-patcher\n",
      "chromium-gost                            opencore-patcher\n",
      "chromium-gost                            playcover-community\n",
      "cider                                    playcover-community\n",
      "cider                                    polypad\n",
      "decentr                                  polypad\n",
      "decentr                                  qspace-pro\n",
      "drawpile                                 qspace-pro\n",
      "drawpile                                 qwerty-fr\n",
      "duckduckgo                               qwerty-fr\n",
      "duckduckgo                               reverso\n",
      "filen                                    reverso\n",
      "filen                                    shop-different\n",
      "fresh                                    shop-different\n",
      "fresh                                    texifier\n",
      "gamemaker                                texifier\n",
      "gamemaker                                tl-legacy\n",
      "gittyup                                  tl-legacy\n",
      "gittyup                                  trunk-io\n",
      "glance-chamburr                          trunk-io\n",
      "glance-chamburr                          ukrainian-typographic-keyboard\n",
      "goxel                                    ukrainian-typographic-keyboard\n",
      "goxel                                    v2ray-unofficial\n",
      "httpie                                   v2ray-unofficial\n",
      "httpie                                   ved\n",
      "imhex                                    ved\n",
      "imhex                                    virtualbuddy\n",
      "iqmol                                    virtualbuddy\n",
      "iqmol                                    workman\n",
      "lemonlime                                workman\n",
      "lemonlime                                yubihsm2-sdk\n",
      "livebook                                 yubihsm2-sdk\n",
      "\n",
      "You have \u001b[1m77\u001b[0m outdated formulae and \u001b[1m2\u001b[0m outdated casks installed.\n",
      "You can upgrade them with \u001b[1mbrew upgrade\u001b[0m\n",
      "or list them with \u001b[1mbrew outdated\u001b[0m.\n",
      "\n",
      "\u001b[33mWarning:\u001b[0m portaudio 19.7.0 is already installed and up-to-date.\n",
      "To reinstall 19.7.0, run:\n",
      "  brew reinstall portaudio\n"
     ]
    }
   ],
   "source": [
    "!brew install portaudio"
   ]
  },
  {
   "cell_type": "code",
   "execution_count": 7,
   "metadata": {},
   "outputs": [
    {
     "name": "stdout",
     "output_type": "stream",
     "text": [
      "Collecting pyaudio\n",
      "  Downloading PyAudio-0.2.12.tar.gz (42 kB)\n",
      "\u001b[2K     \u001b[90m━━━━━━━━━━━━━━━━━━━━━━━━━━━━━━━━━━━━━━━\u001b[0m \u001b[32m42.9/42.9 kB\u001b[0m \u001b[31m751.8 kB/s\u001b[0m eta \u001b[36m0:00:00\u001b[0m \u001b[36m0:00:01\u001b[0m\n",
      "\u001b[?25h  Installing build dependencies ... \u001b[?25ldone\n",
      "\u001b[?25h  Getting requirements to build wheel ... \u001b[?25ldone\n",
      "\u001b[?25h  Preparing metadata (pyproject.toml) ... \u001b[?25ldone\n",
      "\u001b[?25hBuilding wheels for collected packages: pyaudio\n",
      "  Building wheel for pyaudio (pyproject.toml) ... \u001b[?25ldone\n",
      "\u001b[?25h  Created wheel for pyaudio: filename=PyAudio-0.2.12-cp310-cp310-macosx_10_9_x86_64.whl size=24821 sha256=1b64278bb026f88f37597c059d55127c55cf8b3162dcaed69691b806cf03114b\n",
      "  Stored in directory: /Users/vedant/Library/Caches/pip/wheels/eb/71/06/030b8fdda053802be6a3c6b13b39bb7cb1bd196d9459b6e0f9\n",
      "Successfully built pyaudio\n",
      "Installing collected packages: pyaudio\n",
      "Successfully installed pyaudio-0.2.12\n"
     ]
    }
   ],
   "source": [
    "!pip install pyaudio"
   ]
  },
  {
   "cell_type": "code",
   "execution_count": 81,
   "metadata": {},
   "outputs": [],
   "source": [
    "from synthesizer import Player, Synthesizer, Waveform\n",
    "\n",
    "player = Player()\n",
    "player.open_stream()\n",
    "synthesizer = Synthesizer()\n",
    "chord = [\"C4\", \"E4\", \"G4\"]\n",
    "player.play_wave(synthesizer.generate_chord(chord, 3.0))"
   ]
  },
  {
   "cell_type": "code",
   "execution_count": 82,
   "metadata": {},
   "outputs": [],
   "source": [
    "import pedalboard\n",
    "synth = pedalboard.load_plugin(\"/Library/Audio/Plug-Ins/Components/TAL-NoiseMaker.component\")"
   ]
  },
  {
   "cell_type": "code",
   "execution_count": 122,
   "metadata": {},
   "outputs": [],
   "source": [
    "# print(synth.parameters.keys())\n",
    "vst_params = list(synth.parameters.keys())\n",
    "d={}\n",
    "for idx, ele in enumerate(vst_params):\n",
    "    # print(idx, ele)\n",
    "    d[ele] = ele.replace(\"_\", \"\")"
   ]
  },
  {
   "cell_type": "code",
   "execution_count": 95,
   "metadata": {},
   "outputs": [],
   "source": [
    "import xml.etree.ElementTree as ET\n",
    "xmlfile=\"../resources/plugins/params/PD Base Pad TAL.noisemakerpreset\"\n",
    "tree = ET.parse(xmlfile)\n",
    "root = tree.getroot()\n",
    "for item in root.findall('./programs'):\n",
    "    main_params = dict(item[0].items())\n",
    "for item in root.findall('./programs/program/splinePoints'):\n",
    "    spline_params={}\n",
    "    for i in range(len(item)):\n",
    "        spline_params[i] = dict(item[0].items())"
   ]
  },
  {
   "cell_type": "code",
   "execution_count": 97,
   "metadata": {},
   "outputs": [
    {
     "data": {
      "text/plain": [
       "False"
      ]
     },
     "execution_count": 97,
     "metadata": {},
     "output_type": "execute_result"
    }
   ],
   "source": [
    "main_params == vst_params"
   ]
  },
  {
   "cell_type": "code",
   "execution_count": 101,
   "metadata": {},
   "outputs": [
    {
     "data": {
      "text/plain": [
       "False"
      ]
     },
     "execution_count": 101,
     "metadata": {},
     "output_type": "execute_result"
    }
   ],
   "source": [
    "vst_params == main_params.keys()"
   ]
  },
  {
   "cell_type": "code",
   "execution_count": 119,
   "metadata": {},
   "outputs": [
    {
     "data": {
      "text/plain": [
       "['mastervolume',\n",
       " 'filtertype',\n",
       " 'filtercutoff',\n",
       " 'filterresonance',\n",
       " 'fitlerkeyfollow',\n",
       " 'filtercontour',\n",
       " 'filterattack',\n",
       " 'filterdecay',\n",
       " 'filtersustain',\n",
       " 'filterrelease',\n",
       " 'ampattack',\n",
       " 'ampdecay',\n",
       " 'ampsustain',\n",
       " 'amprelease',\n",
       " 'osc1volume',\n",
       " 'osc2volume',\n",
       " 'osc3volume',\n",
       " 'oscmastertune',\n",
       " 'osc1tune',\n",
       " 'osc2tune',\n",
       " 'osc1finetune',\n",
       " 'osc2finetune',\n",
       " 'osc1waveform',\n",
       " 'oscsync',\n",
       " 'lfo1waveform',\n",
       " 'lfo2waveform',\n",
       " 'lfo1rate',\n",
       " 'lfo2rate',\n",
       " 'lfo1amount',\n",
       " 'lfo2amount',\n",
       " 'lfo1destination',\n",
       " 'lfo2destination',\n",
       " 'lfo1phase',\n",
       " 'lfo2phase',\n",
       " 'osc2fm',\n",
       " 'osc2phase',\n",
       " 'osc2pw',\n",
       " 'transpose',\n",
       " 'freeadattack',\n",
       " 'freeaddecay',\n",
       " 'freeadamount',\n",
       " 'freeaddestination',\n",
       " 'lfo1sync',\n",
       " 'lfo1keytrigger',\n",
       " 'lfo2sync',\n",
       " 'lfo2keytrigger',\n",
       " 'portamentoamount',\n",
       " 'portamentomode',\n",
       " 'voices',\n",
       " 'velocityvolume',\n",
       " 'velocitycontour',\n",
       " 'velocityfilter',\n",
       " 'pitchwheelcutoff',\n",
       " 'pitchwheelpitch',\n",
       " 'ringmodulation',\n",
       " 'chorus1enable',\n",
       " 'chorus2enable',\n",
       " 'reverbwet',\n",
       " 'reverbdecay',\n",
       " 'reverbpredelay',\n",
       " 'reverbhighcut',\n",
       " 'reverblowcut',\n",
       " 'oscbitcrusher',\n",
       " 'masterhighpass',\n",
       " 'masterdetune',\n",
       " 'vintagenoise',\n",
       " 'panic',\n",
       " 'midilearn',\n",
       " 'envelopedestination',\n",
       " 'envelopespeed',\n",
       " 'envelopeamount',\n",
       " 'envelopeoneshotmode',\n",
       " 'envelopefixtempo',\n",
       " 'envelopereset',\n",
       " 'filterdrive',\n",
       " 'delaywet',\n",
       " 'delaytime',\n",
       " 'delaysync',\n",
       " 'delayx2l',\n",
       " 'delayx2r',\n",
       " 'delayhighshelf',\n",
       " 'delaylowshelf',\n",
       " 'delayfeedback',\n",
       " 'midiclear',\n",
       " 'midilock']"
      ]
     },
     "execution_count": 119,
     "metadata": {},
     "output_type": "execute_result"
    }
   ],
   "source": [
    "vst_params"
   ]
  },
  {
   "cell_type": "code",
   "execution_count": 109,
   "metadata": {},
   "outputs": [],
   "source": [
    "l = [];\n",
    "missing=[]\n",
    "for param in main_params.keys():\n",
    "    if param in vst_params:\n",
    "        l.append(True);\n",
    "    else:\n",
    "        l.append(False);\n",
    "        missing.append(param)\n"
   ]
  },
  {
   "cell_type": "code",
   "execution_count": 111,
   "metadata": {},
   "outputs": [
    {
     "data": {
      "text/plain": [
       "['programname',\n",
       " 'unknown',\n",
       " 'volume',\n",
       " 'cutoff',\n",
       " 'resonance',\n",
       " 'keyfollow',\n",
       " 'osc2waveform',\n",
       " 'lfo1Phase',\n",
       " 'lfo2Phase',\n",
       " 'osc1pw',\n",
       " 'osc1phase',\n",
       " 'portamento',\n",
       " 'highpass',\n",
       " 'detune',\n",
       " 'envelopeeditordest1',\n",
       " 'envelopeeditorspeed',\n",
       " 'envelopeeditoramount',\n",
       " 'envelopeOneShot',\n",
       " 'delayfactorl',\n",
       " 'delayfactorR']"
      ]
     },
     "execution_count": 111,
     "metadata": {},
     "output_type": "execute_result"
    }
   ],
   "source": [
    "missing"
   ]
  },
  {
   "cell_type": "code",
   "execution_count": 125,
   "metadata": {},
   "outputs": [],
   "source": [
    "d_flipped = dict(zip(d.values(), d.keys()))"
   ]
  },
  {
   "cell_type": "code",
   "execution_count": 134,
   "metadata": {},
   "outputs": [
    {
     "data": {
      "text/plain": [
       "<pedalboard.AudioProcessorParameter name=\"MIDI Lock\" raw_value=0 value=0.0000000 range=(0.0, 1.0, 0.001)>"
      ]
     },
     "execution_count": 134,
     "metadata": {},
     "output_type": "execute_result"
    }
   ],
   "source": [
    "synth.parameters[d_flipped[parameter]]"
   ]
  },
  {
   "cell_type": "code",
   "execution_count": 135,
   "metadata": {},
   "outputs": [
    {
     "name": "stdout",
     "output_type": "stream",
     "text": [
      "Collecting py-headless-daw\n",
      "  Downloading py_headless_daw-0.0.5-py3-none-any.whl (83 kB)\n",
      "\u001b[2K     \u001b[90m━━━━━━━━━━━━━━━━━━━━━━━━━━━━━━━━━━━━━━━━\u001b[0m \u001b[32m83.7/83.7 kB\u001b[0m \u001b[31m1.4 MB/s\u001b[0m eta \u001b[36m0:00:00\u001b[0m00:01\u001b[0m\n",
      "\u001b[?25hCollecting cython-vst-loader\n",
      "  Downloading cython_vst_loader-0.0.1.tar.gz (1.4 MB)\n",
      "\u001b[2K     \u001b[90m━━━━━━━━━━━━━━━━━━━━━━━━━━━━━━━━━━━━━━━━\u001b[0m \u001b[32m1.4/1.4 MB\u001b[0m \u001b[31m9.3 MB/s\u001b[0m eta \u001b[36m0:00:00\u001b[0mta \u001b[36m0:00:01\u001b[0m\n",
      "\u001b[?25h  Preparing metadata (setup.py) ... \u001b[?25ldone\n",
      "\u001b[?25hRequirement already satisfied: scipy in /Users/vedant/miniconda3/envs/bgm-generation/lib/python3.10/site-packages (from py-headless-daw) (1.9.1)\n",
      "Requirement already satisfied: numpy in /Users/vedant/miniconda3/envs/bgm-generation/lib/python3.10/site-packages (from py-headless-daw) (1.22.4)\n",
      "Collecting dependency-injector\n",
      "  Downloading dependency_injector-4.40.0-cp310-cp310-macosx_10_9_x86_64.whl (830 kB)\n",
      "\u001b[2K     \u001b[90m━━━━━━━━━━━━━━━━━━━━━━━━━━━━━━━━━━━━━━━\u001b[0m \u001b[32m830.2/830.2 kB\u001b[0m \u001b[31m8.1 MB/s\u001b[0m eta \u001b[36m0:00:00\u001b[0m00:01\u001b[0m00:01\u001b[0m\n",
      "\u001b[?25hRequirement already satisfied: six<=1.16.0,>=1.7.0 in /Users/vedant/miniconda3/envs/bgm-generation/lib/python3.10/site-packages (from dependency-injector->py-headless-daw) (1.16.0)\n",
      "Building wheels for collected packages: cython-vst-loader\n",
      "  Building wheel for cython-vst-loader (setup.py) ... \u001b[?25lerror\n",
      "  \u001b[1;31merror\u001b[0m: \u001b[1msubprocess-exited-with-error\u001b[0m\n",
      "  \n",
      "  \u001b[31m×\u001b[0m \u001b[32mpython setup.py bdist_wheel\u001b[0m did not run successfully.\n",
      "  \u001b[31m│\u001b[0m exit code: \u001b[1;36m1\u001b[0m\n",
      "  \u001b[31m╰─>\u001b[0m \u001b[31m[27 lines of output]\u001b[0m\n",
      "  \u001b[31m   \u001b[0m unzip build/vstsdk.zip -d build\n",
      "  \u001b[31m   \u001b[0m Archive:  build/vstsdk.zip\n",
      "  \u001b[31m   \u001b[0m replace build/VST_SDK/VST3_Project_Generator/macOS/VST3_Project_Generator.app/Contents/CodeResources? [y]es, [n]o, [A]ll, [N]one, [r]ename:  NULL\n",
      "  \u001b[31m   \u001b[0m (EOF or read error, treating as \"[N]one\" ...)\n",
      "  \u001b[31m   \u001b[0m make: *** [build/vstsdk] Error 1\n",
      "  \u001b[31m   \u001b[0m running bdist_wheel\n",
      "  \u001b[31m   \u001b[0m running build\n",
      "  \u001b[31m   \u001b[0m running build_py\n",
      "  \u001b[31m   \u001b[0m creating build/lib.macosx-10.9-x86_64-cpython-310\n",
      "  \u001b[31m   \u001b[0m creating build/lib.macosx-10.9-x86_64-cpython-310/cython_vst_loader\n",
      "  \u001b[31m   \u001b[0m copying cython_vst_loader/vst_constants.py -> build/lib.macosx-10.9-x86_64-cpython-310/cython_vst_loader\n",
      "  \u001b[31m   \u001b[0m copying cython_vst_loader/experiment_load_plugin.py -> build/lib.macosx-10.9-x86_64-cpython-310/cython_vst_loader\n",
      "  \u001b[31m   \u001b[0m copying cython_vst_loader/__init__.py -> build/lib.macosx-10.9-x86_64-cpython-310/cython_vst_loader\n",
      "  \u001b[31m   \u001b[0m copying cython_vst_loader/vst_plugin.py -> build/lib.macosx-10.9-x86_64-cpython-310/cython_vst_loader\n",
      "  \u001b[31m   \u001b[0m copying cython_vst_loader/vst_event.py -> build/lib.macosx-10.9-x86_64-cpython-310/cython_vst_loader\n",
      "  \u001b[31m   \u001b[0m copying cython_vst_loader/exceptions.py -> build/lib.macosx-10.9-x86_64-cpython-310/cython_vst_loader\n",
      "  \u001b[31m   \u001b[0m copying cython_vst_loader/vst_host.py -> build/lib.macosx-10.9-x86_64-cpython-310/cython_vst_loader\n",
      "  \u001b[31m   \u001b[0m running build_ext\n",
      "  \u001b[31m   \u001b[0m building 'cython_vst_loader.vst_loader_wrapper' extension\n",
      "  \u001b[31m   \u001b[0m creating build/temp.macosx-10.9-x86_64-cpython-310\n",
      "  \u001b[31m   \u001b[0m creating build/temp.macosx-10.9-x86_64-cpython-310/cython_vst_loader\n",
      "  \u001b[31m   \u001b[0m clang -Wno-unused-result -Wsign-compare -Wunreachable-code -DNDEBUG -g -fwrapv -O2 -Wall -fPIC -O2 -isystem /Users/vedant/miniconda3/envs/bgm-generation/include -fPIC -O2 -isystem /Users/vedant/miniconda3/envs/bgm-generation/include -I/private/var/folders/hs/h9zhlkvj4b9d3mmzwzsd87vr0000gn/T/pip-install-6l5h7lyv/cython-vst-loader_195c03768cfa45c8aea3e58984a85624/build/vstsdk/pluginterfaces/vst2.x -I/Users/vedant/miniconda3/envs/bgm-generation/include/python3.10 -c cython_vst_loader/vst_loader_wrapper.c -o build/temp.macosx-10.9-x86_64-cpython-310/cython_vst_loader/vst_loader_wrapper.o -Wno-unused-function\n",
      "  \u001b[31m   \u001b[0m cython_vst_loader/vst_loader_wrapper.c:614:10: fatal error: 'aeffectx.h' file not found\n",
      "  \u001b[31m   \u001b[0m #include \"aeffectx.h\"\n",
      "  \u001b[31m   \u001b[0m          ^~~~~~~~~~~~\n",
      "  \u001b[31m   \u001b[0m 1 error generated.\n",
      "  \u001b[31m   \u001b[0m error: command '/usr/bin/clang' failed with exit code 1\n",
      "  \u001b[31m   \u001b[0m \u001b[31m[end of output]\u001b[0m\n",
      "  \n",
      "  \u001b[1;35mnote\u001b[0m: This error originates from a subprocess, and is likely not a problem with pip.\n",
      "\u001b[31m  ERROR: Failed building wheel for cython-vst-loader\u001b[0m\u001b[31m\n",
      "\u001b[0m\u001b[?25h  Running setup.py clean for cython-vst-loader\n",
      "Failed to build cython-vst-loader\n",
      "Installing collected packages: cython-vst-loader, dependency-injector, py-headless-daw\n",
      "  Running setup.py install for cython-vst-loader ... \u001b[?25lerror\n",
      "  \u001b[1;31merror\u001b[0m: \u001b[1msubprocess-exited-with-error\u001b[0m\n",
      "  \n",
      "  \u001b[31m×\u001b[0m \u001b[32mRunning setup.py install for cython-vst-loader\u001b[0m did not run successfully.\n",
      "  \u001b[31m│\u001b[0m exit code: \u001b[1;36m1\u001b[0m\n",
      "  \u001b[31m╰─>\u001b[0m \u001b[31m[29 lines of output]\u001b[0m\n",
      "  \u001b[31m   \u001b[0m unzip build/vstsdk.zip -d build\n",
      "  \u001b[31m   \u001b[0m Archive:  build/vstsdk.zip\n",
      "  \u001b[31m   \u001b[0m replace build/VST_SDK/VST3_Project_Generator/macOS/VST3_Project_Generator.app/Contents/CodeResources? [y]es, [n]o, [A]ll, [N]one, [r]ename:  NULL\n",
      "  \u001b[31m   \u001b[0m (EOF or read error, treating as \"[N]one\" ...)\n",
      "  \u001b[31m   \u001b[0m make: *** [build/vstsdk] Error 1\n",
      "  \u001b[31m   \u001b[0m running install\n",
      "  \u001b[31m   \u001b[0m /Users/vedant/miniconda3/envs/bgm-generation/lib/python3.10/site-packages/setuptools/command/install.py:34: SetuptoolsDeprecationWarning: setup.py install is deprecated. Use build and pip and other standards-based tools.\n",
      "  \u001b[31m   \u001b[0m   warnings.warn(\n",
      "  \u001b[31m   \u001b[0m running build\n",
      "  \u001b[31m   \u001b[0m running build_py\n",
      "  \u001b[31m   \u001b[0m creating build/lib.macosx-10.9-x86_64-cpython-310\n",
      "  \u001b[31m   \u001b[0m creating build/lib.macosx-10.9-x86_64-cpython-310/cython_vst_loader\n",
      "  \u001b[31m   \u001b[0m copying cython_vst_loader/vst_constants.py -> build/lib.macosx-10.9-x86_64-cpython-310/cython_vst_loader\n",
      "  \u001b[31m   \u001b[0m copying cython_vst_loader/experiment_load_plugin.py -> build/lib.macosx-10.9-x86_64-cpython-310/cython_vst_loader\n",
      "  \u001b[31m   \u001b[0m copying cython_vst_loader/__init__.py -> build/lib.macosx-10.9-x86_64-cpython-310/cython_vst_loader\n",
      "  \u001b[31m   \u001b[0m copying cython_vst_loader/vst_plugin.py -> build/lib.macosx-10.9-x86_64-cpython-310/cython_vst_loader\n",
      "  \u001b[31m   \u001b[0m copying cython_vst_loader/vst_event.py -> build/lib.macosx-10.9-x86_64-cpython-310/cython_vst_loader\n",
      "  \u001b[31m   \u001b[0m copying cython_vst_loader/exceptions.py -> build/lib.macosx-10.9-x86_64-cpython-310/cython_vst_loader\n",
      "  \u001b[31m   \u001b[0m copying cython_vst_loader/vst_host.py -> build/lib.macosx-10.9-x86_64-cpython-310/cython_vst_loader\n",
      "  \u001b[31m   \u001b[0m running build_ext\n",
      "  \u001b[31m   \u001b[0m building 'cython_vst_loader.vst_loader_wrapper' extension\n",
      "  \u001b[31m   \u001b[0m creating build/temp.macosx-10.9-x86_64-cpython-310\n",
      "  \u001b[31m   \u001b[0m creating build/temp.macosx-10.9-x86_64-cpython-310/cython_vst_loader\n",
      "  \u001b[31m   \u001b[0m clang -Wno-unused-result -Wsign-compare -Wunreachable-code -DNDEBUG -g -fwrapv -O2 -Wall -fPIC -O2 -isystem /Users/vedant/miniconda3/envs/bgm-generation/include -fPIC -O2 -isystem /Users/vedant/miniconda3/envs/bgm-generation/include -I/private/var/folders/hs/h9zhlkvj4b9d3mmzwzsd87vr0000gn/T/pip-install-6l5h7lyv/cython-vst-loader_195c03768cfa45c8aea3e58984a85624/build/vstsdk/pluginterfaces/vst2.x -I/Users/vedant/miniconda3/envs/bgm-generation/include/python3.10 -c cython_vst_loader/vst_loader_wrapper.c -o build/temp.macosx-10.9-x86_64-cpython-310/cython_vst_loader/vst_loader_wrapper.o -Wno-unused-function\n",
      "  \u001b[31m   \u001b[0m cython_vst_loader/vst_loader_wrapper.c:614:10: fatal error: 'aeffectx.h' file not found\n",
      "  \u001b[31m   \u001b[0m #include \"aeffectx.h\"\n",
      "  \u001b[31m   \u001b[0m          ^~~~~~~~~~~~\n",
      "  \u001b[31m   \u001b[0m 1 error generated.\n",
      "  \u001b[31m   \u001b[0m error: command '/usr/bin/clang' failed with exit code 1\n",
      "  \u001b[31m   \u001b[0m \u001b[31m[end of output]\u001b[0m\n",
      "  \n",
      "  \u001b[1;35mnote\u001b[0m: This error originates from a subprocess, and is likely not a problem with pip.\n",
      "\u001b[?25h\u001b[1;31merror\u001b[0m: \u001b[1mlegacy-install-failure\u001b[0m\n",
      "\n",
      "\u001b[31m×\u001b[0m Encountered error while trying to install package.\n",
      "\u001b[31m╰─>\u001b[0m cython-vst-loader\n",
      "\n",
      "\u001b[1;35mnote\u001b[0m: This is an issue with the package mentioned above, not pip.\n",
      "\u001b[1;36mhint\u001b[0m: See above for output from the failure.\n"
     ]
    }
   ],
   "source": [
    "!pip install py-headless-daw"
   ]
  },
  {
   "cell_type": "code",
   "execution_count": 139,
   "metadata": {},
   "outputs": [
    {
     "name": "stdout",
     "output_type": "stream",
     "text": [
      "fatal: destination path 'cython-vst-loader' already exists and is not an empty directory.\n",
      "Collecting attrs==19.3.0\n",
      "  Using cached attrs-19.3.0-py2.py3-none-any.whl (39 kB)\n",
      "Collecting Cython==0.29.19\n",
      "  Downloading Cython-0.29.19-py2.py3-none-any.whl (971 kB)\n",
      "\u001b[2K     \u001b[90m━━━━━━━━━━━━━━━━━━━━━━━━━━━━━━━━━━━━━━━\u001b[0m \u001b[32m971.9/971.9 kB\u001b[0m \u001b[31m5.7 MB/s\u001b[0m eta \u001b[36m0:00:00\u001b[0m00:01\u001b[0m00:01\u001b[0m\n",
      "\u001b[?25hCollecting importlib-metadata==1.6.0\n",
      "  Downloading importlib_metadata-1.6.0-py2.py3-none-any.whl (30 kB)\n",
      "Collecting more-itertools==8.3.0\n",
      "  Downloading more_itertools-8.3.0-py3-none-any.whl (44 kB)\n",
      "\u001b[2K     \u001b[90m━━━━━━━━━━━━━━━━━━━━━━━━━━━━━━━━━━━━━━━━\u001b[0m \u001b[32m44.7/44.7 kB\u001b[0m \u001b[31m1.3 MB/s\u001b[0m eta \u001b[36m0:00:00\u001b[0m\n",
      "\u001b[?25hCollecting packaging==20.4\n",
      "  Downloading packaging-20.4-py2.py3-none-any.whl (37 kB)\n",
      "Collecting pluggy==0.13.1\n",
      "  Downloading pluggy-0.13.1-py2.py3-none-any.whl (18 kB)\n",
      "Collecting py==1.8.1\n",
      "  Downloading py-1.8.1-py2.py3-none-any.whl (83 kB)\n",
      "\u001b[2K     \u001b[90m━━━━━━━━━━━━━━━━━━━━━━━━━━━━━━━━━━━━━━━━\u001b[0m \u001b[32m83.8/83.8 kB\u001b[0m \u001b[31m2.8 MB/s\u001b[0m eta \u001b[36m0:00:00\u001b[0m\n",
      "\u001b[?25hCollecting pyparsing==2.4.7\n",
      "  Using cached pyparsing-2.4.7-py2.py3-none-any.whl (67 kB)\n",
      "Collecting pytest==5.4.2\n",
      "  Downloading pytest-5.4.2-py3-none-any.whl (247 kB)\n",
      "\u001b[2K     \u001b[90m━━━━━━━━━━━━━━━━━━━━━━━━━━━━━━━━━━━━━━━\u001b[0m \u001b[32m247.4/247.4 kB\u001b[0m \u001b[31m6.5 MB/s\u001b[0m eta \u001b[36m0:00:00\u001b[0m\n",
      "\u001b[?25hCollecting six==1.15.0\n",
      "  Using cached six-1.15.0-py2.py3-none-any.whl (10 kB)\n",
      "Collecting wcwidth==0.1.9\n",
      "  Downloading wcwidth-0.1.9-py2.py3-none-any.whl (19 kB)\n",
      "Collecting zipp==3.1.0\n",
      "  Downloading zipp-3.1.0-py3-none-any.whl (4.9 kB)\n",
      "Collecting parameterized==0.8.1\n",
      "  Downloading parameterized-0.8.1-py2.py3-none-any.whl (26 kB)\n",
      "Collecting flake8==3.9.0\n",
      "  Downloading flake8-3.9.0-py2.py3-none-any.whl (73 kB)\n",
      "\u001b[2K     \u001b[90m━━━━━━━━━━━━━━━━━━━━━━━━━━━━━━━━━━━━━━━━\u001b[0m \u001b[32m73.1/73.1 kB\u001b[0m \u001b[31m1.4 MB/s\u001b[0m eta \u001b[36m0:00:00\u001b[0m:00:01\u001b[0m\n",
      "\u001b[?25hCollecting pycodestyle<2.8.0,>=2.7.0\n",
      "  Downloading pycodestyle-2.7.0-py2.py3-none-any.whl (41 kB)\n",
      "\u001b[2K     \u001b[90m━━━━━━━━━━━━━━━━━━━━━━━━━━━━━━━━━━━━━━━━\u001b[0m \u001b[32m41.7/41.7 kB\u001b[0m \u001b[31m1.2 MB/s\u001b[0m eta \u001b[36m0:00:00\u001b[0m\n",
      "\u001b[?25hCollecting pyflakes<2.4.0,>=2.3.0\n",
      "  Downloading pyflakes-2.3.1-py2.py3-none-any.whl (68 kB)\n",
      "\u001b[2K     \u001b[90m━━━━━━━━━━━━━━━━━━━━━━━━━━━━━━━━━━━━━━━━\u001b[0m \u001b[32m68.8/68.8 kB\u001b[0m \u001b[31m2.2 MB/s\u001b[0m eta \u001b[36m0:00:00\u001b[0m\n",
      "\u001b[?25hCollecting mccabe<0.7.0,>=0.6.0\n",
      "  Using cached mccabe-0.6.1-py2.py3-none-any.whl (8.6 kB)\n",
      "Installing collected packages: wcwidth, parameterized, mccabe, zipp, six, pyparsing, pyflakes, pycodestyle, py, pluggy, more-itertools, Cython, attrs, packaging, importlib-metadata, flake8, pytest\n",
      "  Attempting uninstall: wcwidth\n",
      "    Found existing installation: wcwidth 0.2.5\n",
      "    Uninstalling wcwidth-0.2.5:\n",
      "      Successfully uninstalled wcwidth-0.2.5\n",
      "  Attempting uninstall: six\n",
      "    Found existing installation: six 1.16.0\n",
      "    Uninstalling six-1.16.0:\n",
      "      Successfully uninstalled six-1.16.0\n",
      "  Attempting uninstall: pyparsing\n",
      "    Found existing installation: pyparsing 3.0.9\n",
      "    Uninstalling pyparsing-3.0.9:\n",
      "      Successfully uninstalled pyparsing-3.0.9\n",
      "  Attempting uninstall: packaging\n",
      "    Found existing installation: packaging 21.3\n",
      "    Uninstalling packaging-21.3:\n",
      "      Successfully uninstalled packaging-21.3\n",
      "Successfully installed Cython-0.29.19 attrs-19.3.0 flake8-3.9.0 importlib-metadata-1.6.0 mccabe-0.6.1 more-itertools-8.3.0 packaging-20.4 parameterized-0.8.1 pluggy-0.13.1 py-1.8.1 pycodestyle-2.7.0 pyflakes-2.3.1 pyparsing-2.4.7 pytest-5.4.2 six-1.15.0 wcwidth-0.1.9 zipp-3.1.0\n",
      "mkdir -p build\n",
      "curl https://www.steinberg.net/sdk_downloads/vstsdk366_27_06_2016_build_61.zip -o build/vstsdk.zip\n",
      "  % Total    % Received % Xferd  Average Speed   Time    Time     Time  Current\n",
      "                                 Dload  Upload   Total   Spent    Left  Speed\n",
      "100    83  100    83    0     0   1077      0 --:--:-- --:--:-- --:--:--  1077\n",
      "unzip build/vstsdk.zip -d build\n",
      "Archive:  build/vstsdk.zip\n",
      "  End-of-central-directory signature not found.  Either this file is not\n",
      "  a zipfile, or it constitutes one disk of a multi-part archive.  In the\n",
      "  latter case the central directory and zipfile comment will be found on\n",
      "  the last disk(s) of this archive.\n",
      "unzip:  cannot find zipfile directory in one of build/vstsdk.zip or\n",
      "        build/vstsdk.zip.zip, and cannot find build/vstsdk.zip.ZIP, period.\n",
      "make: *** [build/vstsdk] Error 9\n",
      "Compiling cython_vst_loader/vst_loader_wrapper.pyx because it changed.\n",
      "[1/1] Cythonizing cython_vst_loader/vst_loader_wrapper.pyx\n",
      "/Users/vedant/miniconda3/envs/bgm-generation/lib/python3.10/site-packages/setuptools/installer.py:27: SetuptoolsDeprecationWarning: setuptools.installer is deprecated. Requirements should be satisfied by a PEP 517 installer.\n",
      "  warnings.warn(\n",
      "running build_ext\n",
      "building 'cython_vst_loader.vst_loader_wrapper' extension\n",
      "creating build/temp.macosx-10.9-x86_64-cpython-310\n",
      "creating build/temp.macosx-10.9-x86_64-cpython-310/cython_vst_loader\n",
      "clang -Wno-unused-result -Wsign-compare -Wunreachable-code -DNDEBUG -g -fwrapv -O2 -Wall -fPIC -O2 -isystem /Users/vedant/miniconda3/envs/bgm-generation/include -fPIC -O2 -isystem /Users/vedant/miniconda3/envs/bgm-generation/include -I/Users/vedant/Desktop/Programming/emotional-background-music-generation/src/cython-vst-loader/build/vstsdk/pluginterfaces/vst2.x -I/Users/vedant/Desktop/Programming/emotional-background-music-generation/src/cython-vst-loader/cython_vst_loader/include -I/Users/vedant/miniconda3/envs/bgm-generation/include/python3.10 -c cython_vst_loader/vst_loader_wrapper.c -o build/temp.macosx-10.9-x86_64-cpython-310/cython_vst_loader/vst_loader_wrapper.o -Wno-unused-function\n",
      "In file included from cython_vst_loader/vst_loader_wrapper.c:614:\n",
      "\u001b[1m/Users/vedant/Desktop/Programming/emotional-background-music-generation/src/cython-vst-loader/cython_vst_loader/include/aeffectx_with_additional_structures.h:1:10: \u001b[0m\u001b[0;1;31mfatal error: \u001b[0m\u001b[1m\n",
      "      'aeffectx.h' file not found\u001b[0m\n",
      "#include \"aeffectx.h\"\n",
      "\u001b[0;1;32m         ^~~~~~~~~~~~\n",
      "\u001b[0m1 error generated.\n",
      "error: command '/usr/bin/clang' failed with exit code 1\n"
     ]
    }
   ],
   "source": [
    "!git clone git@github.com:hq9000/cython-vst-loader.git;cd cython-vst-loader; pip install -r requirements.txt;python setup.py build_ext --inplace"
   ]
  },
  {
   "cell_type": "code",
   "execution_count": 4,
   "metadata": {},
   "outputs": [],
   "source": [
    "from reathon.nodes import Item, Track, Project# import all of the reathon nodes\n",
    "item = Item(\n",
    "    length = 10, \n",
    "    position = 0.0\n",
    ")\n",
    "track = Track(item)\n",
    "project = Project( # create an instance of a project\n",
    "    track # and pass a Track() object to the constructor\n",
    ")\n",
    "\n",
    "project.write(\"../resources/basic_test.rpp\") # write the project out to the path"
   ]
  },
  {
   "cell_type": "code",
   "execution_count": 1,
   "metadata": {},
   "outputs": [
    {
     "name": "stdout",
     "output_type": "stream",
     "text": [
      "Collecting dawdreamer\n",
      "  Downloading dawdreamer-0.6.10-cp310-cp310-macosx_10_15_universal2.whl (44.8 MB)\n",
      "\u001b[2K     \u001b[90m━━━━━━━━━━━━━━━━━━━━━━━━━━━━━━━━━━━━━━━━\u001b[0m \u001b[32m44.8/44.8 MB\u001b[0m \u001b[31m10.6 MB/s\u001b[0m eta \u001b[36m0:00:00\u001b[0m00:01\u001b[0m00:01\u001b[0m\n",
      "\u001b[?25hInstalling collected packages: dawdreamer\n",
      "Successfully installed dawdreamer-0.6.10\n"
     ]
    }
   ],
   "source": [
    "!pip install dawdreamer"
   ]
  },
  {
   "cell_type": "code",
   "execution_count": 3,
   "metadata": {},
   "outputs": [],
   "source": [
    "import dawdreamer as daw\n",
    "import numpy as np\n",
    "import os\n",
    "SAMPLE_RATE = 44100\n",
    "\n",
    "BUFFER_SIZE = 128 # Parameters will undergo automation at this buffer/block size.\n",
    "PPQN = 960 # Pulses per quarter note.\n",
    "SYNTH_PLUGIN = os.path.expanduser('~')+\"/../../Library/Audio/Plug-Ins/VST/TAL-NoiseMaker.vst\"#os.path.expanduser('~')+\"/../../Library/Audio/Plug-Ins/Components/TAL-NoiseMaker.component\"  # extensions: .dll, .vst3, .vst, .component\n",
    "# REVERB_PLUGIN = \"C:/path/to/reverb.dll\"  # extensions: .dll, .vst3, .vst, .component\n",
    "MIDI_PATH = \"../resources/MIDI/song.mid\""
   ]
  },
  {
   "cell_type": "code",
   "execution_count": 4,
   "metadata": {},
   "outputs": [
    {
     "name": "stderr",
     "output_type": "stream",
     "text": [
      "error: attempt to map invalid URI `/Users/vedant/../../Library/Audio/Plug-Ins/VST/TAL-NoiseMaker.vst'\n",
      "Attempting to load VST: /Library/Audio/Plug-Ins/VST/TAL-NoiseMaker.vst\n",
      "Creating VST instance: TAL-NoiseMaker\n",
      "Initialising VST: TAL-NoiseMaker (5.0.4.0)\n",
      "Attempting to load VST: /Library/Audio/Plug-Ins/VST/TAL-NoiseMaker.vst\n",
      "Creating VST instance: TAL-NoiseMaker\n",
      "Initialising VST: TAL-NoiseMaker (5.0.4.0)\n"
     ]
    }
   ],
   "source": [
    "engine = daw.RenderEngine(SAMPLE_RATE, BUFFER_SIZE)\n",
    "\n",
    "# Make a processor and give it the unique name \"my_synth\", which we use later.\n",
    "synth = engine.make_plugin_processor(\"my_synth\", SYNTH_PLUGIN)\n",
    "assert synth.get_name() == \"my_synth\"\n",
    "\n",
    "# IGNORE THE PRINTED ERROR \"error: attempt to map invalid URI `/Users/vedant/../../Library/Audio/Plug-Ins/Components/TAL-NoiseMaker.component'\""
   ]
  },
  {
   "cell_type": "markdown",
   "metadata": {},
   "source": [
    "# Playing with Parameters"
   ]
  },
  {
   "cell_type": "code",
   "execution_count": 8,
   "metadata": {},
   "outputs": [],
   "source": [
    "# Load a pre-saved state\n",
    "synth.load_state('../resources/plugins/params/save_states/BasePad')"
   ]
  },
  {
   "cell_type": "code",
   "execution_count": 64,
   "metadata": {},
   "outputs": [
    {
     "name": "stderr",
     "output_type": "stream",
     "text": [
      "Closing VST UI: TAL-NoiseMaker\n"
     ]
    }
   ],
   "source": [
    "# Open the plugin GUI\n",
    "synth.open_editor()"
   ]
  },
  {
   "cell_type": "code",
   "execution_count": 63,
   "metadata": {},
   "outputs": [],
   "source": [
    "# Save the plugin state\n",
    "synth.save_state('../resources/plugins/params/save_states/TwoFlower')"
   ]
  },
  {
   "cell_type": "code",
   "execution_count": 70,
   "metadata": {},
   "outputs": [
    {
     "data": {
      "text/plain": [
       "0.27272728085517883"
      ]
     },
     "execution_count": 70,
     "metadata": {},
     "output_type": "execute_result"
    }
   ],
   "source": [
    "synth.get_parameter(2)"
   ]
  },
  {
   "cell_type": "code",
   "execution_count": 104,
   "metadata": {},
   "outputs": [],
   "source": [
    "import pandas as pd\n",
    "master_parameters = pd.DataFrame()"
   ]
  },
  {
   "cell_type": "code",
   "execution_count": 3,
   "metadata": {},
   "outputs": [
    {
     "data": {
      "text/plain": [
       "['TwoFlower',\n",
       " 'Bellomatism',\n",
       " 'GatedPad',\n",
       " 'FloatingPad',\n",
       " 'FantasyPad',\n",
       " 'FuzzyChorda',\n",
       " 'BigTrancer',\n",
       " 'LuxuryStrings',\n",
       " 'BitOrchestra',\n",
       " 'DarkAnimations',\n",
       " 'SunRise',\n",
       " 'DreamOf86',\n",
       " 'ParallaxPad',\n",
       " 'PadWobbler',\n",
       " 'SweetAnalogue',\n",
       " 'RingmodMod',\n",
       " 'BurstingPad',\n",
       " 'Tron',\n",
       " 'BionicPad',\n",
       " 'Lightstorm',\n",
       " 'OpenSquare',\n",
       " 'Ringmodded',\n",
       " 'Glasometer',\n",
       " 'Easymat',\n",
       " 'BasePad',\n",
       " 'SpookyOrgan']"
      ]
     },
     "execution_count": 3,
     "metadata": {},
     "output_type": "execute_result"
    }
   ],
   "source": [
    "os.listdir('../resources/plugins/params/save_states')"
   ]
  },
  {
   "cell_type": "code",
   "execution_count": 80,
   "metadata": {},
   "outputs": [],
   "source": [
    "param_name=[]\n",
    "param_number = []\n",
    "preset_names=[]\n",
    "param_value=[]\n",
    "\n",
    "for preset_name in os.listdir('../resources/plugins/params/save_states'):\n",
    "    synth.load_state('../resources/plugins/params/save_states/'+preset_name)\n",
    "    for i in range(len(synth.get_parameters_description())):\n",
    "        param_name.append(synth.get_parameter_name(i).lower().replace(' ','_'))\n",
    "        param_number.append(i)\n",
    "        preset_names.append(preset_name)\n",
    "        param_value.append(synth.get_parameter(i))"
   ]
  },
  {
   "cell_type": "code",
   "execution_count": 105,
   "metadata": {},
   "outputs": [],
   "source": [
    "master_parameters['parameter_name'] = param_name\n",
    "master_parameters['parameter_number'] = param_number\n",
    "master_parameters['preset_name'] = preset_names\n",
    "master_parameters['parameter_value'] = param_value\n",
    "\n",
    "master_parameters['mean'] = master_parameters['parameter_value']\n",
    "master_parameters['std'] = master_parameters['parameter_value']/10"
   ]
  },
  {
   "cell_type": "code",
   "execution_count": 107,
   "metadata": {},
   "outputs": [
    {
     "data": {
      "text/html": [
       "<div>\n",
       "<style scoped>\n",
       "    .dataframe tbody tr th:only-of-type {\n",
       "        vertical-align: middle;\n",
       "    }\n",
       "\n",
       "    .dataframe tbody tr th {\n",
       "        vertical-align: top;\n",
       "    }\n",
       "\n",
       "    .dataframe thead th {\n",
       "        text-align: right;\n",
       "    }\n",
       "</style>\n",
       "<table border=\"1\" class=\"dataframe\">\n",
       "  <thead>\n",
       "    <tr style=\"text-align: right;\">\n",
       "      <th></th>\n",
       "      <th>parameter_name</th>\n",
       "      <th>parameter_number</th>\n",
       "      <th>preset_name</th>\n",
       "      <th>parameter_value</th>\n",
       "      <th>mean</th>\n",
       "      <th>std</th>\n",
       "    </tr>\n",
       "  </thead>\n",
       "  <tbody>\n",
       "    <tr>\n",
       "      <th>0</th>\n",
       "      <td>-</td>\n",
       "      <td>0</td>\n",
       "      <td>TwoFlower</td>\n",
       "      <td>0.500000</td>\n",
       "      <td>0.500000</td>\n",
       "      <td>0.050000</td>\n",
       "    </tr>\n",
       "    <tr>\n",
       "      <th>1</th>\n",
       "      <td>master_volume</td>\n",
       "      <td>1</td>\n",
       "      <td>TwoFlower</td>\n",
       "      <td>0.452000</td>\n",
       "      <td>0.452000</td>\n",
       "      <td>0.045200</td>\n",
       "    </tr>\n",
       "    <tr>\n",
       "      <th>2</th>\n",
       "      <td>filter_type</td>\n",
       "      <td>2</td>\n",
       "      <td>TwoFlower</td>\n",
       "      <td>0.272727</td>\n",
       "      <td>0.272727</td>\n",
       "      <td>0.027273</td>\n",
       "    </tr>\n",
       "    <tr>\n",
       "      <th>3</th>\n",
       "      <td>filter_cutoff</td>\n",
       "      <td>3</td>\n",
       "      <td>TwoFlower</td>\n",
       "      <td>0.404000</td>\n",
       "      <td>0.404000</td>\n",
       "      <td>0.040400</td>\n",
       "    </tr>\n",
       "    <tr>\n",
       "      <th>4</th>\n",
       "      <td>filter_resonance</td>\n",
       "      <td>4</td>\n",
       "      <td>TwoFlower</td>\n",
       "      <td>0.156000</td>\n",
       "      <td>0.156000</td>\n",
       "      <td>0.015600</td>\n",
       "    </tr>\n",
       "    <tr>\n",
       "      <th>...</th>\n",
       "      <td>...</td>\n",
       "      <td>...</td>\n",
       "      <td>...</td>\n",
       "      <td>...</td>\n",
       "      <td>...</td>\n",
       "      <td>...</td>\n",
       "    </tr>\n",
       "    <tr>\n",
       "      <th>2283</th>\n",
       "      <td>delay_high_shelf</td>\n",
       "      <td>83</td>\n",
       "      <td>SpookyOrgan</td>\n",
       "      <td>0.000000</td>\n",
       "      <td>0.000000</td>\n",
       "      <td>0.000000</td>\n",
       "    </tr>\n",
       "    <tr>\n",
       "      <th>2284</th>\n",
       "      <td>delay_low_shelf</td>\n",
       "      <td>84</td>\n",
       "      <td>SpookyOrgan</td>\n",
       "      <td>0.000000</td>\n",
       "      <td>0.000000</td>\n",
       "      <td>0.000000</td>\n",
       "    </tr>\n",
       "    <tr>\n",
       "      <th>2285</th>\n",
       "      <td>delay_feedback</td>\n",
       "      <td>85</td>\n",
       "      <td>SpookyOrgan</td>\n",
       "      <td>0.000000</td>\n",
       "      <td>0.000000</td>\n",
       "      <td>0.000000</td>\n",
       "    </tr>\n",
       "    <tr>\n",
       "      <th>2286</th>\n",
       "      <td>midi_clear</td>\n",
       "      <td>86</td>\n",
       "      <td>SpookyOrgan</td>\n",
       "      <td>0.000000</td>\n",
       "      <td>0.000000</td>\n",
       "      <td>0.000000</td>\n",
       "    </tr>\n",
       "    <tr>\n",
       "      <th>2287</th>\n",
       "      <td>midi_lock</td>\n",
       "      <td>87</td>\n",
       "      <td>SpookyOrgan</td>\n",
       "      <td>0.000000</td>\n",
       "      <td>0.000000</td>\n",
       "      <td>0.000000</td>\n",
       "    </tr>\n",
       "  </tbody>\n",
       "</table>\n",
       "<p>2288 rows × 6 columns</p>\n",
       "</div>"
      ],
      "text/plain": [
       "        parameter_name  parameter_number  preset_name  parameter_value  \\\n",
       "0                    -                 0    TwoFlower         0.500000   \n",
       "1        master_volume                 1    TwoFlower         0.452000   \n",
       "2          filter_type                 2    TwoFlower         0.272727   \n",
       "3        filter_cutoff                 3    TwoFlower         0.404000   \n",
       "4     filter_resonance                 4    TwoFlower         0.156000   \n",
       "...                ...               ...          ...              ...   \n",
       "2283  delay_high_shelf                83  SpookyOrgan         0.000000   \n",
       "2284   delay_low_shelf                84  SpookyOrgan         0.000000   \n",
       "2285    delay_feedback                85  SpookyOrgan         0.000000   \n",
       "2286        midi_clear                86  SpookyOrgan         0.000000   \n",
       "2287         midi_lock                87  SpookyOrgan         0.000000   \n",
       "\n",
       "          mean       std  \n",
       "0     0.500000  0.050000  \n",
       "1     0.452000  0.045200  \n",
       "2     0.272727  0.027273  \n",
       "3     0.404000  0.040400  \n",
       "4     0.156000  0.015600  \n",
       "...        ...       ...  \n",
       "2283  0.000000  0.000000  \n",
       "2284  0.000000  0.000000  \n",
       "2285  0.000000  0.000000  \n",
       "2286  0.000000  0.000000  \n",
       "2287  0.000000  0.000000  \n",
       "\n",
       "[2288 rows x 6 columns]"
      ]
     },
     "execution_count": 107,
     "metadata": {},
     "output_type": "execute_result"
    }
   ],
   "source": [
    "master_parameters"
   ]
  },
  {
   "cell_type": "code",
   "execution_count": 106,
   "metadata": {},
   "outputs": [],
   "source": [
    "master_parameters.to_csv('../resources/working_data/preset_parameter_mapping.csv',header=True, index=False)"
   ]
  },
  {
   "cell_type": "code",
   "execution_count": 33,
   "metadata": {},
   "outputs": [
    {
     "name": "stdout",
     "output_type": "stream",
     "text": [
      "88\n",
      "[{'index': 0, 'name': '-', 'numSteps': 2147483647, 'isDiscrete': False, 'label': '', 'text': '0.5', 'isMetaParameter': False, 'isAutomatable': True}, {'index': 1, 'name': 'Master Volume', 'numSteps': 2147483647, 'isDiscrete': False, 'label': '', 'text': '0.28', 'isMetaParameter': False, 'isAutomatable': True}, {'index': 2, 'name': 'Filter Type', 'numSteps': 2147483647, 'isDiscrete': False, 'label': '', 'text': '0', 'isMetaParameter': False, 'isAutomatable': True}, {'index': 3, 'name': 'Filter Cutoff', 'numSteps': 2147483647, 'isDiscrete': False, 'label': '', 'text': '0.392', 'isMetaParameter': False, 'isAutomatable': True}, {'index': 4, 'name': 'Filter Resonance', 'numSteps': 2147483647, 'isDiscrete': False, 'label': '', 'text': '0.272', 'isMetaParameter': False, 'isAutomatable': True}, {'index': 5, 'name': 'Fitler Keyfollow', 'numSteps': 2147483647, 'isDiscrete': False, 'label': '', 'text': '1', 'isMetaParameter': False, 'isAutomatable': True}, {'index': 6, 'name': 'Filter Contour', 'numSteps': 2147483647, 'isDiscrete': False, 'label': '', 'text': '0.58', 'isMetaParameter': False, 'isAutomatable': True}, {'index': 7, 'name': 'Filter Attack', 'numSteps': 2147483647, 'isDiscrete': False, 'label': '', 'text': '0.54', 'isMetaParameter': False, 'isAutomatable': True}, {'index': 8, 'name': 'Filter Decay', 'numSteps': 2147483647, 'isDiscrete': False, 'label': '', 'text': '0', 'isMetaParameter': False, 'isAutomatable': True}, {'index': 9, 'name': 'Filter Sustain', 'numSteps': 2147483647, 'isDiscrete': False, 'label': '', 'text': '1', 'isMetaParameter': False, 'isAutomatable': True}, {'index': 10, 'name': 'Filter Release', 'numSteps': 2147483647, 'isDiscrete': False, 'label': '', 'text': '0.568', 'isMetaParameter': False, 'isAutomatable': True}, {'index': 11, 'name': 'Amp Attack', 'numSteps': 2147483647, 'isDiscrete': False, 'label': '', 'text': '0.32', 'isMetaParameter': False, 'isAutomatable': True}, {'index': 12, 'name': 'Amp Decay', 'numSteps': 2147483647, 'isDiscrete': False, 'label': '', 'text': '0', 'isMetaParameter': False, 'isAutomatable': True}, {'index': 13, 'name': 'Amp Sustain', 'numSteps': 2147483647, 'isDiscrete': False, 'label': '', 'text': '1', 'isMetaParameter': False, 'isAutomatable': True}, {'index': 14, 'name': 'Amp Release', 'numSteps': 2147483647, 'isDiscrete': False, 'label': '', 'text': '0.588', 'isMetaParameter': False, 'isAutomatable': True}, {'index': 15, 'name': 'Osc 1 Volume', 'numSteps': 2147483647, 'isDiscrete': False, 'label': '', 'text': '0.8', 'isMetaParameter': False, 'isAutomatable': True}, {'index': 16, 'name': 'Osc 2 Volume', 'numSteps': 2147483647, 'isDiscrete': False, 'label': '', 'text': '0', 'isMetaParameter': False, 'isAutomatable': True}, {'index': 17, 'name': 'Osc 3 Volume', 'numSteps': 2147483647, 'isDiscrete': False, 'label': '', 'text': '0.724', 'isMetaParameter': False, 'isAutomatable': True}, {'index': 18, 'name': 'Osc Mastertune', 'numSteps': 2147483647, 'isDiscrete': False, 'label': '', 'text': '0.5', 'isMetaParameter': False, 'isAutomatable': True}, {'index': 19, 'name': 'Osc 1 Tune', 'numSteps': 2147483647, 'isDiscrete': False, 'label': '', 'text': '0', 'isMetaParameter': False, 'isAutomatable': True}, {'index': 20, 'name': 'Osc 2 Tune', 'numSteps': 2147483647, 'isDiscrete': False, 'label': '', 'text': '0.756', 'isMetaParameter': False, 'isAutomatable': True}, {'index': 21, 'name': 'Osc 1 Fine Tune', 'numSteps': 2147483647, 'isDiscrete': False, 'label': '', 'text': '0.504', 'isMetaParameter': False, 'isAutomatable': True}, {'index': 22, 'name': 'Osc 2 Fine Tune', 'numSteps': 2147483647, 'isDiscrete': False, 'label': '', 'text': '0.388', 'isMetaParameter': False, 'isAutomatable': True}, {'index': 23, 'name': 'Osc 1 Waveform', 'numSteps': 2147483647, 'isDiscrete': False, 'label': '', 'text': '0.5', 'isMetaParameter': False, 'isAutomatable': True}, {'index': 24, 'name': 'Osc 1 Waveform', 'numSteps': 2147483647, 'isDiscrete': False, 'label': '', 'text': '0.25', 'isMetaParameter': False, 'isAutomatable': True}, {'index': 25, 'name': 'Osc Sync', 'numSteps': 2147483647, 'isDiscrete': False, 'label': '', 'text': '0', 'isMetaParameter': False, 'isAutomatable': True}, {'index': 26, 'name': 'Lfo 1 Waveform', 'numSteps': 2147483647, 'isDiscrete': False, 'label': '', 'text': '0.144', 'isMetaParameter': False, 'isAutomatable': True}, {'index': 27, 'name': 'Lfo 2 Waveform', 'numSteps': 2147483647, 'isDiscrete': False, 'label': '', 'text': '0', 'isMetaParameter': False, 'isAutomatable': True}, {'index': 28, 'name': 'Lfo 1 Rate', 'numSteps': 2147483647, 'isDiscrete': False, 'label': '', 'text': '0.176', 'isMetaParameter': False, 'isAutomatable': True}, {'index': 29, 'name': 'Lfo 2 Rate', 'numSteps': 2147483647, 'isDiscrete': False, 'label': '', 'text': '0.148', 'isMetaParameter': False, 'isAutomatable': True}, {'index': 30, 'name': 'Lfo 1 Amount', 'numSteps': 2147483647, 'isDiscrete': False, 'label': '', 'text': '0.724', 'isMetaParameter': False, 'isAutomatable': True}, {'index': 31, 'name': 'Lfo 2 Amount', 'numSteps': 2147483647, 'isDiscrete': False, 'label': '', 'text': '0.636', 'isMetaParameter': False, 'isAutomatable': True}, {'index': 32, 'name': 'Lfo 1 Destination', 'numSteps': 2147483647, 'isDiscrete': False, 'label': '', 'text': '0.571429', 'isMetaParameter': False, 'isAutomatable': True}, {'index': 33, 'name': 'Lfo 2 Destination', 'numSteps': 2147483647, 'isDiscrete': False, 'label': '', 'text': '0.142857', 'isMetaParameter': False, 'isAutomatable': True}, {'index': 34, 'name': 'Lfo 1 Phase', 'numSteps': 2147483647, 'isDiscrete': False, 'label': '', 'text': '0', 'isMetaParameter': False, 'isAutomatable': True}, {'index': 35, 'name': 'Lfo 2 Phase', 'numSteps': 2147483647, 'isDiscrete': False, 'label': '', 'text': '0', 'isMetaParameter': False, 'isAutomatable': True}, {'index': 36, 'name': 'Osc 2 FM', 'numSteps': 2147483647, 'isDiscrete': False, 'label': '', 'text': '0', 'isMetaParameter': False, 'isAutomatable': True}, {'index': 37, 'name': 'Osc 2 Phase', 'numSteps': 2147483647, 'isDiscrete': False, 'label': '', 'text': '0', 'isMetaParameter': False, 'isAutomatable': True}, {'index': 38, 'name': 'Osc 2 PW', 'numSteps': 2147483647, 'isDiscrete': False, 'label': '', 'text': '0.296', 'isMetaParameter': False, 'isAutomatable': True}, {'index': 39, 'name': 'Osc 2 Phase', 'numSteps': 2147483647, 'isDiscrete': False, 'label': '', 'text': '0', 'isMetaParameter': False, 'isAutomatable': True}, {'index': 40, 'name': 'Transpose', 'numSteps': 2147483647, 'isDiscrete': False, 'label': '', 'text': '1', 'isMetaParameter': False, 'isAutomatable': True}, {'index': 41, 'name': 'Free Ad Attack', 'numSteps': 2147483647, 'isDiscrete': False, 'label': '', 'text': '0', 'isMetaParameter': False, 'isAutomatable': True}, {'index': 42, 'name': 'Free Ad Decay', 'numSteps': 2147483647, 'isDiscrete': False, 'label': '', 'text': '0', 'isMetaParameter': False, 'isAutomatable': True}, {'index': 43, 'name': 'Free Ad Amount', 'numSteps': 2147483647, 'isDiscrete': False, 'label': '', 'text': '0', 'isMetaParameter': False, 'isAutomatable': True}, {'index': 44, 'name': 'Free Ad Destination', 'numSteps': 2147483647, 'isDiscrete': False, 'label': '', 'text': '0', 'isMetaParameter': False, 'isAutomatable': True}, {'index': 45, 'name': 'Lfo 1 Sync', 'numSteps': 2147483647, 'isDiscrete': False, 'label': '', 'text': '0', 'isMetaParameter': False, 'isAutomatable': True}, {'index': 46, 'name': 'Lfo 1 Keytrigger', 'numSteps': 2147483647, 'isDiscrete': False, 'label': '', 'text': '0', 'isMetaParameter': False, 'isAutomatable': True}, {'index': 47, 'name': 'Lfo 2 Sync', 'numSteps': 2147483647, 'isDiscrete': False, 'label': '', 'text': '0', 'isMetaParameter': False, 'isAutomatable': True}, {'index': 48, 'name': 'Lfo 2 Keytrigger', 'numSteps': 2147483647, 'isDiscrete': False, 'label': '', 'text': '0', 'isMetaParameter': False, 'isAutomatable': True}, {'index': 49, 'name': 'Portamento Amount', 'numSteps': 2147483647, 'isDiscrete': False, 'label': '', 'text': '0', 'isMetaParameter': False, 'isAutomatable': True}, {'index': 50, 'name': 'Portamento Mode', 'numSteps': 2147483647, 'isDiscrete': False, 'label': '', 'text': '0', 'isMetaParameter': False, 'isAutomatable': True}, {'index': 51, 'name': 'Voices', 'numSteps': 2147483647, 'isDiscrete': False, 'label': '', 'text': '0.4', 'isMetaParameter': False, 'isAutomatable': True}, {'index': 52, 'name': 'Velocity Volume', 'numSteps': 2147483647, 'isDiscrete': False, 'label': '', 'text': '0', 'isMetaParameter': False, 'isAutomatable': True}, {'index': 53, 'name': 'Velocity Contour', 'numSteps': 2147483647, 'isDiscrete': False, 'label': '', 'text': '0', 'isMetaParameter': False, 'isAutomatable': True}, {'index': 54, 'name': 'Velocity Filter', 'numSteps': 2147483647, 'isDiscrete': False, 'label': '', 'text': '0', 'isMetaParameter': False, 'isAutomatable': True}, {'index': 55, 'name': 'Pitchwheel Cutoff', 'numSteps': 2147483647, 'isDiscrete': False, 'label': '', 'text': '0', 'isMetaParameter': False, 'isAutomatable': True}, {'index': 56, 'name': 'Pitchwheel Pitch', 'numSteps': 2147483647, 'isDiscrete': False, 'label': '', 'text': '0', 'isMetaParameter': False, 'isAutomatable': True}, {'index': 57, 'name': 'Ringmodulation', 'numSteps': 2147483647, 'isDiscrete': False, 'label': '', 'text': '0', 'isMetaParameter': False, 'isAutomatable': True}, {'index': 58, 'name': 'Chorus 1 Enable', 'numSteps': 2147483647, 'isDiscrete': False, 'label': '', 'text': '1', 'isMetaParameter': False, 'isAutomatable': True}, {'index': 59, 'name': 'Chorus 2 Enable', 'numSteps': 2147483647, 'isDiscrete': False, 'label': '', 'text': '0', 'isMetaParameter': False, 'isAutomatable': True}, {'index': 60, 'name': 'Reverb Wet', 'numSteps': 2147483647, 'isDiscrete': False, 'label': '', 'text': '0', 'isMetaParameter': False, 'isAutomatable': True}, {'index': 61, 'name': 'Reverb Decay', 'numSteps': 2147483647, 'isDiscrete': False, 'label': '', 'text': '0.764', 'isMetaParameter': False, 'isAutomatable': True}, {'index': 62, 'name': 'Reverb Pre Delay', 'numSteps': 2147483647, 'isDiscrete': False, 'label': '', 'text': '0', 'isMetaParameter': False, 'isAutomatable': True}, {'index': 63, 'name': 'Reverb High Cut', 'numSteps': 2147483647, 'isDiscrete': False, 'label': '', 'text': '0.14', 'isMetaParameter': False, 'isAutomatable': True}, {'index': 64, 'name': 'Reverb Low Cut', 'numSteps': 2147483647, 'isDiscrete': False, 'label': '', 'text': '0.752', 'isMetaParameter': False, 'isAutomatable': True}, {'index': 65, 'name': 'Osc Bitcrusher', 'numSteps': 2147483647, 'isDiscrete': False, 'label': '', 'text': '1', 'isMetaParameter': False, 'isAutomatable': True}, {'index': 66, 'name': 'Master High Pass', 'numSteps': 2147483647, 'isDiscrete': False, 'label': '', 'text': '0.536', 'isMetaParameter': False, 'isAutomatable': True}, {'index': 67, 'name': 'Master Detune', 'numSteps': 2147483647, 'isDiscrete': False, 'label': '', 'text': '0.424', 'isMetaParameter': False, 'isAutomatable': True}, {'index': 68, 'name': 'Vintage Noise', 'numSteps': 2147483647, 'isDiscrete': False, 'label': '', 'text': '0', 'isMetaParameter': False, 'isAutomatable': True}, {'index': 69, 'name': 'Panic', 'numSteps': 2147483647, 'isDiscrete': False, 'label': '', 'text': '0', 'isMetaParameter': False, 'isAutomatable': True}, {'index': 70, 'name': 'MIDI LEARN', 'numSteps': 2147483647, 'isDiscrete': False, 'label': '', 'text': '0', 'isMetaParameter': False, 'isAutomatable': True}, {'index': 71, 'name': 'Envelope Destination', 'numSteps': 2147483647, 'isDiscrete': False, 'label': '', 'text': '0', 'isMetaParameter': False, 'isAutomatable': True}, {'index': 72, 'name': 'Envelope Speed', 'numSteps': 2147483647, 'isDiscrete': False, 'label': '', 'text': '0', 'isMetaParameter': False, 'isAutomatable': True}, {'index': 73, 'name': 'Envelope Amount', 'numSteps': 2147483647, 'isDiscrete': False, 'label': '', 'text': '0', 'isMetaParameter': False, 'isAutomatable': True}, {'index': 74, 'name': 'Envelope One Shot Mode', 'numSteps': 2147483647, 'isDiscrete': False, 'label': '', 'text': '0', 'isMetaParameter': False, 'isAutomatable': True}, {'index': 75, 'name': 'Envelope Fix Tempo', 'numSteps': 2147483647, 'isDiscrete': False, 'label': '', 'text': '0', 'isMetaParameter': False, 'isAutomatable': True}, {'index': 76, 'name': 'Envelope Reset', 'numSteps': 2147483647, 'isDiscrete': False, 'label': '', 'text': '0', 'isMetaParameter': False, 'isAutomatable': True}, {'index': 77, 'name': 'Filter Drive', 'numSteps': 2147483647, 'isDiscrete': False, 'label': '', 'text': '0', 'isMetaParameter': False, 'isAutomatable': True}, {'index': 78, 'name': 'Delay Wet', 'numSteps': 2147483647, 'isDiscrete': False, 'label': '', 'text': '0', 'isMetaParameter': False, 'isAutomatable': True}, {'index': 79, 'name': 'Delay Time', 'numSteps': 2147483647, 'isDiscrete': False, 'label': '', 'text': '0.5', 'isMetaParameter': False, 'isAutomatable': True}, {'index': 80, 'name': 'Delay Sync', 'numSteps': 2147483647, 'isDiscrete': False, 'label': '', 'text': '0', 'isMetaParameter': False, 'isAutomatable': True}, {'index': 81, 'name': 'Delay x2 L', 'numSteps': 2147483647, 'isDiscrete': False, 'label': '', 'text': '0', 'isMetaParameter': False, 'isAutomatable': True}, {'index': 82, 'name': 'Delay x2 R', 'numSteps': 2147483647, 'isDiscrete': False, 'label': '', 'text': '0', 'isMetaParameter': False, 'isAutomatable': True}, {'index': 83, 'name': 'Delay High Shelf', 'numSteps': 2147483647, 'isDiscrete': False, 'label': '', 'text': '0', 'isMetaParameter': False, 'isAutomatable': True}, {'index': 84, 'name': 'Delay Low Shelf', 'numSteps': 2147483647, 'isDiscrete': False, 'label': '', 'text': '0', 'isMetaParameter': False, 'isAutomatable': True}, {'index': 85, 'name': 'Delay Feedback', 'numSteps': 2147483647, 'isDiscrete': False, 'label': '', 'text': '0.5', 'isMetaParameter': False, 'isAutomatable': True}, {'index': 86, 'name': 'MIDI Clear', 'numSteps': 2147483647, 'isDiscrete': False, 'label': '', 'text': '0', 'isMetaParameter': False, 'isAutomatable': True}, {'index': 87, 'name': 'MIDI Lock', 'numSteps': 2147483647, 'isDiscrete': False, 'label': '', 'text': '0', 'isMetaParameter': False, 'isAutomatable': True}]\n"
     ]
    }
   ],
   "source": [
    "# Get a list of dictionaries where each dictionary describes a controllable parameter.\n",
    "print(len(synth.get_parameters_description())) \n",
    "print(synth.get_parameters_description()) "
   ]
  },
  {
   "cell_type": "markdown",
   "metadata": {},
   "source": [
    "Creating a dict of the parameter number mapped to parameter name"
   ]
  },
  {
   "cell_type": "code",
   "execution_count": 68,
   "metadata": {},
   "outputs": [],
   "source": [
    "mapping = {}\n",
    "for i in range(len(synth.get_parameters_description())):\n",
    "    mapping[i] = synth.get_parameter_name(i).lower().replace(' ','_')\n",
    "\n",
    "mapping_flipped = dict(zip(mapping.values(), mapping.keys()))"
   ]
  },
  {
   "cell_type": "code",
   "execution_count": null,
   "metadata": {},
   "outputs": [],
   "source": [
    "ignored_params = ['-','master_volume','midi_clear', 'midi_lock']"
   ]
  },
  {
   "cell_type": "code",
   "execution_count": 113,
   "metadata": {},
   "outputs": [],
   "source": [
    "target_preset = master_parameters[master_parameters['preset_name'] == 'BasePad']"
   ]
  },
  {
   "cell_type": "code",
   "execution_count": 114,
   "metadata": {},
   "outputs": [
    {
     "name": "stderr",
     "output_type": "stream",
     "text": [
      "/var/folders/hs/h9zhlkvj4b9d3mmzwzsd87vr0000gn/T/ipykernel_4520/3592674759.py:2: SettingWithCopyWarning: \n",
      "A value is trying to be set on a copy of a slice from a DataFrame.\n",
      "Try using .loc[row_indexer,col_indexer] = value instead\n",
      "\n",
      "See the caveats in the documentation: https://pandas.pydata.org/pandas-docs/stable/user_guide/indexing.html#returning-a-view-versus-a-copy\n",
      "  target_preset['value'] = np.random.normal(target_preset['mean'], target_preset['std'])\n"
     ]
    }
   ],
   "source": [
    "# Values can be sampled using the below logic after filtering to remove ignored params\n",
    "target_preset['value'] = np.random.normal(target_preset['mean'], target_preset['std'])"
   ]
  },
  {
   "cell_type": "code",
   "execution_count": 115,
   "metadata": {},
   "outputs": [
    {
     "data": {
      "text/html": [
       "<div>\n",
       "<style scoped>\n",
       "    .dataframe tbody tr th:only-of-type {\n",
       "        vertical-align: middle;\n",
       "    }\n",
       "\n",
       "    .dataframe tbody tr th {\n",
       "        vertical-align: top;\n",
       "    }\n",
       "\n",
       "    .dataframe thead th {\n",
       "        text-align: right;\n",
       "    }\n",
       "</style>\n",
       "<table border=\"1\" class=\"dataframe\">\n",
       "  <thead>\n",
       "    <tr style=\"text-align: right;\">\n",
       "      <th></th>\n",
       "      <th>parameter_name</th>\n",
       "      <th>parameter_number</th>\n",
       "      <th>preset_name</th>\n",
       "      <th>parameter_value</th>\n",
       "      <th>mean</th>\n",
       "      <th>std</th>\n",
       "      <th>value</th>\n",
       "    </tr>\n",
       "  </thead>\n",
       "  <tbody>\n",
       "    <tr>\n",
       "      <th>2112</th>\n",
       "      <td>-</td>\n",
       "      <td>0</td>\n",
       "      <td>BasePad</td>\n",
       "      <td>0.500</td>\n",
       "      <td>0.500</td>\n",
       "      <td>0.0500</td>\n",
       "      <td>0.473313</td>\n",
       "    </tr>\n",
       "    <tr>\n",
       "      <th>2113</th>\n",
       "      <td>master_volume</td>\n",
       "      <td>1</td>\n",
       "      <td>BasePad</td>\n",
       "      <td>0.280</td>\n",
       "      <td>0.280</td>\n",
       "      <td>0.0280</td>\n",
       "      <td>0.246417</td>\n",
       "    </tr>\n",
       "    <tr>\n",
       "      <th>2114</th>\n",
       "      <td>filter_type</td>\n",
       "      <td>2</td>\n",
       "      <td>BasePad</td>\n",
       "      <td>0.000</td>\n",
       "      <td>0.000</td>\n",
       "      <td>0.0000</td>\n",
       "      <td>0.000000</td>\n",
       "    </tr>\n",
       "    <tr>\n",
       "      <th>2115</th>\n",
       "      <td>filter_cutoff</td>\n",
       "      <td>3</td>\n",
       "      <td>BasePad</td>\n",
       "      <td>0.392</td>\n",
       "      <td>0.392</td>\n",
       "      <td>0.0392</td>\n",
       "      <td>0.422235</td>\n",
       "    </tr>\n",
       "    <tr>\n",
       "      <th>2116</th>\n",
       "      <td>filter_resonance</td>\n",
       "      <td>4</td>\n",
       "      <td>BasePad</td>\n",
       "      <td>0.272</td>\n",
       "      <td>0.272</td>\n",
       "      <td>0.0272</td>\n",
       "      <td>0.285550</td>\n",
       "    </tr>\n",
       "    <tr>\n",
       "      <th>...</th>\n",
       "      <td>...</td>\n",
       "      <td>...</td>\n",
       "      <td>...</td>\n",
       "      <td>...</td>\n",
       "      <td>...</td>\n",
       "      <td>...</td>\n",
       "      <td>...</td>\n",
       "    </tr>\n",
       "    <tr>\n",
       "      <th>2195</th>\n",
       "      <td>delay_high_shelf</td>\n",
       "      <td>83</td>\n",
       "      <td>BasePad</td>\n",
       "      <td>0.000</td>\n",
       "      <td>0.000</td>\n",
       "      <td>0.0000</td>\n",
       "      <td>0.000000</td>\n",
       "    </tr>\n",
       "    <tr>\n",
       "      <th>2196</th>\n",
       "      <td>delay_low_shelf</td>\n",
       "      <td>84</td>\n",
       "      <td>BasePad</td>\n",
       "      <td>0.000</td>\n",
       "      <td>0.000</td>\n",
       "      <td>0.0000</td>\n",
       "      <td>0.000000</td>\n",
       "    </tr>\n",
       "    <tr>\n",
       "      <th>2197</th>\n",
       "      <td>delay_feedback</td>\n",
       "      <td>85</td>\n",
       "      <td>BasePad</td>\n",
       "      <td>0.500</td>\n",
       "      <td>0.500</td>\n",
       "      <td>0.0500</td>\n",
       "      <td>0.421736</td>\n",
       "    </tr>\n",
       "    <tr>\n",
       "      <th>2198</th>\n",
       "      <td>midi_clear</td>\n",
       "      <td>86</td>\n",
       "      <td>BasePad</td>\n",
       "      <td>0.000</td>\n",
       "      <td>0.000</td>\n",
       "      <td>0.0000</td>\n",
       "      <td>0.000000</td>\n",
       "    </tr>\n",
       "    <tr>\n",
       "      <th>2199</th>\n",
       "      <td>midi_lock</td>\n",
       "      <td>87</td>\n",
       "      <td>BasePad</td>\n",
       "      <td>0.000</td>\n",
       "      <td>0.000</td>\n",
       "      <td>0.0000</td>\n",
       "      <td>0.000000</td>\n",
       "    </tr>\n",
       "  </tbody>\n",
       "</table>\n",
       "<p>88 rows × 7 columns</p>\n",
       "</div>"
      ],
      "text/plain": [
       "        parameter_name  parameter_number preset_name  parameter_value   mean  \\\n",
       "2112                 -                 0     BasePad            0.500  0.500   \n",
       "2113     master_volume                 1     BasePad            0.280  0.280   \n",
       "2114       filter_type                 2     BasePad            0.000  0.000   \n",
       "2115     filter_cutoff                 3     BasePad            0.392  0.392   \n",
       "2116  filter_resonance                 4     BasePad            0.272  0.272   \n",
       "...                ...               ...         ...              ...    ...   \n",
       "2195  delay_high_shelf                83     BasePad            0.000  0.000   \n",
       "2196   delay_low_shelf                84     BasePad            0.000  0.000   \n",
       "2197    delay_feedback                85     BasePad            0.500  0.500   \n",
       "2198        midi_clear                86     BasePad            0.000  0.000   \n",
       "2199         midi_lock                87     BasePad            0.000  0.000   \n",
       "\n",
       "         std     value  \n",
       "2112  0.0500  0.473313  \n",
       "2113  0.0280  0.246417  \n",
       "2114  0.0000  0.000000  \n",
       "2115  0.0392  0.422235  \n",
       "2116  0.0272  0.285550  \n",
       "...      ...       ...  \n",
       "2195  0.0000  0.000000  \n",
       "2196  0.0000  0.000000  \n",
       "2197  0.0500  0.421736  \n",
       "2198  0.0000  0.000000  \n",
       "2199  0.0000  0.000000  \n",
       "\n",
       "[88 rows x 7 columns]"
      ]
     },
     "execution_count": 115,
     "metadata": {},
     "output_type": "execute_result"
    }
   ],
   "source": [
    "target_preset"
   ]
  },
  {
   "cell_type": "code",
   "execution_count": 97,
   "metadata": {},
   "outputs": [
    {
     "data": {
      "text/plain": [
       "array([0.48491012, 0.4253679 , 0.30669558, ..., 0.        , 0.        ,\n",
       "       0.        ])"
      ]
     },
     "execution_count": 97,
     "metadata": {},
     "output_type": "execute_result"
    }
   ],
   "source": [
    "np.random.normal(master_parameters['mean'], master_parameters['std'])"
   ]
  },
  {
   "cell_type": "markdown",
   "metadata": {},
   "source": [
    "# Rendering output audio"
   ]
  },
  {
   "cell_type": "code",
   "execution_count": 2,
   "metadata": {},
   "outputs": [
    {
     "name": "stderr",
     "output_type": "stream",
     "text": [
      "error: attempt to map invalid URI `/Users/vedant/../../Library/Audio/Plug-Ins/VST/TAL-NoiseMaker.vst'\n",
      "Attempting to load VST: /Library/Audio/Plug-Ins/VST/TAL-NoiseMaker.vst\n",
      "Creating VST instance: TAL-NoiseMaker\n",
      "Initialising VST: TAL-NoiseMaker (5.0.4.0)\n",
      "Attempting to load VST: /Library/Audio/Plug-Ins/VST/TAL-NoiseMaker.vst\n",
      "Creating VST instance: TAL-NoiseMaker\n",
      "Initialising VST: TAL-NoiseMaker (5.0.4.0)\n"
     ]
    }
   ],
   "source": [
    "from scipy.io import wavfile\n",
    "import dawdreamer as daw\n",
    "import numpy as np\n",
    "import os\n",
    "SAMPLE_RATE = 44100\n",
    "\n",
    "BUFFER_SIZE = 128 # Parameters will undergo automation at this buffer/block size.\n",
    "PPQN = 960 # Pulses per quarter note.\n",
    "SYNTH_PLUGIN = os.path.expanduser('~')+\"/../../Library/Audio/Plug-Ins/VST/TAL-NoiseMaker.vst\"#os.path.expanduser('~')+\"/../../Library/Audio/Plug-Ins/Components/TAL-NoiseMaker.component\"  # extensions: .dll, .vst3, .vst, .component\n",
    "# REVERB_PLUGIN = \"C:/path/to/reverb.dll\"  # extensions: .dll, .vst3, .vst, .component\n",
    "# MIDI_PATH = \"../resources/MIDI/song.mid\"\n",
    "\n",
    "engine = daw.RenderEngine(SAMPLE_RATE, BUFFER_SIZE)\n",
    "\n",
    "# Make a processor and give it the unique name \"my_synth\", which we use later.\n",
    "synth = engine.make_plugin_processor(\"my_synth\", SYNTH_PLUGIN)\n",
    "synth.load_state('../resources/plugins/params/save_states/BasePad')\n",
    "synth.add_midi_note(60, 127, 0.5, .25) # (MIDI note, velocity, start, duration)\n",
    "engine.load_graph([(synth, [])])\n",
    "engine.render(5)\n",
    "output = engine.get_audio()\n",
    "wavfile.write(f'output.wav', SAMPLE_RATE, output.transpose())"
   ]
  },
  {
   "cell_type": "code",
   "execution_count": null,
   "metadata": {},
   "outputs": [],
   "source": []
  }
 ],
 "metadata": {
  "kernelspec": {
   "display_name": "Python 3.10.4 ('bgm-generation')",
   "language": "python",
   "name": "python3"
  },
  "language_info": {
   "codemirror_mode": {
    "name": "ipython",
    "version": 3
   },
   "file_extension": ".py",
   "mimetype": "text/x-python",
   "name": "python",
   "nbconvert_exporter": "python",
   "pygments_lexer": "ipython3",
   "version": "3.10.4"
  },
  "orig_nbformat": 4,
  "vscode": {
   "interpreter": {
    "hash": "11e541338b35738313e8424a03c0ad951310cbc49d68edead48851e8ef14da64"
   }
  }
 },
 "nbformat": 4,
 "nbformat_minor": 2
}
