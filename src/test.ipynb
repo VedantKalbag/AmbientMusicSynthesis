{
 "cells": [
  {
   "cell_type": "code",
   "execution_count": 1,
   "metadata": {},
   "outputs": [],
   "source": [
    "import synth"
   ]
  },
  {
   "cell_type": "code",
   "execution_count": 2,
   "metadata": {},
   "outputs": [],
   "source": [
    "s = synth.Synth(params={\n",
    "        'lfo1_type': 'sine', \n",
    "        'lfo1_freq': 0.5, \n",
    "        'lfo1_depth': 0.5, \n",
    "        'lfo2_type': 'sine', \n",
    "        'lfo2_freq': 0.5, \n",
    "        'lfo2_depth': 0.5, \n",
    "        'osc1_freq': 200.0, \n",
    "        'osc1_relative_shift': 1.0, \n",
    "        'osc1_wave': 'square', \n",
    "        'osc1_detune': 30.0, \n",
    "        'osc2_freq': 400.0, \n",
    "        'osc2_relative_shift': 1.0, \n",
    "        'osc2_wave': 'triangle', \n",
    "        'osc2_detune': 30.0, \n",
    "        'n_voices': 6, \n",
    "        'sub_freq': 100.0, \n",
    "        'sub_wave': 'sine', \n",
    "        'sub_detune': 30.0, \n",
    "        'hf_noise_freq': 1000.0, \n",
    "        'hf_noise_type': 'sine', # TODO FIX THIS PROCESSING FOR THE INTERPOLATION\n",
    "        'lf_noise_freq': 100.0, \n",
    "        'lf_noise_type': 'sine', # TODO FIX THIS PROCESSING FOR THE INTERPOLATION\n",
    "        'filter1_type': 'lowpass', \n",
    "        'filter1_freq': 1000.0, \n",
    "        'filter2_type': 'na', \n",
    "        'filter2_freq': 0.0, \n",
    "        'filter3_type': 'na', \n",
    "        'filter3_freq': 0.0, \n",
    "        'reverb': 0.5, \n",
    "        'vibrato_freq': 0.5, \n",
    "        'vibrato_depth': 0.5, \n",
    "        'attack': 500.0, \n",
    "        'decay': 0.5, \n",
    "        'sustain': 0.5, \n",
    "        'release': 500.0, \n",
    "        'fade_in': 0.5, \n",
    "        'fade_out': 0.5})"
   ]
  },
  {
   "cell_type": "code",
   "execution_count": 1,
   "metadata": {},
   "outputs": [
    {
     "ename": "NameError",
     "evalue": "name 's' is not defined",
     "output_type": "error",
     "traceback": [
      "\u001b[0;31m---------------------------------------------------------------------------\u001b[0m",
      "\u001b[0;31mNameError\u001b[0m                                 Traceback (most recent call last)",
      "\u001b[1;32m/Users/vedant/Desktop/Programming/emotional-background-music-generation/src/test.ipynb Cell 3\u001b[0m in \u001b[0;36m<cell line: 1>\u001b[0;34m()\u001b[0m\n\u001b[0;32m----> <a href='vscode-notebook-cell:/Users/vedant/Desktop/Programming/emotional-background-music-generation/src/test.ipynb#W2sZmlsZQ%3D%3D?line=0'>1</a>\u001b[0m s\u001b[39m.\u001b[39mgenerate_audio(\u001b[39m69\u001b[39m, \u001b[39m2e3\u001b[39m)\u001b[39m.\u001b[39mplay()\n",
      "\u001b[0;31mNameError\u001b[0m: name 's' is not defined"
     ]
    }
   ],
   "source": [
    "s.generate_audio(69, 2e3).play()"
   ]
  },
  {
   "cell_type": "code",
   "execution_count": 5,
   "metadata": {},
   "outputs": [
    {
     "data": {
      "text/plain": [
       "-1"
      ]
     },
     "execution_count": 5,
     "metadata": {},
     "output_type": "execute_result"
    }
   ],
   "source": [
    "param = 'hf_noise_type'\n",
    "param.find('noisea')"
   ]
  },
  {
   "cell_type": "code",
   "execution_count": 1,
   "metadata": {},
   "outputs": [],
   "source": [
    "import main"
   ]
  },
  {
   "cell_type": "code",
   "execution_count": 2,
   "metadata": {},
   "outputs": [
    {
     "name": "stderr",
     "output_type": "stream",
     "text": [
      "Debug | time_interval: (0.0, 20.3)\n",
      "Debug | next_emotion_segment: 2\n",
      "Debug | next_emotion_segment: 2\n",
      "Debug | next_emotion_segment: 2\n",
      "Debug | next_emotion_segment: 2\n",
      "Debug | next_emotion_segment: 2\n",
      "Debug | '------------------------------------------'\n",
      "Debug | len(time_interval_chords): 12\n",
      "Debug | len(time_interval_durations): 12\n",
      "Debug | len(time_interval_durations) == len(time_interval_chords): True\n",
      "Debug | len(time_interval_chords): 12\n",
      "Debug | len(time_interval_durations): 12\n",
      "Debug | len(chords): 12\n",
      "Debug | len(durations): 12\n",
      "Debug | time_interval: (20.3, 40.6)\n",
      "Debug | '------------------------------------------'\n",
      "Debug | len(time_interval_chords): 7\n",
      "Debug | len(time_interval_durations): 7\n",
      "Debug | len(time_interval_durations) == len(time_interval_chords): True\n",
      "Debug | len(time_interval_chords): 7\n",
      "Debug | len(time_interval_durations): 7\n",
      "Debug | len(chords): 19\n",
      "Debug | len(durations): 19\n",
      "Debug | time_interval: (40.6, 60.9)\n",
      "Debug | '------------------------------------------'\n",
      "Debug | len(time_interval_chords): 8\n",
      "Debug | len(time_interval_durations): 8\n",
      "Debug | len(time_interval_durations) == len(time_interval_chords): True\n",
      "Debug | len(time_interval_chords): 8\n",
      "Debug | len(time_interval_durations): 8\n",
      "Debug | len(chords): 27\n",
      "Debug | len(durations): 27\n",
      "Debug | time_interval: (60.9, 81.2)\n",
      "Debug | '------------------------------------------'\n",
      "Debug | len(time_interval_chords): 7\n",
      "Debug | len(time_interval_durations): 7\n",
      "Debug | len(time_interval_durations) == len(time_interval_chords): True\n",
      "Debug | len(time_interval_chords): 7\n",
      "Debug | len(time_interval_durations): 7\n",
      "Debug | len(chords): 34\n",
      "Debug | len(durations): 34\n",
      "Debug | time_interval: (81.2, 90)\n",
      "Debug | '------------------------------------------'\n",
      "Debug | len(time_interval_chords): 3\n",
      "Debug | len(time_interval_durations): 3\n",
      "Debug | len(time_interval_durations) == len(time_interval_chords): True\n",
      "Debug | len(time_interval_chords): 3\n",
      "Debug | len(time_interval_durations): 3\n",
      "Debug | len(chords): 37\n",
      "Debug | len(durations): 37\n",
      "Debug | len(chords): 37\n",
      "Debug | len(durations): 37\n",
      "Debug | len(chords): 37\n",
      "Debug | len(durations): 37\n",
      "Debug | sum(durations): 89.99999999999999\n",
      "Debug | f\"{start} - {end} - {steps[interval]} - {sum(durations[start:end])} - {duration}\": '0 - 12 - 12 - 20.3 - 20.3'\n",
      "Debug | f\"{start} - {end} - {steps[interval]} - {sum(durations[start:end])} - {duration}\": '12 - 19 - 7 - 20.3 - 20.3'\n",
      "Debug | f\"{start} - {end} - {steps[interval]} - {sum(durations[start:end])} - {duration}\": '19 - 27 - 8 - 20.299999999999997 - 20.299999999999997'\n",
      "Debug | f\"{start} - {end} - {steps[interval]} - {sum(durations[start:end])} - {duration}\": '27 - 34 - 7 - 20.300000000000004 - 20.300000000000004'\n",
      "Debug | f\"{start} - {end} - {steps[interval]} - {sum(durations[start:end])} - {duration}\": '34 - 37 - 3 - 8.799999999999997 - 8.799999999999997'\n",
      "Debug | 'length of chords: ', len(chords): 37\n",
      "Debug | 'length of durations: ', len(durations): 37\n",
      "Debug | t_params[list(t_params.keys())[0]]: array(['sine', 'sine', 'sine', 'sine', 'sine', 'sine', 'sine', 'sine',\n",
      "                                                   'sine', 'sine', 'sine', 'sine', 'sine', 'sine', 'sine', 'sine',\n",
      "                                                   'sine', 'sine', 'sine', 'sine', 'sine', 'sine', 'sine', 'sine',\n",
      "                                                   'sine', 'sine', 'sine', 'sine', 'sine', 'sine', 'sine', 'sine',\n",
      "                                                   'sine', 'sine', 'sine', 'sine', 'sine'], dtype='<U4')\n",
      "Debug | len(t_params[list(t_params.keys())[0]]): 37\n",
      "FutureWarning: elementwise comparison failed; returning scalar instead, but in the future will perform elementwise comparison\n"
     ]
    }
   ],
   "source": [
    "ams = main.AmbientMusicSynthesis()\n",
    "audio = ams.generate_audio(90, {0.0:1, 20.3:2, 40.6:3, 60.9:4, 81.2:5, 90:1})"
   ]
  },
  {
   "cell_type": "code",
   "execution_count": 4,
   "metadata": {},
   "outputs": [
    {
     "ename": "ValueError",
     "evalue": "operands could not be broadcast together with shapes (2,) (98342,) ",
     "output_type": "error",
     "traceback": [
      "\u001b[0;31m---------------------------------------------------------------------------\u001b[0m",
      "\u001b[0;31mValueError\u001b[0m                                Traceback (most recent call last)",
      "\u001b[1;32m/Users/vedant/Desktop/Programming/emotional-background-music-generation/src/test.ipynb Cell 7\u001b[0m in \u001b[0;36m<cell line: 1>\u001b[0;34m()\u001b[0m\n\u001b[0;32m----> <a href='vscode-notebook-cell:/Users/vedant/Desktop/Programming/emotional-background-music-generation/src/test.ipynb#X12sZmlsZQ%3D%3D?line=0'>1</a>\u001b[0m ams\u001b[39m.\u001b[39;49ms\u001b[39m.\u001b[39;49mosc1\u001b[39m.\u001b[39;49mplay()\n",
      "File \u001b[0;32m~/miniconda3/envs/bgm-generation/lib/python3.10/site-packages/gensound/signals.py:54\u001b[0m, in \u001b[0;36mSignal.play\u001b[0;34m(self, sample_rate, **kwargs)\u001b[0m\n\u001b[1;32m     53\u001b[0m \u001b[39mdef\u001b[39;00m \u001b[39mplay\u001b[39m(\u001b[39mself\u001b[39m, sample_rate\u001b[39m=\u001b[39m\u001b[39m44100\u001b[39m, \u001b[39m*\u001b[39m\u001b[39m*\u001b[39mkwargs):\n\u001b[0;32m---> 54\u001b[0m     audio \u001b[39m=\u001b[39m \u001b[39mself\u001b[39;49m\u001b[39m.\u001b[39;49mrealise(sample_rate)\n\u001b[1;32m     55\u001b[0m     \u001b[39mreturn\u001b[39;00m audio\u001b[39m.\u001b[39mplay(\u001b[39m*\u001b[39m\u001b[39m*\u001b[39mkwargs)\n",
      "File \u001b[0;32m~/miniconda3/envs/bgm-generation/lib/python3.10/site-packages/gensound/signals.py:41\u001b[0m, in \u001b[0;36mSignal.realise\u001b[0;34m(self, sample_rate)\u001b[0m\n\u001b[1;32m     37\u001b[0m \u001b[39mdef\u001b[39;00m \u001b[39mrealise\u001b[39m(\u001b[39mself\u001b[39m, sample_rate):\n\u001b[1;32m     38\u001b[0m     \u001b[39m\"\"\" returns Audio instance.\u001b[39;00m\n\u001b[1;32m     39\u001b[0m \u001b[39m    parses the entire signal tree recursively\u001b[39;00m\n\u001b[1;32m     40\u001b[0m \u001b[39m    \"\"\"\u001b[39;00m\n\u001b[0;32m---> 41\u001b[0m     audio \u001b[39m=\u001b[39m \u001b[39mself\u001b[39;49m\u001b[39m.\u001b[39;49mgenerate(sample_rate)\n\u001b[1;32m     43\u001b[0m     \u001b[39mif\u001b[39;00m \u001b[39mnot\u001b[39;00m \u001b[39misinstance\u001b[39m(audio, Audio):\n\u001b[1;32m     44\u001b[0m         audio \u001b[39m=\u001b[39m Audio(sample_rate)\u001b[39m.\u001b[39mfrom_array(audio)\n",
      "File \u001b[0;32m~/miniconda3/envs/bgm-generation/lib/python3.10/site-packages/gensound/signals.py:360\u001b[0m, in \u001b[0;36mMix.generate\u001b[0;34m(self, sample_rate)\u001b[0m\n\u001b[1;32m    357\u001b[0m audio \u001b[39m=\u001b[39m Audio(sample_rate)\n\u001b[1;32m    359\u001b[0m \u001b[39mfor\u001b[39;00m signal \u001b[39min\u001b[39;00m \u001b[39mself\u001b[39m\u001b[39m.\u001b[39msignals:\n\u001b[0;32m--> 360\u001b[0m     audio \u001b[39m+\u001b[39m\u001b[39m=\u001b[39m signal\u001b[39m.\u001b[39;49mrealise(sample_rate)\n\u001b[1;32m    362\u001b[0m \u001b[39mreturn\u001b[39;00m audio\n",
      "File \u001b[0;32m~/miniconda3/envs/bgm-generation/lib/python3.10/site-packages/gensound/signals.py:41\u001b[0m, in \u001b[0;36mSignal.realise\u001b[0;34m(self, sample_rate)\u001b[0m\n\u001b[1;32m     37\u001b[0m \u001b[39mdef\u001b[39;00m \u001b[39mrealise\u001b[39m(\u001b[39mself\u001b[39m, sample_rate):\n\u001b[1;32m     38\u001b[0m     \u001b[39m\"\"\" returns Audio instance.\u001b[39;00m\n\u001b[1;32m     39\u001b[0m \u001b[39m    parses the entire signal tree recursively\u001b[39;00m\n\u001b[1;32m     40\u001b[0m \u001b[39m    \"\"\"\u001b[39;00m\n\u001b[0;32m---> 41\u001b[0m     audio \u001b[39m=\u001b[39m \u001b[39mself\u001b[39;49m\u001b[39m.\u001b[39;49mgenerate(sample_rate)\n\u001b[1;32m     43\u001b[0m     \u001b[39mif\u001b[39;00m \u001b[39mnot\u001b[39;00m \u001b[39misinstance\u001b[39m(audio, Audio):\n\u001b[1;32m     44\u001b[0m         audio \u001b[39m=\u001b[39m Audio(sample_rate)\u001b[39m.\u001b[39mfrom_array(audio)\n",
      "File \u001b[0;32m~/miniconda3/envs/bgm-generation/lib/python3.10/site-packages/gensound/signals.py:516\u001b[0m, in \u001b[0;36mOscillator.generate\u001b[0;34m(self, sample_rate)\u001b[0m\n\u001b[1;32m    514\u001b[0m \u001b[39mif\u001b[39;00m \u001b[39misinstance\u001b[39m(\u001b[39mself\u001b[39m\u001b[39m.\u001b[39mfrequency, Curve):\n\u001b[1;32m    515\u001b[0m     \u001b[39mreturn\u001b[39;00m \u001b[39mtype\u001b[39m(\u001b[39mself\u001b[39m)\u001b[39m.\u001b[39mwave(phase \u001b[39m+\u001b[39m \u001b[39m2\u001b[39m\u001b[39m*\u001b[39mnp\u001b[39m.\u001b[39mpi \u001b[39m*\u001b[39m \u001b[39mself\u001b[39m\u001b[39m.\u001b[39mfrequency\u001b[39m.\u001b[39mintegral(sample_rate)[:\u001b[39m-\u001b[39m\u001b[39m1\u001b[39m])\n\u001b[0;32m--> 516\u001b[0m \u001b[39mreturn\u001b[39;00m \u001b[39mtype\u001b[39m(\u001b[39mself\u001b[39m)\u001b[39m.\u001b[39mwave(phase \u001b[39m+\u001b[39m \u001b[39m2\u001b[39;49m\u001b[39m*\u001b[39;49mnp\u001b[39m.\u001b[39;49mpi \u001b[39m*\u001b[39;49m \u001b[39mself\u001b[39;49m\u001b[39m.\u001b[39;49mfrequency \u001b[39m*\u001b[39;49m \u001b[39mself\u001b[39;49m\u001b[39m.\u001b[39;49msample_times(sample_rate))\n",
      "\u001b[0;31mValueError\u001b[0m: operands could not be broadcast together with shapes (2,) (98342,) "
     ]
    }
   ],
   "source": [
    "ams.s.osc1.play()"
   ]
  },
  {
   "cell_type": "code",
   "execution_count": 7,
   "metadata": {},
   "outputs": [
    {
     "name": "stdout",
     "output_type": "stream",
     "text": [
      "pygame 2.1.2 (SDL 2.0.18, Python 3.10.4)\n",
      "Hello from the pygame community. https://www.pygame.org/contribute.html\n"
     ]
    },
    {
     "data": {
      "text/plain": [
       "<Sound at 0x7fb0bc34a4c0>"
      ]
     },
     "execution_count": 7,
     "metadata": {},
     "output_type": "execute_result"
    }
   ],
   "source": [
    "import gensound\n",
    "def detuned_array(pitch, duration, width, amount):\n",
    "  # amount = how many oscillators in the array\n",
    "  # width = the difference in cents between the highest and lowest oscillators in the array\n",
    "  all_cents = [i*width/amount - width/2 for i in range(amount)] # how much to detune each signal in the array\n",
    "  return gensound.mix([ gensound.signals.Square(f\"{pitch}{round(cents):+}\", duration) for cents in all_cents ])\n",
    "\n",
    "detuned_array(\"D4\", duration=0.5e3, width=0, amount=1).play() # just one"
   ]
  },
  {
   "cell_type": "code",
   "execution_count": 3,
   "metadata": {},
   "outputs": [
    {
     "ename": "ValueError",
     "evalue": "operands could not be broadcast together with shapes (4,) (274743,) ",
     "output_type": "error",
     "traceback": [
      "\u001b[0;31m---------------------------------------------------------------------------\u001b[0m",
      "\u001b[0;31mValueError\u001b[0m                                Traceback (most recent call last)",
      "\u001b[1;32m/Users/vedant/Desktop/Programming/emotional-background-music-generation/src/test.ipynb Cell 7\u001b[0m in \u001b[0;36m<cell line: 1>\u001b[0;34m()\u001b[0m\n\u001b[0;32m----> <a href='vscode-notebook-cell:/Users/vedant/Desktop/Programming/emotional-background-music-generation/src/test.ipynb#W6sZmlsZQ%3D%3D?line=0'>1</a>\u001b[0m audio\u001b[39m.\u001b[39;49mplay()\n",
      "File \u001b[0;32m~/miniconda3/envs/bgm-generation/lib/python3.10/site-packages/gensound/signals.py:54\u001b[0m, in \u001b[0;36mSignal.play\u001b[0;34m(self, sample_rate, **kwargs)\u001b[0m\n\u001b[1;32m     53\u001b[0m \u001b[39mdef\u001b[39;00m \u001b[39mplay\u001b[39m(\u001b[39mself\u001b[39m, sample_rate\u001b[39m=\u001b[39m\u001b[39m44100\u001b[39m, \u001b[39m*\u001b[39m\u001b[39m*\u001b[39mkwargs):\n\u001b[0;32m---> 54\u001b[0m     audio \u001b[39m=\u001b[39m \u001b[39mself\u001b[39;49m\u001b[39m.\u001b[39;49mrealise(sample_rate)\n\u001b[1;32m     55\u001b[0m     \u001b[39mreturn\u001b[39;00m audio\u001b[39m.\u001b[39mplay(\u001b[39m*\u001b[39m\u001b[39m*\u001b[39mkwargs)\n",
      "File \u001b[0;32m~/miniconda3/envs/bgm-generation/lib/python3.10/site-packages/gensound/signals.py:41\u001b[0m, in \u001b[0;36mSignal.realise\u001b[0;34m(self, sample_rate)\u001b[0m\n\u001b[1;32m     37\u001b[0m \u001b[39mdef\u001b[39;00m \u001b[39mrealise\u001b[39m(\u001b[39mself\u001b[39m, sample_rate):\n\u001b[1;32m     38\u001b[0m     \u001b[39m\"\"\" returns Audio instance.\u001b[39;00m\n\u001b[1;32m     39\u001b[0m \u001b[39m    parses the entire signal tree recursively\u001b[39;00m\n\u001b[1;32m     40\u001b[0m \u001b[39m    \"\"\"\u001b[39;00m\n\u001b[0;32m---> 41\u001b[0m     audio \u001b[39m=\u001b[39m \u001b[39mself\u001b[39;49m\u001b[39m.\u001b[39;49mgenerate(sample_rate)\n\u001b[1;32m     43\u001b[0m     \u001b[39mif\u001b[39;00m \u001b[39mnot\u001b[39;00m \u001b[39misinstance\u001b[39m(audio, Audio):\n\u001b[1;32m     44\u001b[0m         audio \u001b[39m=\u001b[39m Audio(sample_rate)\u001b[39m.\u001b[39mfrom_array(audio)\n",
      "File \u001b[0;32m~/miniconda3/envs/bgm-generation/lib/python3.10/site-packages/gensound/signals.py:386\u001b[0m, in \u001b[0;36mSequence.generate\u001b[0;34m(self, sample_rate)\u001b[0m\n\u001b[1;32m    383\u001b[0m     \u001b[39melse\u001b[39;00m:\n\u001b[1;32m    384\u001b[0m         phase \u001b[39m=\u001b[39m \u001b[39m0\u001b[39m\n\u001b[0;32m--> 386\u001b[0m     audio\u001b[39m.\u001b[39mconcat(signal\u001b[39m.\u001b[39;49mrealise(sample_rate))\n\u001b[1;32m    387\u001b[0m     \u001b[39m# TODO assymetric with Mix since we don't overload audio.concat\u001b[39;00m\n\u001b[1;32m    389\u001b[0m \u001b[39mreturn\u001b[39;00m audio\n",
      "File \u001b[0;32m~/miniconda3/envs/bgm-generation/lib/python3.10/site-packages/gensound/signals.py:41\u001b[0m, in \u001b[0;36mSignal.realise\u001b[0;34m(self, sample_rate)\u001b[0m\n\u001b[1;32m     37\u001b[0m \u001b[39mdef\u001b[39;00m \u001b[39mrealise\u001b[39m(\u001b[39mself\u001b[39m, sample_rate):\n\u001b[1;32m     38\u001b[0m     \u001b[39m\"\"\" returns Audio instance.\u001b[39;00m\n\u001b[1;32m     39\u001b[0m \u001b[39m    parses the entire signal tree recursively\u001b[39;00m\n\u001b[1;32m     40\u001b[0m \u001b[39m    \"\"\"\u001b[39;00m\n\u001b[0;32m---> 41\u001b[0m     audio \u001b[39m=\u001b[39m \u001b[39mself\u001b[39;49m\u001b[39m.\u001b[39;49mgenerate(sample_rate)\n\u001b[1;32m     43\u001b[0m     \u001b[39mif\u001b[39;00m \u001b[39mnot\u001b[39;00m \u001b[39misinstance\u001b[39m(audio, Audio):\n\u001b[1;32m     44\u001b[0m         audio \u001b[39m=\u001b[39m Audio(sample_rate)\u001b[39m.\u001b[39mfrom_array(audio)\n",
      "File \u001b[0;32m~/miniconda3/envs/bgm-generation/lib/python3.10/site-packages/gensound/signals.py:360\u001b[0m, in \u001b[0;36mMix.generate\u001b[0;34m(self, sample_rate)\u001b[0m\n\u001b[1;32m    357\u001b[0m audio \u001b[39m=\u001b[39m Audio(sample_rate)\n\u001b[1;32m    359\u001b[0m \u001b[39mfor\u001b[39;00m signal \u001b[39min\u001b[39;00m \u001b[39mself\u001b[39m\u001b[39m.\u001b[39msignals:\n\u001b[0;32m--> 360\u001b[0m     audio \u001b[39m+\u001b[39m\u001b[39m=\u001b[39m signal\u001b[39m.\u001b[39;49mrealise(sample_rate)\n\u001b[1;32m    362\u001b[0m \u001b[39mreturn\u001b[39;00m audio\n",
      "File \u001b[0;32m~/miniconda3/envs/bgm-generation/lib/python3.10/site-packages/gensound/signals.py:41\u001b[0m, in \u001b[0;36mSignal.realise\u001b[0;34m(self, sample_rate)\u001b[0m\n\u001b[1;32m     37\u001b[0m \u001b[39mdef\u001b[39;00m \u001b[39mrealise\u001b[39m(\u001b[39mself\u001b[39m, sample_rate):\n\u001b[1;32m     38\u001b[0m     \u001b[39m\"\"\" returns Audio instance.\u001b[39;00m\n\u001b[1;32m     39\u001b[0m \u001b[39m    parses the entire signal tree recursively\u001b[39;00m\n\u001b[1;32m     40\u001b[0m \u001b[39m    \"\"\"\u001b[39;00m\n\u001b[0;32m---> 41\u001b[0m     audio \u001b[39m=\u001b[39m \u001b[39mself\u001b[39;49m\u001b[39m.\u001b[39;49mgenerate(sample_rate)\n\u001b[1;32m     43\u001b[0m     \u001b[39mif\u001b[39;00m \u001b[39mnot\u001b[39;00m \u001b[39misinstance\u001b[39m(audio, Audio):\n\u001b[1;32m     44\u001b[0m         audio \u001b[39m=\u001b[39m Audio(sample_rate)\u001b[39m.\u001b[39mfrom_array(audio)\n",
      "File \u001b[0;32m~/miniconda3/envs/bgm-generation/lib/python3.10/site-packages/gensound/signals.py:516\u001b[0m, in \u001b[0;36mOscillator.generate\u001b[0;34m(self, sample_rate)\u001b[0m\n\u001b[1;32m    514\u001b[0m \u001b[39mif\u001b[39;00m \u001b[39misinstance\u001b[39m(\u001b[39mself\u001b[39m\u001b[39m.\u001b[39mfrequency, Curve):\n\u001b[1;32m    515\u001b[0m     \u001b[39mreturn\u001b[39;00m \u001b[39mtype\u001b[39m(\u001b[39mself\u001b[39m)\u001b[39m.\u001b[39mwave(phase \u001b[39m+\u001b[39m \u001b[39m2\u001b[39m\u001b[39m*\u001b[39mnp\u001b[39m.\u001b[39mpi \u001b[39m*\u001b[39m \u001b[39mself\u001b[39m\u001b[39m.\u001b[39mfrequency\u001b[39m.\u001b[39mintegral(sample_rate)[:\u001b[39m-\u001b[39m\u001b[39m1\u001b[39m])\n\u001b[0;32m--> 516\u001b[0m \u001b[39mreturn\u001b[39;00m \u001b[39mtype\u001b[39m(\u001b[39mself\u001b[39m)\u001b[39m.\u001b[39mwave(phase \u001b[39m+\u001b[39m \u001b[39m2\u001b[39;49m\u001b[39m*\u001b[39;49mnp\u001b[39m.\u001b[39;49mpi \u001b[39m*\u001b[39;49m \u001b[39mself\u001b[39;49m\u001b[39m.\u001b[39;49mfrequency \u001b[39m*\u001b[39;49m \u001b[39mself\u001b[39;49m\u001b[39m.\u001b[39;49msample_times(sample_rate))\n",
      "\u001b[0;31mValueError\u001b[0m: operands could not be broadcast together with shapes (4,) (274743,) "
     ]
    }
   ],
   "source": [
    "audio.play()"
   ]
  },
  {
   "cell_type": "code",
   "execution_count": 31,
   "metadata": {},
   "outputs": [
    {
     "name": "stderr",
     "output_type": "stream",
     "text": [
      "VisibleDeprecationWarning: Creating an ndarray from ragged nested sequences (which is a list-or-tuple of lists-or-tuples-or ndarrays with different lengths or shapes) is deprecated. If you meant to do this, you must specify 'dtype=object' when creating the ndarray.\n",
      "UserWarning: Output audio signal amplitude exceeds 1 (max abs. amplitude 9.30). By default, the signal will be shrunk to fit range of [-1, 1] to prevent clipping. To prevent this behaviour, set the max_amplitude argument to zero, which leaves the signal untouched, or to any positive number, which will stretch/shrink it to match the given peak amplitude.\n"
     ]
    },
    {
     "data": {
      "text/plain": [
       "<Sound at 0x7fb4d9420d80>"
      ]
     },
     "execution_count": 31,
     "metadata": {},
     "output_type": "execute_result"
    }
   ],
   "source": [
    "import numpy as np\n",
    "import gensound \n",
    "from gensound.signals import Sine, Sawtooth, Square, Triangle, WhiteNoise, Silence, PinkNoise, Mix, WAV\n",
    "from gensound.effects import OneImpulseReverb, Vibrato\n",
    "from gensound.filters import SimpleBandPass, SimpleHPF, SimpleLPF, SimpleHighShelf, SimpleLowShelf\n",
    "from gensound.transforms import ADSR, Fade, Amplitude, CrossFade\n",
    "from gensound.curve import SineCurve, Constant, Line\n",
    "\n",
    "def midi_to_freq(midi_number):\n",
    "    return 440 * 2**((midi_number-69)/12)\n",
    "def shift_freq_by_cents(freq, cents):\n",
    "        return freq*(10**(cents/(1200*3.322038403)))\n",
    "def detuned_voices(midi_number, relative_shift, duration, detune_pct, n_voices, wave_type='square'):\n",
    "    # n_voices = how many oscillators in the array\n",
    "    # detune_range = the difference in cents between the highest and lowest oscillators in the array\n",
    "    freq = midi_to_freq(midi_number)#self.pitch_to_freq(self.NoteToMidi(pitch))\n",
    "    # ic(freq)\n",
    "    detune_range = freq * int(detune_pct)/100\n",
    "    all_cents = [i*detune_range/n_voices - detune_range/2 for i in range(n_voices)] # how much to detune each signal in the array\n",
    "    # print(isinstance(pitch, str))\n",
    "    match wave_type: # REQUIRES PYTHON 3.10\n",
    "        case 'sine':\n",
    "            f = Sine\n",
    "        case 'square':\n",
    "            f = Square\n",
    "        case 'triangle':\n",
    "            f = Triangle\n",
    "        case 'sawtooth':\n",
    "            f = Sawtooth\n",
    "    return gensound.mix([f(shift_freq_by_cents(freq*relative_shift,cents),duration) for cents in all_cents])\n",
    "def generate_audio(midi, duration):\n",
    "    lfo1 = Amplitude(SineCurve(frequency=16, depth=0.05, baseline=0.5, duration=duration))\n",
    "    lfo2 = Amplitude(SineCurve(frequency=0.5, depth=0.5, baseline=0.5, duration=duration))\n",
    "\n",
    "    osc1 = detuned_voices(midi, 1, duration, 30, 6, 'square')\n",
    "    osc2 = detuned_voices(midi, 1, duration, 30, 6, 'triangle')\n",
    "    output = gensound.mix([osc1*lfo1,osc2*lfo2])\n",
    "    output *= SimpleLPF(1000)\n",
    "    output*= SimpleHPF(100)\n",
    "    output *= ADSR(attack=0.5, decay=0.5, sustain=0.9, release=2)\n",
    "\n",
    "    return output\n",
    "\n",
    "chords = np.array([np.array([65,60]), np.array([70,74,77]), np.array([39,46]), np.array([44,48,51,56,63])])\n",
    "durations = [5, 6, 2, 7]\n",
    "for i in range(len(chords)):\n",
    "    audio = audio | CrossFade(duration=0.5*1e3) | gensound.mix([generate_audio(midi, durations[i]*1e3) for midi in chords[i]])\n",
    "\n",
    "audio.play()"
   ]
  },
  {
   "cell_type": "code",
   "execution_count": 18,
   "metadata": {},
   "outputs": [
    {
     "name": "stderr",
     "output_type": "stream",
     "text": [
      "VisibleDeprecationWarning: Creating an ndarray from ragged nested sequences (which is a list-or-tuple of lists-or-tuples-or ndarrays with different lengths or shapes) is deprecated. If you meant to do this, you must specify 'dtype=object' when creating the ndarray.\n"
     ]
    }
   ],
   "source": [
    "chords = np.array([np.array([65,72]), np.array([70,74,77]), np.array([39,46]), np.array([44,48,51,56,63])])\n",
    "durations = [5, 6, 2, 7]\n",
    "for i in range(len(chords)):\n",
    "    if i == 0:\n",
    "        audio = gensound.mix([generate_audio(midi, durations[i]) for midi in chords[i]])\n",
    "    else:\n",
    "        audio = audio | gensound.mix([generate_audio(midi, durations[i]) for midi in chords[i]])"
   ]
  },
  {
   "cell_type": "code",
   "execution_count": 26,
   "metadata": {},
   "outputs": [
    {
     "name": "stderr",
     "output_type": "stream",
     "text": [
      "UserWarning: Output audio signal amplitude exceeds 1 (max abs. amplitude 40.54). By default, the signal will be shrunk to fit range of [-1, 1] to prevent clipping. To prevent this behaviour, set the max_amplitude argument to zero, which leaves the signal untouched, or to any positive number, which will stretch/shrink it to match the given peak amplitude.\n"
     ]
    },
    {
     "data": {
      "text/plain": [
       "<Sound at 0x7fb4d9413420>"
      ]
     },
     "execution_count": 26,
     "metadata": {},
     "output_type": "execute_result"
    }
   ],
   "source": [
    "audio.play()"
   ]
  },
  {
   "cell_type": "code",
   "execution_count": 21,
   "metadata": {},
   "outputs": [
    {
     "data": {
      "text/plain": [
       "<Sound at 0x7fb4dacb7330>"
      ]
     },
     "execution_count": 21,
     "metadata": {},
     "output_type": "execute_result"
    }
   ],
   "source": [
    "audio.play()"
   ]
  },
  {
   "cell_type": "code",
   "execution_count": null,
   "metadata": {},
   "outputs": [],
   "source": []
  }
 ],
 "metadata": {
  "kernelspec": {
   "display_name": "Python 3.10.4 ('bgm-generation')",
   "language": "python",
   "name": "python3"
  },
  "language_info": {
   "codemirror_mode": {
    "name": "ipython",
    "version": 3
   },
   "file_extension": ".py",
   "mimetype": "text/x-python",
   "name": "python",
   "nbconvert_exporter": "python",
   "pygments_lexer": "ipython3",
   "version": "3.10.4"
  },
  "orig_nbformat": 4,
  "vscode": {
   "interpreter": {
    "hash": "11e541338b35738313e8424a03c0ad951310cbc49d68edead48851e8ef14da64"
   }
  }
 },
 "nbformat": 4,
 "nbformat_minor": 2
}
