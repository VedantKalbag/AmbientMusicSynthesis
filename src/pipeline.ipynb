{
 "cells": [
  {
   "cell_type": "markdown",
   "metadata": {},
   "source": [
    "# SETUP SYNTH ENGINE"
   ]
  },
  {
   "cell_type": "code",
   "execution_count": 1,
   "metadata": {},
   "outputs": [
    {
     "name": "stderr",
     "output_type": "stream",
     "text": [
      "error: attempt to map invalid URI `/Users/vedant/../../Library/Audio/Plug-Ins/VST/TAL-NoiseMaker.vst'\n",
      "Attempting to load VST: /Library/Audio/Plug-Ins/VST/TAL-NoiseMaker.vst\n",
      "Creating VST instance: TAL-NoiseMaker\n",
      "Initialising VST: TAL-NoiseMaker (5.0.4.0)\n",
      "Attempting to load VST: /Library/Audio/Plug-Ins/VST/TAL-NoiseMaker.vst\n",
      "Creating VST instance: TAL-NoiseMaker\n",
      "Initialising VST: TAL-NoiseMaker (5.0.4.0)\n"
     ]
    }
   ],
   "source": [
    "from scipy.io import wavfile\n",
    "import dawdreamer as daw\n",
    "import numpy as np\n",
    "import os\n",
    "SAMPLE_RATE = 44100\n",
    "\n",
    "BUFFER_SIZE = 128 # Parameters will undergo automation at this buffer/block size.\n",
    "PPQN = 960 # Pulses per quarter note.\n",
    "SYNTH_PLUGIN = os.path.expanduser('~')+\"/../../Library/Audio/Plug-Ins/VST/TAL-NoiseMaker.vst\"#os.path.expanduser('~')+\"/../../Library/Audio/Plug-Ins/Components/TAL-NoiseMaker.component\"  # extensions: .dll, .vst3, .vst, .component\n",
    "# REVERB_PLUGIN = \"C:/path/to/reverb.dll\"  # extensions: .dll, .vst3, .vst, .component\n",
    "# MIDI_PATH = \"../resources/MIDI/song.mid\"\n",
    "\n",
    "engine = daw.RenderEngine(SAMPLE_RATE, BUFFER_SIZE)\n",
    "\n",
    "# Make a processor and give it the unique name \"my_synth\", which we use later.\n",
    "synth = engine.make_plugin_processor(\"my_synth\", SYNTH_PLUGIN)\n",
    "synth.load_state('../resources/plugins/params/save_states/BasePad')\n"
   ]
  },
  {
   "cell_type": "markdown",
   "metadata": {},
   "source": [
    "# ADDITIONAL PROCESSING (Not part of pipeline)"
   ]
  },
  {
   "cell_type": "code",
   "execution_count": 10,
   "metadata": {},
   "outputs": [],
   "source": [
    "import pandas as pd\n",
    "# master_parameters = pd.DataFrame()\n",
    "# param_name=[]\n",
    "# param_number = []\n",
    "# preset_names=[]\n",
    "# param_value=[]\n",
    "\n",
    "# for preset_name in os.listdir('../resources/plugins/params/save_states'):\n",
    "#     synth.load_state('../resources/plugins/params/save_states/'+preset_name)\n",
    "#     for i in range(len(synth.get_parameters_description())):\n",
    "#         param_name.append(synth.get_parameter_name(i).lower().replace(' ','_'))\n",
    "#         param_number.append(i)\n",
    "#         preset_names.append(preset_name)\n",
    "#         param_value.append(synth.get_parameter(i))\n",
    "\n",
    "# master_parameters['parameter_name'] = param_name\n",
    "# master_parameters['parameter_number'] = param_number\n",
    "# master_parameters['preset_name'] = preset_names\n",
    "# master_parameters['parameter_value'] = param_value\n",
    "\n",
    "# master_parameters['mean'] = master_parameters['parameter_value']\n",
    "# master_parameters['std'] = master_parameters['parameter_value']/10\n",
    "\n",
    "master_parameters = pd.read_csv('../resources/working_data/preset_parameter_mapping.csv', header=0)"
   ]
  },
  {
   "cell_type": "markdown",
   "metadata": {},
   "source": [
    "# CREATE MIDI NOTES/CHORD MAPPING"
   ]
  },
  {
   "cell_type": "code",
   "execution_count": null,
   "metadata": {},
   "outputs": [],
   "source": [
    "# TODO: Create a mapping between emotion and notes and chords, to be sampled for triggering the synth\n"
   ]
  },
  {
   "cell_type": "markdown",
   "metadata": {},
   "source": [
    "# Sampling parameter values for synth timbre"
   ]
  },
  {
   "cell_type": "code",
   "execution_count": 14,
   "metadata": {},
   "outputs": [
    {
     "name": "stderr",
     "output_type": "stream",
     "text": [
      "/var/folders/hs/h9zhlkvj4b9d3mmzwzsd87vr0000gn/T/ipykernel_9838/1187164427.py:9: SettingWithCopyWarning: \n",
      "A value is trying to be set on a copy of a slice from a DataFrame.\n",
      "Try using .loc[row_indexer,col_indexer] = value instead\n",
      "\n",
      "See the caveats in the documentation: https://pandas.pydata.org/pandas-docs/stable/user_guide/indexing.html#returning-a-view-versus-a-copy\n",
      "  target_preset['value'] = np.random.normal(target_preset['mean'], target_preset['std'])\n"
     ]
    }
   ],
   "source": [
    "ignored_params = ['-','master_volume','midi_clear', 'midi_lock']\n",
    "\n",
    "# TODO: create logic mapping presets to emotions\n",
    "synth_timbre = 'BasePad' # possible values are ['TwoFlower','Bellomatism','GatedPad','FloatingPad','FantasyPad','FuzzyChorda','BigTrancer','LuxuryStrings','BitOrchestra','DarkAnimations','SunRise','DreamOf86','ParallaxPad','PadWobbler','SweetAnalogue','RingmodMod','BurstingPad','Tron','BionicPad','Lightstorm','OpenSquare','Ringmodded','Glasometer','Easymat','BasePad','SpookyOrgan']\n",
    "\n",
    "target_preset = master_parameters[master_parameters['preset_name'] == synth_timbre]\n",
    "\n",
    "# Sampling values from a normal distribution\n",
    "target_preset['value'] = np.random.normal(target_preset['mean'], target_preset['std'])\n",
    "\n",
    "# Filtering relevant parameters (zero value params retained)\n",
    "target_values = {}\n",
    "for i in range(len(target_preset)):\n",
    "    if target_preset.iloc[i]['parameter_name'] not in ignored_params:\n",
    "        target_values[target_preset.iloc[i]['parameter_number']] = target_preset.iloc[i]['value']\n",
    "        \n",
    "# Loading the preset closest to the required parameters\n",
    "synth.load_state(f'../resources/plugins/params/save_states/{synth_timbre}')\n",
    "\n",
    "# Setting parameters sampled from distribution\n",
    "for param_num in target_values.keys():\n",
    "    synth.set_parameter(param_num, target_values[param_num])"
   ]
  },
  {
   "cell_type": "markdown",
   "metadata": {},
   "source": [
    "# RENDERING AUDIO"
   ]
  },
  {
   "cell_type": "code",
   "execution_count": null,
   "metadata": {},
   "outputs": [],
   "source": [
    "synth.add_midi_note(60, 127, 0.5, .25) # (MIDI note, velocity, start, duration)\n",
    "engine.load_graph([(synth, [])])\n",
    "engine.render(5)\n",
    "output = engine.get_audio()\n",
    "wavfile.write(f'output.wav', SAMPLE_RATE, output.transpose())"
   ]
  }
 ],
 "metadata": {
  "kernelspec": {
   "display_name": "Python 3.10.4 ('bgm-generation')",
   "language": "python",
   "name": "python3"
  },
  "language_info": {
   "codemirror_mode": {
    "name": "ipython",
    "version": 3
   },
   "file_extension": ".py",
   "mimetype": "text/x-python",
   "name": "python",
   "nbconvert_exporter": "python",
   "pygments_lexer": "ipython3",
   "version": "3.10.4"
  },
  "orig_nbformat": 4,
  "vscode": {
   "interpreter": {
    "hash": "11e541338b35738313e8424a03c0ad951310cbc49d68edead48851e8ef14da64"
   }
  }
 },
 "nbformat": 4,
 "nbformat_minor": 2
}
