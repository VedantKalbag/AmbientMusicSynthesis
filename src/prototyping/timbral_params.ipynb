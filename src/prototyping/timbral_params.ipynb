{
 "cells": [
  {
   "cell_type": "code",
   "execution_count": 1,
   "metadata": {},
   "outputs": [],
   "source": [
    "import gensound_synth"
   ]
  },
  {
   "cell_type": "code",
   "execution_count": 5,
   "metadata": {},
   "outputs": [],
   "source": [
    "synth = gensound_synth.Synth({0.0:1, 20.3:2, 40.6:3, 60.9:4, 81.2:5, 90:1},'default','../presets')"
   ]
  },
  {
   "cell_type": "code",
   "execution_count": 8,
   "metadata": {},
   "outputs": [],
   "source": [
    "synth._setparam('osc1_wave','square')"
   ]
  },
  {
   "cell_type": "code",
   "execution_count": 6,
   "metadata": {},
   "outputs": [
    {
     "name": "stdout",
     "output_type": "stream",
     "text": [
      "pygame 2.1.2 (SDL 2.0.18, Python 3.10.4)\n",
      "Hello from the pygame community. https://www.pygame.org/contribute.html\n"
     ]
    },
    {
     "name": "stderr",
     "output_type": "stream",
     "text": [
      "UserWarning: Output audio signal amplitude exceeds 1 (max abs. amplitude 8.14). By default, the signal will be shrunk to fit range of [-1, 1] to prevent clipping. To prevent this behaviour, set the max_amplitude argument to zero, which leaves the signal untouched, or to any positive number, which will stretch/shrink it to match the given peak amplitude.\n"
     ]
    },
    {
     "data": {
      "text/plain": [
       "<Sound at 0x7f8a958a7210>"
      ]
     },
     "execution_count": 6,
     "metadata": {},
     "output_type": "execute_result"
    }
   ],
   "source": [
    "synth.generate_audio('A3',5e3).play()"
   ]
  },
  {
   "cell_type": "code",
   "execution_count": 5,
   "metadata": {},
   "outputs": [
    {
     "name": "stderr",
     "output_type": "stream",
     "text": [
      "UserWarning: Output audio signal amplitude exceeds 1 (max abs. amplitude 8.04). By default, the signal will be shrunk to fit range of [-1, 1] to prevent clipping. To prevent this behaviour, set the max_amplitude argument to zero, which leaves the signal untouched, or to any positive number, which will stretch/shrink it to match the given peak amplitude.\n"
     ]
    },
    {
     "data": {
      "text/plain": [
       "<Sound at 0x7f9849bd6f70>"
      ]
     },
     "execution_count": 5,
     "metadata": {},
     "output_type": "execute_result"
    }
   ],
   "source": [
    "audio = synth.generate_audio('A3',5*1e3)\n",
    "tmp = audio | synth.generate_audio('C4',5*1e3)\n",
    "tmp.play()"
   ]
  },
  {
   "cell_type": "code",
   "execution_count": 6,
   "metadata": {},
   "outputs": [
    {
     "data": {
      "text/plain": [
       "{'lfo1_type': 'sine',\n",
       " 'lfo1_freq': 0.5,\n",
       " 'lfo1_depth': 0.5,\n",
       " 'lfo2_type': 'sine',\n",
       " 'lfo2_freq': 0.5,\n",
       " 'lfo2_depth': 0.5,\n",
       " 'osc1_freq': 400,\n",
       " 'osc1_wave': 'square',\n",
       " 'osc1_detune': 30,\n",
       " 'osc2_freq': 400,\n",
       " 'osc2_wave': 'triangle',\n",
       " 'osc2_detune': 30,\n",
       " 'n_voices': 6,\n",
       " 'sub_freq': 100,\n",
       " 'sub_wave': 'sine',\n",
       " 'sub_detune': 30,\n",
       " 'hf_noise_freq': 1000,\n",
       " 'hf_noise_wave': 'sine',\n",
       " 'lf_noise_freq': 100,\n",
       " 'lf_noise_wave': 'sine',\n",
       " 'filter1_type': 'lowpass',\n",
       " 'filter1_freq': 1000,\n",
       " 'filter2_type': '',\n",
       " 'filter2_freq': 0,\n",
       " 'filter3_type': '',\n",
       " 'filter3_freq': 0,\n",
       " 'reverb': 0.5,\n",
       " 'vibrato_freq': 0.5,\n",
       " 'vibrato_depth': 0.5,\n",
       " 'attack': 500.0,\n",
       " 'decay': 0.5,\n",
       " 'sustain': 0.5,\n",
       " 'release': 500.0,\n",
       " 'fade_in': 0.5,\n",
       " 'fade_out': 0.5,\n",
       " 'automation': {'filter1_freq_type': 'constant',\n",
       "  'filter1_freq_rate': 0,\n",
       "  'filter2_freq_type': 'constant',\n",
       "  'filter2_freq_rate': 0,\n",
       "  'filter3_freq_type': 'constant',\n",
       "  'filter3_freq_rate': 0}}"
      ]
     },
     "execution_count": 6,
     "metadata": {},
     "output_type": "execute_result"
    }
   ],
   "source": [
    "import json\n",
    "json.load(open('../presets/timbre.json'))['default']"
   ]
  },
  {
   "cell_type": "code",
   "execution_count": 29,
   "metadata": {},
   "outputs": [],
   "source": [
    "mellow_o = {\n",
    "        'lfo1_type': 'na',\n",
    "        'lfo1_freq': 0, # for focus\n",
    "        'lfo1_depth': 0.25,\n",
    "\n",
    "        'lfo2_type': 'na',\n",
    "        'lfo2_freq': 0, # slow wobble\n",
    "        'lfo2_depth': 0.5,\n",
    "        \n",
    "        'osc1_wave': 'sawtooth',\n",
    "        'osc1_detune': 6,\n",
    "\n",
    "        'osc2_wave': 'sawtooth',\n",
    "        'osc2_detune': 6,\n",
    "        'osc2_relative_shift': 2,\n",
    "\n",
    "        'n_voices': 2, # too high and this introduces a phaser efect\n",
    "\n",
    "        'sub_freq': 0,\n",
    "        'sub_wave': 'sine',\n",
    "        'sub_detune': 30,\n",
    "\n",
    "        'hf_noise_type': 'na', # na/white/pink\n",
    "\n",
    "        'lf_noise_type': 'na',\n",
    "\n",
    "        'filter1_type': 'lowpass',\n",
    "        'filter1_freq': 525,\n",
    "\n",
    "        'filter2_type': 'highpass',\n",
    "        'filter2_freq': 200,\n",
    "\n",
    "        'filter3_type': 'na',\n",
    "        'filter3_freq': 0,\n",
    "\n",
    "        'reverb': 0.5,\n",
    "\n",
    "        'vibrato_freq': 0,\n",
    "        'vibrato_depth': 0,\n",
    "\n",
    "        'attack': 780.0,\n",
    "        'decay': 0.05,\n",
    "        'sustain': 0.9,\n",
    "        'release': 4890.0,\n",
    "\n",
    "        # 'fade_in': 0.5,\n",
    "        # 'fade_out': 0.5,\n",
    "\n",
    "        'automation': {\n",
    "                'filter1_freq_type': 'constant',\n",
    "                'filter1_freq_rate': 0,\n",
    "                'filter2_freq_type': 'constant',\n",
    "                'filter2_freq_rate': 0,\n",
    "                'filter3_freq_type': 'constant',\n",
    "                'filter3_freq_rate': 0\n",
    "                }\n",
    "        }"
   ]
  },
  {
   "cell_type": "code",
   "execution_count": 4,
   "metadata": {},
   "outputs": [],
   "source": [
    "db_to_gain = lambda x: 10**(x/20)"
   ]
  },
  {
   "cell_type": "code",
   "execution_count": 188,
   "metadata": {},
   "outputs": [],
   "source": [
    "import os\n",
    "import gensound\n",
    "from gensound.signals import Sine, Sawtooth, Square, Triangle, WhiteNoise, Silence, PinkNoise, Mix, WAV\n",
    "from gensound.effects import OneImpulseReverb, Vibrato\n",
    "from gensound.filters import SimpleBandPass, SimpleHPF, SimpleLPF, SimpleHighShelf, SimpleLowShelf\n",
    "from gensound.transforms import ADSR, Fade, Amplitude, CrossFade\n",
    "from gensound.curve import SineCurve, Constant, Line\n",
    "\n",
    "class Synth():\n",
    "    def __init__(self, params):\n",
    "        # self.preset = preset\n",
    "        # if self.preset == 'default':\n",
    "            # load json file containing default settings\n",
    "        # data = json.load(open(os.path.join(path_to_preset,'timbre.json')))[self.preset]\n",
    "        # data = mellow_o\n",
    "        # print(data)\n",
    "        self.__dict__ = params#data\n",
    "        self.NOTES_FLAT = ['C', 'Db', 'D', 'Eb', 'E', 'F', 'Gb', 'G', 'Ab', 'A', 'Bb', 'B']\n",
    "        self.NOTES_SHARP = ['C', 'C#', 'D', 'D#', 'E', 'F', 'F#', 'G', 'G#', 'A', 'A#', 'B']\n",
    "        self.filters={}\n",
    "        for filter_number in ['filter1','filter2','filter3']:\n",
    "            if self.__dict__[filter_number+'_type'] == 'na':\n",
    "                self.__dict__[filter_number] = None\n",
    "            else:\n",
    "                match self.__dict__[filter_number+'_type']:\n",
    "                    case 'lowpass':\n",
    "                        self.filters[filter_number] = SimpleLPF\n",
    "                    case 'highpass':\n",
    "                        self.filters[filter_number] = SimpleHPF\n",
    "                    case 'bandpass':\n",
    "                        self.filters[filter_number] = SimpleBandPass\n",
    "                    case 'lowshelf':\n",
    "                        self.filters[filter_number] = SimpleLowShelf\n",
    "                    case 'highshelf':\n",
    "                        self.filters[filter_number] = SimpleHighShelf\n",
    "                # self.__dict__[filter_number] = f(self.__dict__[filter_number+'_freq'])\n",
    "    def _setparam(self, param, value):\n",
    "        setattr(self, param, value)\n",
    "    def pitch_to_freq(self, pitch):\n",
    "        return 440 * 2**((pitch-69)/12)\n",
    "    def shift_freq_by_cents(self, freq, cents):\n",
    "        return freq*(10**(cents/(1200*3.322038403)))\n",
    "    def semitones_to_cents(self, semitones):\n",
    "        return semitones*100\n",
    "    def cents_to_semitones(self, cents):\n",
    "        return cents/100\n",
    "    def octave_to_multiplier(self, octave):\n",
    "        return 2**(octave)\n",
    "    def NoteToMidi(self, KeyOctave):\n",
    "        # KeyOctave is formatted like 'C#3'\n",
    "        key = KeyOctave[:-1]  # eg C, Db\n",
    "        octave = KeyOctave[-1]   # eg 3, 4\n",
    "        answer = -1\n",
    "\n",
    "        try:\n",
    "            if 'b' in key:\n",
    "                pos = self.NOTES_FLAT.index(key)\n",
    "            else:\n",
    "                pos = self.NOTES_SHARP.index(key)\n",
    "        except:\n",
    "            print('The key is not valid', key)\n",
    "            return answer\n",
    "\n",
    "        answer += pos + 12 * (int(octave) + 1) + 1\n",
    "        return answer\n",
    "    def detuned_voices(self, pitch, relative_shift, duration, detune_pct, n_voices, wave_type='square'):\n",
    "        # n_voices = how many oscillators in the array\n",
    "        # detune_range = the difference in cents between the highest and lowest oscillators in the array\n",
    "        if isinstance(pitch, str):\n",
    "            freq = self.pitch_to_freq(self.NoteToMidi(pitch))\n",
    "        detune_range = freq * int(detune_pct)/100\n",
    "        all_cents = [i*detune_range/n_voices - detune_range/2 for i in range(n_voices)] # how much to detune each signal in the array\n",
    "        # print(isinstance(pitch, str))\n",
    "        match wave_type: # REQUIRES PYTHON 3.10\n",
    "            case 'sine':\n",
    "                f = Sine\n",
    "            case 'square':\n",
    "                f = Square\n",
    "            case 'triangle':\n",
    "                f = Triangle\n",
    "            case 'sawtooth':\n",
    "                f = Sawtooth\n",
    "        if isinstance(pitch, str):\n",
    "            freq = self.pitch_to_freq(self.NoteToMidi(pitch))\n",
    "        return gensound.mix([f(self.shift_freq_by_cents(freq*relative_shift,cents),duration) for cents in all_cents])\n",
    "    def generate_audio(self, pitch,duration):\n",
    "        # self._update()\n",
    "        self.pitch = pitch\n",
    "        # 2 LFOS for amplitude modulation\n",
    "        if self.lfo1_type != 'na':\n",
    "            self.lfo1 = Amplitude(SineCurve(frequency=self.lfo1_freq, depth=self.lfo1_depth, baseline=0.5, duration=duration))\n",
    "        else:\n",
    "            self.lfo1 = Amplitude(Constant(1, duration=duration))\n",
    "        if self.lfo2_type != 'na':\n",
    "            self.lfo2 = Amplitude(SineCurve(frequency=self.lfo2_freq, depth=self.lfo2_depth, baseline=0.5, duration=duration))\n",
    "        else:\n",
    "            self.lfo2 = Amplitude(Constant(1, duration=duration))\n",
    "\n",
    "        # 2 oscillators for the main sound\n",
    "        self.osc1 = self.detuned_voices(self.pitch, relative_shift=1, duration=duration,detune_pct = self.osc1_detune, n_voices = self.n_voices, wave_type=self.osc1_wave)\n",
    "        self.osc2 = self.detuned_voices(self.pitch, relative_shift=self.osc2_relative_shift, duration=duration,detune_pct = self.osc2_detune, n_voices = self.n_voices, wave_type=self.osc2_wave)\n",
    "        # 1 oscillator for the sub bass\n",
    "        if self.sub_freq != 0:\n",
    "            self.sub_bass = self.detuned_voices(self.sub_freq, relative_shift=1, duration=duration,detune_pct = self.sub_detune, n_voices = self.n_voices, wave_type='sine')\n",
    "        else:\n",
    "            self.sub_bass = Silence(duration=duration)\n",
    "        # 1 oscillator for the high frequency noise\n",
    "        if self.hf_noise_type != 'na':\n",
    "            self.high_freq_noise = WhiteNoise(duration=duration)\n",
    "        else:\n",
    "            self.high_freq_noise = Silence(duration=duration)\n",
    "        # 1 oscillator for the low frequency noise\n",
    "        if self.lf_noise_type != 'na':\n",
    "            self.low_freq_noise = PinkNoise(duration=duration)\n",
    "        else:\n",
    "            self.low_freq_noise = Silence(duration=duration)\n",
    "            \n",
    "        # Filters\n",
    "        self.filter1 = self.filters['filter1'](self.filter1_freq)\n",
    "        self.filter2 = self.filters['filter2'](self.filter2_freq)\n",
    "\n",
    "        # EFFECTS\n",
    "        #   - Reverb\n",
    "        #   - Vibrato\n",
    "\n",
    "        # AMPLITUDE ENVELOPES\n",
    "        #   - 2 ADSR envelopes\n",
    "        #   - Fade in and out\n",
    "\n",
    "        # apply lfo1 and lfo2 to osc1 and osc2 amplitude\n",
    "        if self.lfo1_freq != 0:\n",
    "            # self.lfo1 = self.lfo1 * ADSR(attack=self.attack, decay=self.decay, sustain=self.sustain, release=self.release)\n",
    "            self.lfo1 = self.osc1 * self.lfo1\n",
    "        if self.lfo2_freq != 0:\n",
    "            # self.lfo2 = self.lfo2 * ADSR(attack=self.attack, decay=self.decay, sustain=self.sustain, release=self.release)\n",
    "            self.lfo2 = self.osc2 * self.lfo2\n",
    "\n",
    "        self.output = self.osc1 + self.osc2 + self.sub_bass + self.high_freq_noise + self.low_freq_noise\n",
    "        if duration < 2:\n",
    "            self.output = self.output * Fade(is_in=True,duration=duration*1000/2)\n",
    "            self.output = self.output * Fade(is_in=False,duration=duration*1000/2)\n",
    "        else:\n",
    "            self.output *= Fade(is_in=True, duration=2000)\n",
    "            self.output *= Fade(is_in=False, duration=2000)\n",
    "        # self.output *= self.filter1\n",
    "        # self.output *= self.filter2\n",
    "        self.output = self.output * ADSR(attack=self.attack, decay=self.decay, sustain=self.sustain, release=self.release)\n",
    "        self.output *= self.filter1\n",
    "        self.output *= self.filter2\n",
    "        return self.output"
   ]
  },
  {
   "cell_type": "code",
   "execution_count": 189,
   "metadata": {},
   "outputs": [],
   "source": [
    "params = {'lfo1_type': 'sine', 'lfo1_freq': 0.5, 'lfo1_depth': 0.5, 'lfo2_type': 'sine', 'lfo2_freq': 0.5, 'lfo2_depth': 0.5, 'osc1_freq': 200.0, 'osc1_relative_shift': 1.0, 'osc1_wave': 'square', 'osc1_detune': 30.0, 'osc2_freq': 400.0, 'osc2_relative_shift': 1.0, 'osc2_wave': 'triangle', 'osc2_detune': 30.0, 'n_voices': 6, 'sub_freq': 100.0, 'sub_wave': 'sine', 'sub_detune': 30.0, 'hf_noise_freq': 1000.0, 'hf_noise_wave': 'sine', 'lf_noise_freq': 100.0, 'lf_noise_wave': 'sine', 'filter1_type': 'lowpass', 'filter1_freq': 1000.0, 'filter2_type': 'na', 'filter2_freq': 0.0, 'filter3_type': 'na', 'filter3_freq': 0.0, 'reverb': 0.5, 'vibrato_freq': 0.5, 'vibrato_depth': 0.5, 'attack': 500.0, 'decay': 0.5, 'sustain': 0.5, 'release': 500.0, 'fade_in': 0.5, 'fade_out': 0.5}"
   ]
  },
  {
   "cell_type": "code",
   "execution_count": 191,
   "metadata": {},
   "outputs": [
    {
     "ename": "TypeError",
     "evalue": "'int' object is not subscriptable",
     "output_type": "error",
     "traceback": [
      "\u001b[0;31m---------------------------------------------------------------------------\u001b[0m",
      "\u001b[0;31mTypeError\u001b[0m                                 Traceback (most recent call last)",
      "\u001b[1;32m/Users/vedant/Desktop/Programming/emotional-background-music-generation/src/timbral_params.ipynb Cell 11\u001b[0m in \u001b[0;36m<cell line: 2>\u001b[0;34m()\u001b[0m\n\u001b[1;32m      <a href='vscode-notebook-cell:/Users/vedant/Desktop/Programming/emotional-background-music-generation/src/timbral_params.ipynb#X10sZmlsZQ%3D%3D?line=0'>1</a>\u001b[0m synth\u001b[39m=\u001b[39mSynth(params)\n\u001b[0;32m----> <a href='vscode-notebook-cell:/Users/vedant/Desktop/Programming/emotional-background-music-generation/src/timbral_params.ipynb#X10sZmlsZQ%3D%3D?line=1'>2</a>\u001b[0m synth\u001b[39m.\u001b[39;49mgenerate_audio(\u001b[39m42\u001b[39;49m,\u001b[39m5e3\u001b[39;49m)\u001b[39m.\u001b[39mplay()\n",
      "\u001b[1;32m/Users/vedant/Desktop/Programming/emotional-background-music-generation/src/timbral_params.ipynb Cell 11\u001b[0m in \u001b[0;36mSynth.generate_audio\u001b[0;34m(self, pitch, duration)\u001b[0m\n\u001b[1;32m     <a href='vscode-notebook-cell:/Users/vedant/Desktop/Programming/emotional-background-music-generation/src/timbral_params.ipynb#X10sZmlsZQ%3D%3D?line=96'>97</a>\u001b[0m     \u001b[39mself\u001b[39m\u001b[39m.\u001b[39mlfo2 \u001b[39m=\u001b[39m Amplitude(Constant(\u001b[39m1\u001b[39m, duration\u001b[39m=\u001b[39mduration))\n\u001b[1;32m     <a href='vscode-notebook-cell:/Users/vedant/Desktop/Programming/emotional-background-music-generation/src/timbral_params.ipynb#X10sZmlsZQ%3D%3D?line=98'>99</a>\u001b[0m \u001b[39m# 2 oscillators for the main sound\u001b[39;00m\n\u001b[0;32m--> <a href='vscode-notebook-cell:/Users/vedant/Desktop/Programming/emotional-background-music-generation/src/timbral_params.ipynb#X10sZmlsZQ%3D%3D?line=99'>100</a>\u001b[0m \u001b[39mself\u001b[39m\u001b[39m.\u001b[39mosc1 \u001b[39m=\u001b[39m \u001b[39mself\u001b[39;49m\u001b[39m.\u001b[39;49mdetuned_voices(\u001b[39mself\u001b[39;49m\u001b[39m.\u001b[39;49mpitch, relative_shift\u001b[39m=\u001b[39;49m\u001b[39m1\u001b[39;49m, duration\u001b[39m=\u001b[39;49mduration,detune_pct \u001b[39m=\u001b[39;49m \u001b[39mself\u001b[39;49m\u001b[39m.\u001b[39;49mosc1_detune, n_voices \u001b[39m=\u001b[39;49m \u001b[39mself\u001b[39;49m\u001b[39m.\u001b[39;49mn_voices, wave_type\u001b[39m=\u001b[39;49m\u001b[39mself\u001b[39;49m\u001b[39m.\u001b[39;49mosc1_wave)\n\u001b[1;32m    <a href='vscode-notebook-cell:/Users/vedant/Desktop/Programming/emotional-background-music-generation/src/timbral_params.ipynb#X10sZmlsZQ%3D%3D?line=100'>101</a>\u001b[0m \u001b[39mself\u001b[39m\u001b[39m.\u001b[39mosc2 \u001b[39m=\u001b[39m \u001b[39mself\u001b[39m\u001b[39m.\u001b[39mdetuned_voices(\u001b[39mself\u001b[39m\u001b[39m.\u001b[39mpitch, relative_shift\u001b[39m=\u001b[39m\u001b[39mself\u001b[39m\u001b[39m.\u001b[39mosc2_relative_shift, duration\u001b[39m=\u001b[39mduration,detune_pct \u001b[39m=\u001b[39m \u001b[39mself\u001b[39m\u001b[39m.\u001b[39mosc2_detune, n_voices \u001b[39m=\u001b[39m \u001b[39mself\u001b[39m\u001b[39m.\u001b[39mn_voices, wave_type\u001b[39m=\u001b[39m\u001b[39mself\u001b[39m\u001b[39m.\u001b[39mosc2_wave)\n\u001b[1;32m    <a href='vscode-notebook-cell:/Users/vedant/Desktop/Programming/emotional-background-music-generation/src/timbral_params.ipynb#X10sZmlsZQ%3D%3D?line=101'>102</a>\u001b[0m \u001b[39m# 1 oscillator for the sub bass\u001b[39;00m\n",
      "\u001b[1;32m/Users/vedant/Desktop/Programming/emotional-background-music-generation/src/timbral_params.ipynb Cell 11\u001b[0m in \u001b[0;36mSynth.detuned_voices\u001b[0;34m(self, pitch, relative_shift, duration, detune_pct, n_voices, wave_type)\u001b[0m\n\u001b[1;32m     <a href='vscode-notebook-cell:/Users/vedant/Desktop/Programming/emotional-background-music-generation/src/timbral_params.ipynb#X10sZmlsZQ%3D%3D?line=65'>66</a>\u001b[0m \u001b[39mdef\u001b[39;00m \u001b[39mdetuned_voices\u001b[39m(\u001b[39mself\u001b[39m, pitch, relative_shift, duration, detune_pct, n_voices, wave_type\u001b[39m=\u001b[39m\u001b[39m'\u001b[39m\u001b[39msquare\u001b[39m\u001b[39m'\u001b[39m):\n\u001b[1;32m     <a href='vscode-notebook-cell:/Users/vedant/Desktop/Programming/emotional-background-music-generation/src/timbral_params.ipynb#X10sZmlsZQ%3D%3D?line=66'>67</a>\u001b[0m     \u001b[39m# n_voices = how many oscillators in the array\u001b[39;00m\n\u001b[1;32m     <a href='vscode-notebook-cell:/Users/vedant/Desktop/Programming/emotional-background-music-generation/src/timbral_params.ipynb#X10sZmlsZQ%3D%3D?line=67'>68</a>\u001b[0m     \u001b[39m# detune_range = the difference in cents between the highest and lowest oscillators in the array\u001b[39;00m\n\u001b[1;32m     <a href='vscode-notebook-cell:/Users/vedant/Desktop/Programming/emotional-background-music-generation/src/timbral_params.ipynb#X10sZmlsZQ%3D%3D?line=68'>69</a>\u001b[0m     \u001b[39m# if isinstance(pitch, str):\u001b[39;00m\n\u001b[0;32m---> <a href='vscode-notebook-cell:/Users/vedant/Desktop/Programming/emotional-background-music-generation/src/timbral_params.ipynb#X10sZmlsZQ%3D%3D?line=69'>70</a>\u001b[0m     freq \u001b[39m=\u001b[39m \u001b[39mself\u001b[39m\u001b[39m.\u001b[39mpitch_to_freq(\u001b[39mself\u001b[39;49m\u001b[39m.\u001b[39;49mNoteToMidi(pitch))\n\u001b[1;32m     <a href='vscode-notebook-cell:/Users/vedant/Desktop/Programming/emotional-background-music-generation/src/timbral_params.ipynb#X10sZmlsZQ%3D%3D?line=70'>71</a>\u001b[0m     detune_range \u001b[39m=\u001b[39m freq \u001b[39m*\u001b[39m \u001b[39mint\u001b[39m(detune_pct)\u001b[39m/\u001b[39m\u001b[39m100\u001b[39m\n\u001b[1;32m     <a href='vscode-notebook-cell:/Users/vedant/Desktop/Programming/emotional-background-music-generation/src/timbral_params.ipynb#X10sZmlsZQ%3D%3D?line=71'>72</a>\u001b[0m     all_cents \u001b[39m=\u001b[39m [i\u001b[39m*\u001b[39mdetune_range\u001b[39m/\u001b[39mn_voices \u001b[39m-\u001b[39m detune_range\u001b[39m/\u001b[39m\u001b[39m2\u001b[39m \u001b[39mfor\u001b[39;00m i \u001b[39min\u001b[39;00m \u001b[39mrange\u001b[39m(n_voices)] \u001b[39m# how much to detune each signal in the array\u001b[39;00m\n",
      "\u001b[1;32m/Users/vedant/Desktop/Programming/emotional-background-music-generation/src/timbral_params.ipynb Cell 11\u001b[0m in \u001b[0;36mSynth.NoteToMidi\u001b[0;34m(self, KeyOctave)\u001b[0m\n\u001b[1;32m     <a href='vscode-notebook-cell:/Users/vedant/Desktop/Programming/emotional-background-music-generation/src/timbral_params.ipynb#X10sZmlsZQ%3D%3D?line=48'>49</a>\u001b[0m \u001b[39mdef\u001b[39;00m \u001b[39mNoteToMidi\u001b[39m(\u001b[39mself\u001b[39m, KeyOctave):\n\u001b[1;32m     <a href='vscode-notebook-cell:/Users/vedant/Desktop/Programming/emotional-background-music-generation/src/timbral_params.ipynb#X10sZmlsZQ%3D%3D?line=49'>50</a>\u001b[0m     \u001b[39m# KeyOctave is formatted like 'C#3'\u001b[39;00m\n\u001b[0;32m---> <a href='vscode-notebook-cell:/Users/vedant/Desktop/Programming/emotional-background-music-generation/src/timbral_params.ipynb#X10sZmlsZQ%3D%3D?line=50'>51</a>\u001b[0m     key \u001b[39m=\u001b[39m KeyOctave[:\u001b[39m-\u001b[39;49m\u001b[39m1\u001b[39;49m]  \u001b[39m# eg C, Db\u001b[39;00m\n\u001b[1;32m     <a href='vscode-notebook-cell:/Users/vedant/Desktop/Programming/emotional-background-music-generation/src/timbral_params.ipynb#X10sZmlsZQ%3D%3D?line=51'>52</a>\u001b[0m     octave \u001b[39m=\u001b[39m KeyOctave[\u001b[39m-\u001b[39m\u001b[39m1\u001b[39m]   \u001b[39m# eg 3, 4\u001b[39;00m\n\u001b[1;32m     <a href='vscode-notebook-cell:/Users/vedant/Desktop/Programming/emotional-background-music-generation/src/timbral_params.ipynb#X10sZmlsZQ%3D%3D?line=52'>53</a>\u001b[0m     answer \u001b[39m=\u001b[39m \u001b[39m-\u001b[39m\u001b[39m1\u001b[39m\n",
      "\u001b[0;31mTypeError\u001b[0m: 'int' object is not subscriptable"
     ]
    }
   ],
   "source": [
    "synth=Synth(params)\n",
    "synth.generate_audio(42,5e3).play()"
   ]
  },
  {
   "cell_type": "markdown",
   "metadata": {},
   "source": [
    "# Interfacing with musical parameters"
   ]
  },
  {
   "cell_type": "code",
   "execution_count": 74,
   "metadata": {},
   "outputs": [],
   "source": [
    "from musical_params_unified import MusicalParameters\n",
    "import numpy as np\n",
    "mp = MusicalParameters(\n",
    "                        duration=90, \n",
    "                        ending_chord_min_length=2, \n",
    "                        starting_key='C', \n",
    "                        starting_length=\"VL\", \n",
    "                        starting_note_density=3, \n",
    "                        starting_octave=4, \n",
    "                        preset_dict = {\n",
    "                            \"default\":\n",
    "                                {\n",
    "                                    \"composition_probabilities\":[0.5,0.5], \n",
    "                                    \"key_transition_probability\":[0.3,0.3,0.3,0.1], \n",
    "                                    \"key_type\":'major', \n",
    "                                    \"note_density_transition_matrix\":np.array([[0.2,0.2,0.2,0.2,0.2],[0.2,0.2,0.2,0.2,0.2],[0.2,0.2,0.2,0.2,0.2],[0.2,0.2,0.2,0.2,0.2],[0.2,0.2,0.2,0.2,0.2]]), \n",
    "                                    \"octave_transition_matrix\":np.array([[0.25,0.25,0.25,0.25],[0.25,0.25,0.25,0.25],[0.25,0.25,0.25,0.25],[0.25,0.25,0.25,0.25]]), \n",
    "                                    \"duration_transition_matrix\":np.array([[0.2,0.2,0.2,0.2,0.2],[0.2,0.2,0.2,0.2,0.2],[0.2,0.2,0.2,0.2,0.2],[0.2,0.2,0.2,0.2,0.2],[0.2,0.2,0.2,0.2,0.2]])\n",
    "                                },\n",
    "                            \"1\": \n",
    "                            {\n",
    "                                    \"composition_probabilities\":[0.5,0.5], \n",
    "                                    \"key_transition_probability\":[0.3,0.3,0.3,0.1], \n",
    "                                    \"key_type\":'major', \n",
    "                                    \"note_density_transition_matrix\":np.array([[0.2,0.2,0.2,0.2,0.2],[0.2,0.2,0.2,0.2,0.2],[0.2,0.2,0.2,0.2,0.2],[0.2,0.2,0.2,0.2,0.2],[0.2,0.2,0.2,0.2,0.2]]), \n",
    "                                    \"octave_transition_matrix\":np.array([[0.25,0.25,0.25,0.25],[0.25,0.25,0.25,0.25],[0.25,0.25,0.25,0.25],[0.25,0.25,0.25,0.25]]), \n",
    "                                    \"duration_transition_matrix\":np.array([[0.2,0.2,0.2,0.2,0.2],[0.2,0.2,0.2,0.2,0.2],[0.2,0.2,0.2,0.2,0.2],[0.2,0.2,0.2,0.2,0.2],[0.2,0.2,0.2,0.2,0.2]])\n",
    "                                },\n",
    "                            \"2\":\n",
    "                            {\n",
    "                                    \"composition_probabilities\":[0.5,0.5], \n",
    "                                    \"key_transition_probability\":[0.3,0.3,0.3,0.1], \n",
    "                                    \"key_type\":'major', \n",
    "                                    \"note_density_transition_matrix\":np.array([[0.2,0.2,0.2,0.2,0.2],[0.2,0.2,0.2,0.2,0.2],[0.2,0.2,0.2,0.2,0.2],[0.2,0.2,0.2,0.2,0.2],[0.2,0.2,0.2,0.2,0.2]]), \n",
    "                                    \"octave_transition_matrix\":np.array([[0.25,0.25,0.25,0.25],[0.25,0.25,0.25,0.25],[0.25,0.25,0.25,0.25],[0.25,0.25,0.25,0.25]]), \n",
    "                                    \"duration_transition_matrix\":np.array([[0.2,0.2,0.2,0.2,0.2],[0.2,0.2,0.2,0.2,0.2],[0.2,0.2,0.2,0.2,0.2],[0.2,0.2,0.2,0.2,0.2],[0.2,0.2,0.2,0.2,0.2]])\n",
    "                                },\n",
    "                            \"3\":{\n",
    "                                    \"composition_probabilities\":[0.5,0.5], \n",
    "                                    \"key_transition_probability\":[0.3,0.3,0.3,0.1], \n",
    "                                    \"key_type\":'major', \n",
    "                                    \"note_density_transition_matrix\":np.array([[0.2,0.2,0.2,0.2,0.2],[0.2,0.2,0.2,0.2,0.2],[0.2,0.2,0.2,0.2,0.2],[0.2,0.2,0.2,0.2,0.2],[0.2,0.2,0.2,0.2,0.2]]), \n",
    "                                    \"octave_transition_matrix\":np.array([[0.25,0.25,0.25,0.25],[0.25,0.25,0.25,0.25],[0.25,0.25,0.25,0.25],[0.25,0.25,0.25,0.25]]), \n",
    "                                    \"duration_transition_matrix\":np.array([[0.2,0.2,0.2,0.2,0.2],[0.2,0.2,0.2,0.2,0.2],[0.2,0.2,0.2,0.2,0.2],[0.2,0.2,0.2,0.2,0.2],[0.2,0.2,0.2,0.2,0.2]])\n",
    "                                },\n",
    "                            \"4\":{\n",
    "                                    \"composition_probabilities\":[0.5,0.5], \n",
    "                                    \"key_transition_probability\":[0.3,0.3,0.3,0.1], \n",
    "                                    \"key_type\":'major', \n",
    "                                    \"note_density_transition_matrix\":np.array([[0.2,0.2,0.2,0.2,0.2],[0.2,0.2,0.2,0.2,0.2],[0.2,0.2,0.2,0.2,0.2],[0.2,0.2,0.2,0.2,0.2],[0.2,0.2,0.2,0.2,0.2]]), \n",
    "                                    \"octave_transition_matrix\":np.array([[0.25,0.25,0.25,0.25],[0.25,0.25,0.25,0.25],[0.25,0.25,0.25,0.25],[0.25,0.25,0.25,0.25]]), \n",
    "                                    \"duration_transition_matrix\":np.array([[0.2,0.2,0.2,0.2,0.2],[0.2,0.2,0.2,0.2,0.2],[0.2,0.2,0.2,0.2,0.2],[0.2,0.2,0.2,0.2,0.2],[0.2,0.2,0.2,0.2,0.2]])\n",
    "                                },\n",
    "                            \"5\":\n",
    "                            {\n",
    "                                    \"composition_probabilities\":[0.5,0.5], \n",
    "                                    \"key_transition_probability\":[0.3,0.3,0.3,0.1], \n",
    "                                    \"key_type\":'major', \n",
    "                                    \"note_density_transition_matrix\":np.array([[0.2,0.2,0.2,0.2,0.2],[0.2,0.2,0.2,0.2,0.2],[0.2,0.2,0.2,0.2,0.2],[0.2,0.2,0.2,0.2,0.2],[0.2,0.2,0.2,0.2,0.2]]), \n",
    "                                    \"octave_transition_matrix\":np.array([[0.25,0.25,0.25,0.25],[0.25,0.25,0.25,0.25],[0.25,0.25,0.25,0.25],[0.25,0.25,0.25,0.25]]), \n",
    "                                    \"duration_transition_matrix\":np.array([[0.2,0.2,0.2,0.2,0.2],[0.2,0.2,0.2,0.2,0.2],[0.2,0.2,0.2,0.2,0.2],[0.2,0.2,0.2,0.2,0.2],[0.2,0.2,0.2,0.2,0.2]])\n",
    "                                }\n",
    "                                    }\n",
    "                            )\n"
   ]
  },
  {
   "cell_type": "code",
   "execution_count": 95,
   "metadata": {},
   "outputs": [],
   "source": [
    "output = mp.get_musical_parameters(mood_map={0.0:1, 20.3:2, 40.6:3, 60.9:4, 81.2:5, 90:1})"
   ]
  },
  {
   "cell_type": "code",
   "execution_count": 10,
   "metadata": {},
   "outputs": [
    {
     "data": {
      "text/plain": [
       "[array([38, 45]),\n",
       " array([54, 58, 61, 66, 49]),\n",
       " array([55, 59, 62, 67]),\n",
       " array([56, 60, 63, 68, 75]),\n",
       " array([49, 53, 56]),\n",
       " array([32, 39]),\n",
       " array([49, 53, 56, 61, 44]),\n",
       " array([49, 53, 56, 61, 68]),\n",
       " array([66, 73]),\n",
       " array([36, 40, 43, 48]),\n",
       " array([65, 69, 72]),\n",
       " array([60]),\n",
       " array([61, 68]),\n",
       " array([54, 58, 61, 66, 49]),\n",
       " array([72, 76, 79, 84]),\n",
       " array([63, 67, 70, 75, 58]),\n",
       " array([58, 62, 65]),\n",
       " array([66, 70, 73]),\n",
       " array([36, 40, 43, 48, 55]),\n",
       " array([41]),\n",
       " array([58]),\n",
       " array([60, 64, 67, 72, 79]),\n",
       " array([30, 34, 37]),\n",
       " array([31, 35, 38, 43]),\n",
       " array([32, 39]),\n",
       " array([37]),\n",
       " array([53, 60]),\n",
       " array([54, 58, 61]),\n",
       " array([58, 62, 65]),\n",
       " array([67]),\n",
       " array([37, 41, 44]),\n",
       " array([41, 44, 48]),\n",
       " array([42, 46, 49, 54, 61]),\n",
       " array([43, 47, 50, 55]),\n",
       " array([39, 43, 46, 51, 34]),\n",
       " array([58, 62, 65, 70]),\n",
       " array([30, 34, 37]),\n",
       " array([35]),\n",
       " array([36, 40, 43]),\n",
       " array([37, 44]),\n",
       " array([38, 42, 45, 50]),\n",
       " array([38]),\n",
       " array([51, 55, 58, 63]),\n",
       " array([48, 52, 55, 60, 43]),\n",
       " array([49, 53, 56, 61]),\n",
       " array([53, 57, 60, 65]),\n",
       " array([54, 58, 61, 66, 49]),\n",
       " array([55]),\n",
       " array([56, 60, 63, 68, 75]),\n",
       " array([57, 61, 64]),\n",
       " array([58, 62, 65, 70, 53]),\n",
       " array([72, 76, 79, 84, 91]),\n",
       " array([68, 72, 75, 80]),\n",
       " array([69, 73, 76, 81, 88]),\n",
       " array([63, 67, 70, 75, 58]),\n",
       " array([64, 71]),\n",
       " array([65]),\n",
       " array([66, 70, 73, 78]),\n",
       " array([32, 39]),\n",
       " array([33, 37, 40, 45]),\n",
       " array([46, 50, 53, 58, 65]),\n",
       " array([51]),\n",
       " array([52, 59]),\n",
       " array([53]),\n",
       " array([54, 58, 61, 66]),\n",
       " array([55, 59, 62]),\n",
       " array([56, 60, 63, 68]),\n",
       " array([57, 61, 64, 69, 76]),\n",
       " array([36, 40, 43, 48]),\n",
       " array([37]),\n",
       " array([38, 45]),\n",
       " array([39]),\n",
       " array([40]),\n",
       " array([29, 33, 36, 41]),\n",
       " array([48, 55]),\n",
       " array([49, 53, 56, 61]),\n",
       " array([65, 69, 72, 77]),\n",
       " array([46, 50, 53, 58, 41]),\n",
       " array([65, 69, 72, 77, 60]),\n",
       " array([70, 74, 77, 82]),\n",
       " array([71, 75, 78]),\n",
       " array([72, 76, 79, 84, 91]),\n",
       " array([53, 57, 60, 65]),\n",
       " array([36, 43]),\n",
       " array([37]),\n",
       " array([44, 48, 51]),\n",
       " array([45, 49, 52, 57, 64]),\n",
       " array([46, 53]),\n",
       " array([47, 51, 54, 59, 66]),\n",
       " array([72, 76, 79, 84, 67]),\n",
       " array([48, 52, 55, 60, 43]),\n",
       " array([32, 39]),\n",
       " array([41]),\n",
       " array([42, 46, 49, 54, 61]),\n",
       " array([43, 47, 50]),\n",
       " array([44, 51]),\n",
       " array([45, 49, 52, 57, 40]),\n",
       " array([30, 37]),\n",
       " array([30, 37]),\n",
       " array([48, 52, 55]),\n",
       " array([30, 37]),\n",
       " array([48, 52, 55, 60]),\n",
       " array([49, 53, 56, 61, 68]),\n",
       " array([65, 72]),\n",
       " array([66, 70, 73]),\n",
       " array([70]),\n",
       " array([71, 78]),\n",
       " array([51, 55, 58, 63, 46]),\n",
       " array([46, 50, 53]),\n",
       " array([51]),\n",
       " array([51, 55, 58]),\n",
       " array([34, 38, 41]),\n",
       " array([53, 57, 60, 65]),\n",
       " array([72, 79]),\n",
       " array([73, 77, 80]),\n",
       " array([58]),\n",
       " array([59, 63, 66, 71, 54])]"
      ]
     },
     "execution_count": 10,
     "metadata": {},
     "output_type": "execute_result"
    }
   ],
   "source": [
    "output['chords']"
   ]
  },
  {
   "cell_type": "code",
   "execution_count": 11,
   "metadata": {},
   "outputs": [
    {
     "data": {
      "text/plain": [
       "[0.8,\n",
       " 0.62,\n",
       " 2.22,\n",
       " 2.75,\n",
       " 3.18,\n",
       " 1.77,\n",
       " 6.7,\n",
       " 2.28,\n",
       " 4.06,\n",
       " 3.71,\n",
       " 0.51,\n",
       " 5.27,\n",
       " 2.58,\n",
       " 0.88,\n",
       " 0.68,\n",
       " 6.45,\n",
       " 6.12,\n",
       " 4.6,\n",
       " 2.29,\n",
       " 5.69,\n",
       " 0.86,\n",
       " 1.57,\n",
       " 1.44,\n",
       " 3.9,\n",
       " 3.65,\n",
       " 0.74,\n",
       " 3.45,\n",
       " 5.64,\n",
       " 2.61,\n",
       " 2.9800000000000226,\n",
       " 3.6,\n",
       " 2.91,\n",
       " 6.32,\n",
       " 2.48,\n",
       " 0.74,\n",
       " 7.04,\n",
       " 1.9,\n",
       " 3.76,\n",
       " 3.32,\n",
       " 4.68,\n",
       " 0.85,\n",
       " 1.07,\n",
       " 4.17,\n",
       " 1.33,\n",
       " 1.96,\n",
       " 0.84,\n",
       " 5.95,\n",
       " 2.93,\n",
       " 1.46,\n",
       " 1.23,\n",
       " 2.29,\n",
       " 1.61,\n",
       " 3.72,\n",
       " 4.84,\n",
       " 1.72,\n",
       " 2.95,\n",
       " 0.82,\n",
       " 7.88,\n",
       " 6.87]"
      ]
     },
     "execution_count": 11,
     "metadata": {},
     "output_type": "execute_result"
    }
   ],
   "source": [
    "output['durations']"
   ]
  },
  {
   "cell_type": "code",
   "execution_count": 96,
   "metadata": {},
   "outputs": [
    {
     "data": {
      "text/plain": [
       "180.57"
      ]
     },
     "execution_count": 96,
     "metadata": {},
     "output_type": "execute_result"
    }
   ],
   "source": [
    "sum(output['durations'])"
   ]
  },
  {
   "cell_type": "code",
   "execution_count": 8,
   "metadata": {},
   "outputs": [],
   "source": [
    "def generate_timbral_curves(mood_map, desired_duration):\n",
    "    \"\"\"\n",
    "    Generates timbral curves for each mood in the mood map.\n",
    "    \"\"\"\n",
    "    timbre = json.load(open('../presets/timbre.json'))\n",
    "    lfo={'na':0, 'sine':1, 'sawtooth':2, 'square':3, 'triangle':4}\n",
    "    osc = {'na':0, 'sine':1, 'sawtooth':2, 'square':3, 'triangle':4}\n",
    "    filters = {'na':0, 'lowpass':1, 'highpass':2}\n",
    "    timbral_curves = {}\n",
    "    emotion_intervals = {}\n",
    "    for i in range(len(mood_map.keys())-1):\n",
    "        emotion_intervals[(list(mood_map.keys())[i], list(mood_map.keys())[i+1])] = (list(mood_map.values())[i], list(mood_map.values())[i+1])\n",
    "    if list(mood_map.keys())[i+1] < desired_duration:\n",
    "        # emotion_intervals.append((list(mood_map.keys())[i+1], desired_duration))\n",
    "        emotion_intervals[(list(mood_map.keys())[i+1], desired_duration)] = (list(mood_map.values())[i+1], list(mood_map.values())[i+1])\n",
    "    \n",
    "    # for interval in emotion_intervals.keys():\n",
    "    \n",
    "    \n",
    "    return emotion_intervals, timbral_curves\n",
    "\n",
    "def generate_audio(musical_param_dict, mood_map):\n",
    "    \"\"\"\n",
    "    Generates audio from the musical parameters\n",
    "    \"\"\"\n",
    "    synth = gensound_synth.Synth('default','../presets')\n",
    "    chords = musical_param_dict['chords']\n",
    "    durations = musical_param_dict['durations']\n",
    "    for i in range(len(chords)):\n",
    "        if i == 0:\n",
    "            audio = 0\n",
    "    return"
   ]
  },
  {
   "cell_type": "code",
   "execution_count": 104,
   "metadata": {},
   "outputs": [],
   "source": [
    "emotion_timestamp_dict = {0.0:1, 20.3:2, 40.6:3, 60.9:4, 81.2:5, 90:1}\n",
    "desired_duration = 90\n",
    "keys = list(emotion_timestamp_dict.keys())\n",
    "values = list(emotion_timestamp_dict.values())\n",
    "\n",
    "emotion_intervals = {}\n",
    "for i in range(len(emotion_timestamp_dict.keys())-1):\n",
    "    emotion_intervals[(keys[i], keys[i+1])] = (values[i], values[i+1])\n",
    "if keys[i+1] < desired_duration:\n",
    "    # emotion_intervals.append((list(mood_map.keys())[i+1], desired_duration))\n",
    "    emotion_intervals[(keys[i+1], desired_duration)] = (values[i+1], values[i+1])"
   ]
  },
  {
   "cell_type": "code",
   "execution_count": 106,
   "metadata": {},
   "outputs": [
    {
     "data": {
      "text/plain": [
       "{(0.0, 20.3): (1, 2),\n",
       " (20.3, 40.6): (2, 3),\n",
       " (40.6, 60.9): (3, 4),\n",
       " (60.9, 81.2): (4, 5),\n",
       " (81.2, 90): (5, 1)}"
      ]
     },
     "execution_count": 106,
     "metadata": {},
     "output_type": "execute_result"
    }
   ],
   "source": [
    "emotion_intervals"
   ]
  },
  {
   "cell_type": "code",
   "execution_count": 69,
   "metadata": {},
   "outputs": [],
   "source": [
    "def interpolate_parameter(initial, final, num_steps):\n",
    "    \"\"\"\n",
    "    Interpolates between two values\n",
    "    \"\"\"\n",
    "    if type(initial) == str:\n",
    "        return np.array([initial if i <= num_steps/2 else final for i in range(num_steps)])\n",
    "    return np.linspace(initial, final, num_steps)\n"
   ]
  },
  {
   "cell_type": "code",
   "execution_count": 35,
   "metadata": {},
   "outputs": [],
   "source": [
    "themes = json.load(open(os.path.join(os.getcwd(),'..','presets', 'themes.json')))\n",
    "musical_params = json.load(open(os.path.join(os.getcwd(),'..','presets', 'musical_params.json')))\n",
    "timbral_params = json.load(open(os.path.join(os.getcwd(),'..','presets', 'timbre.json')))"
   ]
  },
  {
   "cell_type": "code",
   "execution_count": 54,
   "metadata": {},
   "outputs": [
    {
     "name": "stdout",
     "output_type": "stream",
     "text": [
      "[(0.0, 20.3), (20.3, 40.6), (40.6, 60.9), (60.9, 81.2), (81.2, 90), (90, 100)]\n",
      "[(1, 2), (2, 3), (3, 4), (4, 5), (5, 1), (1, 1)]\n"
     ]
    }
   ],
   "source": [
    "print(k)\n",
    "print(v)"
   ]
  },
  {
   "cell_type": "code",
   "execution_count": 57,
   "metadata": {},
   "outputs": [
    {
     "data": {
      "text/plain": [
       "(1, 2)"
      ]
     },
     "execution_count": 57,
     "metadata": {},
     "output_type": "execute_result"
    }
   ],
   "source": [
    "emotion_intervals[k[interval]]"
   ]
  },
  {
   "cell_type": "code",
   "execution_count": 107,
   "metadata": {},
   "outputs": [],
   "source": [
    "k = list(emotion_intervals.keys())\n"
   ]
  },
  {
   "cell_type": "code",
   "execution_count": 70,
   "metadata": {},
   "outputs": [
    {
     "data": {
      "text/plain": [
       "[(0.0, 20.3), (20.3, 40.6), (40.6, 60.9), (60.9, 81.2), (81.2, 90), (90, 100)]"
      ]
     },
     "execution_count": 70,
     "metadata": {},
     "output_type": "execute_result"
    }
   ],
   "source": [
    "k"
   ]
  },
  {
   "cell_type": "code",
   "execution_count": 134,
   "metadata": {},
   "outputs": [],
   "source": [
    "output = {'durations': [2.51, 1.78, 2.41, 1.94, 2.76, 5.93, 2.63, 0.34000000000000385, 4.9, 7.25, 1.27, 1.41, 0.98, 0.7, 3.789999999999999, 4.99, 1.86, 0.64, 2.48, 2.59, 4.42, 0.91, 1.08, 1.3299999999999992, 1.56, 1.76, 4.55, 1.85, 7.93, 1.09, 1.560000000000004, 0.61, 0.98, 2.68, 2.19, 2.339999999999998]}"
   ]
  },
  {
   "cell_type": "code",
   "execution_count": 135,
   "metadata": {},
   "outputs": [
    {
     "data": {
      "text/plain": [
       "180.67999999999998"
      ]
     },
     "execution_count": 135,
     "metadata": {},
     "output_type": "execute_result"
    }
   ],
   "source": [
    "sum(durs)"
   ]
  },
  {
   "cell_type": "code",
   "execution_count": 138,
   "metadata": {},
   "outputs": [
    {
     "name": "stdout",
     "output_type": "stream",
     "text": [
      "(0.0, 20.3)\n",
      "0 8\n",
      "20.3\n",
      "20.3\n",
      "--------------------\n",
      "(20.3, 40.6)\n",
      "8 15\n",
      "20.3\n",
      "20.3\n",
      "--------------------\n",
      "(40.6, 60.9)\n",
      "15 24\n",
      "20.299999999999997\n",
      "20.299999999999997\n",
      "--------------------\n",
      "(60.9, 81.2)\n",
      "24 31\n",
      "20.300000000000004\n",
      "20.300000000000004\n",
      "--------------------\n",
      "(81.2, 90)\n",
      "31 36\n",
      "8.799999999999997\n",
      "8.799999999999997\n",
      "--------------------\n"
     ]
    }
   ],
   "source": [
    "k = list(emotion_intervals.keys())\n",
    "v = list(emotion_intervals.values())\n",
    "\n",
    "durs = chord_sequence['durations']\n",
    "steps={}\n",
    "start = 0\n",
    "end = 0\n",
    "for interval in k:\n",
    "    # print(interval)\n",
    "    while sum(durs[start:end]) < (interval[1] - interval[0]):\n",
    "        # print(interval[1],sum(durs[start:end]))\n",
    "        end += 1\n",
    "        # print(end)\n",
    "        if end > len(durs):\n",
    "            break\n",
    "    print(interval)\n",
    "    print(start,end)\n",
    "    print(sum(durs[start:end]))\n",
    "    print(interval[1]-interval[0])\n",
    "    print(\"--------------------\")\n",
    "    start = end \n",
    "# print(end)"
   ]
  },
  {
   "cell_type": "code",
   "execution_count": 133,
   "metadata": {},
   "outputs": [
    {
     "data": {
      "text/plain": [
       "24.99000000000003"
      ]
     },
     "execution_count": 133,
     "metadata": {},
     "output_type": "execute_result"
    }
   ],
   "source": [
    "sum(durs[22:29])"
   ]
  },
  {
   "cell_type": "code",
   "execution_count": 152,
   "metadata": {},
   "outputs": [],
   "source": [
    "d = mp.get_musical_parameters(mood_map={0.0:1, 20.3:2, 40.6:3, 60.9:4, 81.2:5, 90:1})\n",
    "chords, durations = d['chords'], d['durations']"
   ]
  },
  {
   "cell_type": "code",
   "execution_count": 154,
   "metadata": {},
   "outputs": [
    {
     "data": {
      "text/plain": [
       "[0.73,\n",
       " 0.72,\n",
       " 4.24,\n",
       " 2.34,\n",
       " 3.9,\n",
       " 7.47,\n",
       " 2.34,\n",
       " 4.72,\n",
       " 1.94,\n",
       " 1.31,\n",
       " 4.29,\n",
       " 5.07,\n",
       " 1.9,\n",
       " 4.8,\n",
       " 0.77,\n",
       " 1.06,\n",
       " 4.08,\n",
       " 6.98,\n",
       " 1.61,\n",
       " 3.31,\n",
       " 6.35,\n",
       " 0.54,\n",
       " 1.52,\n",
       " 0.54,\n",
       " 7.67,\n",
       " 1.44,\n",
       " 1.01,\n",
       " 1.38,\n",
       " 0.63,\n",
       " 2.14,\n",
       " 3.1999999999999797,\n",
       " 1.33,\n",
       " 1.02,\n",
       " 6.44,\n",
       " 0.79,\n",
       " 0.86,\n",
       " 1.71,\n",
       " 7.63,\n",
       " 5.45,\n",
       " 3.4,\n",
       " 1.63,\n",
       " 1.01,\n",
       " 0.9,\n",
       " 0.89,\n",
       " 5.98,\n",
       " 0.64,\n",
       " 1.48,\n",
       " 3.48,\n",
       " 2.5,\n",
       " 0.87,\n",
       " 0.98,\n",
       " 1.58,\n",
       " 6.59,\n",
       " 0.75,\n",
       " 1.16,\n",
       " 3.44,\n",
       " 2.28,\n",
       " 5.32,\n",
       " 1.3,\n",
       " 2.49,\n",
       " 0.63,\n",
       " 2.38,\n",
       " 7.06,\n",
       " 7.3]"
      ]
     },
     "execution_count": 154,
     "metadata": {},
     "output_type": "execute_result"
    }
   ],
   "source": [
    "durations"
   ]
  },
  {
   "cell_type": "code",
   "execution_count": 164,
   "metadata": {},
   "outputs": [],
   "source": [
    "\n",
    "t_params = {}\n",
    "k = list(emotion_intervals.keys())\n",
    "v = list(emotion_intervals.values())\n",
    "steps={}\n",
    "start = 0\n",
    "end = 0\n",
    "for interval in k:\n",
    "    while sum(durations[start:end]) < (interval[1] - interval[0]):\n",
    "        end += 1\n",
    "        if end > len(durations):\n",
    "            break\n",
    "    # ic(interval)\n",
    "    # ic(start,end)\n",
    "    # ic(sum(durations[start:end]))\n",
    "    # ic(interval[1]-interval[0])\n",
    "    # ic(\"--------------------\")\n",
    "    steps[interval] = end - start\n",
    "    start = end\n",
    "\n",
    "    duration = list(interval)[1] - list(interval)[0]\n",
    "    for param in timbral_params['default'].keys():\n",
    "        if param != 'automation':\n",
    "            initial_param_value = timbral_params[str(emotion_intervals[interval][0])][param]\n",
    "            final_param_value = timbral_params[str(emotion_intervals[interval][1])][param]\n",
    "            if interval == k[0]:\n",
    "                t_params[param] = interpolate_parameter(initial_param_value, final_param_value, steps[interval])\n",
    "            else:\n",
    "                t_params[param] = np.concatenate((t_params[param], interpolate_parameter(initial_param_value, final_param_value, steps[interval])))\n",
    "    #     t_params[key] = interpolate_parameter(timbral_params[key][interval[0]], timbral_params[key][interval[1]], int(emotion_intervals[interval][1]*desired_duration))\n",
    "\n",
    "    # for interval in range(len(k)):\n",
    "    #     print(interval)\n",
    "    #     # print(emotion_intervals[interval])\n",
    "    #     duration = list(emotion_intervals.keys())[interval][1] - list(emotion_intervals.keys())[interval][0]\n",
    "    #     initial_param_value = timbral_params[str(emotion_intervals[k[interval]][0])][param]\n",
    "    #     final_param_value = timbral_params[str(emotion_intervals[k[interval]][1])][param]\n",
    "    #     print(duration)\n",
    "\n",
    "    #     if interval == 0:\n",
    "    #         t_params[param] = interpolate_parameter(initial_param_value, final_param_value, steps[interval])\n",
    "    #     else:\n",
    "    #         t_params[param] = np.concatenate((t_params[param], interpolate_parameter(initial_param_value, final_param_value, steps[interval])))\n",
    "    # #     t_params[key] = interpolate_parameter(timbral_params[key][interval[0]], timbral_params[key][interval[1]], int(emotion_intervals[interval][1]*desired_duration))"
   ]
  },
  {
   "cell_type": "code",
   "execution_count": 173,
   "metadata": {},
   "outputs": [],
   "source": [
    "for i in range(len(t_params[list(t_params.keys())[0]])):\n",
    "    params={}\n",
    "    for param in t_params.keys():\n",
    "        params[param] = t_params[param][i]"
   ]
  },
  {
   "cell_type": "code",
   "execution_count": 176,
   "metadata": {},
   "outputs": [],
   "source": [
    "params = {'lfo1_type': 'sine', 'lfo1_freq': 0.5, 'lfo1_depth': 0.5, 'lfo2_type': 'sine', 'lfo2_freq': 0.5, 'lfo2_depth': 0.5, 'osc1_freq': 400.0, 'osc1_wave': 'square', 'osc1_detune': 30.0, 'osc2_freq': 400.0, 'osc2_wave': 'triangle', 'osc2_detune': 30.0, 'n_voices': 6, 'sub_freq': 100.0, 'sub_wave': 'sine', 'sub_detune': 30.0, 'hf_noise_freq': 1000.0, 'hf_noise_wave': 'sine', 'lf_noise_freq': 100.0, 'lf_noise_wave': 'sine', 'filter1_type': 'lowpass', 'filter1_freq': 1000.0, 'filter2_type': 'na', 'filter2_freq': 0.0, 'filter3_type': '', 'filter3_freq': 0.0, 'reverb': 0.5, 'vibrato_freq': 0.5, 'vibrato_depth': 0.5, 'attack': 500.0, 'decay': 0.5, 'sustain': 0.5, 'release': 500.0, 'fade_in': 0.5, 'fade_out': 0.5}"
   ]
  },
  {
   "cell_type": "code",
   "execution_count": 166,
   "metadata": {},
   "outputs": [
    {
     "data": {
      "text/plain": [
       "{'lfo1_type': array(['sine', 'sine', 'sine', 'sine', 'sine', 'sine', 'sine', 'sine',\n",
       "        'sine', 'sine', 'sine', 'sine', 'sine', 'sine', 'sine', 'sine',\n",
       "        'sine', 'sine', 'sine', 'sine', 'sine', 'sine', 'sine', 'sine',\n",
       "        'sine', 'sine', 'sine', 'sine', 'sine', 'sine', 'sine', 'sine',\n",
       "        'sine', 'sine', 'sine', 'sine'], dtype='<U4'),\n",
       " 'lfo1_freq': array([0.5, 0.5, 0.5, 0.5, 0.5, 0.5, 0.5, 0.5, 0.5, 0.5, 0.5, 0.5, 0.5,\n",
       "        0.5, 0.5, 0.5, 0.5, 0.5, 0.5, 0.5, 0.5, 0.5, 0.5, 0.5, 0.5, 0.5,\n",
       "        0.5, 0.5, 0.5, 0.5, 0.5, 0.5, 0.5, 0.5, 0.5, 0.5]),\n",
       " 'lfo1_depth': array([0.5, 0.5, 0.5, 0.5, 0.5, 0.5, 0.5, 0.5, 0.5, 0.5, 0.5, 0.5, 0.5,\n",
       "        0.5, 0.5, 0.5, 0.5, 0.5, 0.5, 0.5, 0.5, 0.5, 0.5, 0.5, 0.5, 0.5,\n",
       "        0.5, 0.5, 0.5, 0.5, 0.5, 0.5, 0.5, 0.5, 0.5, 0.5]),\n",
       " 'lfo2_type': array(['sine', 'sine', 'sine', 'sine', 'sine', 'sine', 'sine', 'sine',\n",
       "        'sine', 'sine', 'sine', 'sine', 'sine', 'sine', 'sine', 'sine',\n",
       "        'sine', 'sine', 'sine', 'sine', 'sine', 'sine', 'sine', 'sine',\n",
       "        'sine', 'sine', 'sine', 'sine', 'sine', 'sine', 'sine', 'sine',\n",
       "        'sine', 'sine', 'sine', 'sine'], dtype='<U4'),\n",
       " 'lfo2_freq': array([0.5, 0.5, 0.5, 0.5, 0.5, 0.5, 0.5, 0.5, 0.5, 0.5, 0.5, 0.5, 0.5,\n",
       "        0.5, 0.5, 0.5, 0.5, 0.5, 0.5, 0.5, 0.5, 0.5, 0.5, 0.5, 0.5, 0.5,\n",
       "        0.5, 0.5, 0.5, 0.5, 0.5, 0.5, 0.5, 0.5, 0.5, 0.5]),\n",
       " 'lfo2_depth': array([0.5, 0.5, 0.5, 0.5, 0.5, 0.5, 0.5, 0.5, 0.5, 0.5, 0.5, 0.5, 0.5,\n",
       "        0.5, 0.5, 0.5, 0.5, 0.5, 0.5, 0.5, 0.5, 0.5, 0.5, 0.5, 0.5, 0.5,\n",
       "        0.5, 0.5, 0.5, 0.5, 0.5, 0.5, 0.5, 0.5, 0.5, 0.5]),\n",
       " 'osc1_freq': array([400., 400., 400., 400., 400., 400., 400., 400., 400., 400., 400.,\n",
       "        400., 400., 400., 400., 400., 400., 400., 400., 400., 400., 400.,\n",
       "        400., 400., 400., 400., 400., 400., 400., 400., 400., 400., 400.,\n",
       "        400., 400., 400.]),\n",
       " 'osc1_wave': array(['square', 'square', 'square', 'square', 'square', 'square',\n",
       "        'square', 'square', 'square', 'square', 'square', 'square',\n",
       "        'square', 'square', 'square', 'square', 'square', 'square',\n",
       "        'square', 'square', 'square', 'square', 'square', 'square',\n",
       "        'square', 'square', 'square', 'square', 'square', 'square',\n",
       "        'square', 'square', 'square', 'square', 'square', 'square'],\n",
       "       dtype='<U6'),\n",
       " 'osc1_detune': array([30., 30., 30., 30., 30., 30., 30., 30., 30., 30., 30., 30., 30.,\n",
       "        30., 30., 30., 30., 30., 30., 30., 30., 30., 30., 30., 30., 30.,\n",
       "        30., 30., 30., 30., 30., 30., 30., 30., 30., 30.]),\n",
       " 'osc2_freq': array([400., 400., 400., 400., 400., 400., 400., 400., 400., 400., 400.,\n",
       "        400., 400., 400., 400., 400., 400., 400., 400., 400., 400., 400.,\n",
       "        400., 400., 400., 400., 400., 400., 400., 400., 400., 400., 400.,\n",
       "        400., 400., 400.]),\n",
       " 'osc2_wave': array(['triangle', 'triangle', 'triangle', 'triangle', 'triangle',\n",
       "        'triangle', 'triangle', 'triangle', 'triangle', 'triangle',\n",
       "        'triangle', 'triangle', 'triangle', 'triangle', 'triangle',\n",
       "        'triangle', 'triangle', 'triangle', 'triangle', 'triangle',\n",
       "        'triangle', 'triangle', 'triangle', 'triangle', 'triangle',\n",
       "        'triangle', 'triangle', 'triangle', 'triangle', 'triangle',\n",
       "        'triangle', 'triangle', 'triangle', 'triangle', 'triangle',\n",
       "        'triangle'], dtype='<U8'),\n",
       " 'osc2_detune': array([30., 30., 30., 30., 30., 30., 30., 30., 30., 30., 30., 30., 30.,\n",
       "        30., 30., 30., 30., 30., 30., 30., 30., 30., 30., 30., 30., 30.,\n",
       "        30., 30., 30., 30., 30., 30., 30., 30., 30., 30.]),\n",
       " 'n_voices': array([6., 6., 6., 6., 6., 6., 6., 6., 6., 6., 6., 6., 6., 6., 6., 6., 6.,\n",
       "        6., 6., 6., 6., 6., 6., 6., 6., 6., 6., 6., 6., 6., 6., 6., 6., 6.,\n",
       "        6., 6.]),\n",
       " 'sub_freq': array([100., 100., 100., 100., 100., 100., 100., 100., 100., 100., 100.,\n",
       "        100., 100., 100., 100., 100., 100., 100., 100., 100., 100., 100.,\n",
       "        100., 100., 100., 100., 100., 100., 100., 100., 100., 100., 100.,\n",
       "        100., 100., 100.]),\n",
       " 'sub_wave': array(['sine', 'sine', 'sine', 'sine', 'sine', 'sine', 'sine', 'sine',\n",
       "        'sine', 'sine', 'sine', 'sine', 'sine', 'sine', 'sine', 'sine',\n",
       "        'sine', 'sine', 'sine', 'sine', 'sine', 'sine', 'sine', 'sine',\n",
       "        'sine', 'sine', 'sine', 'sine', 'sine', 'sine', 'sine', 'sine',\n",
       "        'sine', 'sine', 'sine', 'sine'], dtype='<U4'),\n",
       " 'sub_detune': array([30., 30., 30., 30., 30., 30., 30., 30., 30., 30., 30., 30., 30.,\n",
       "        30., 30., 30., 30., 30., 30., 30., 30., 30., 30., 30., 30., 30.,\n",
       "        30., 30., 30., 30., 30., 30., 30., 30., 30., 30.]),\n",
       " 'hf_noise_freq': array([1000., 1000., 1000., 1000., 1000., 1000., 1000., 1000., 1000.,\n",
       "        1000., 1000., 1000., 1000., 1000., 1000., 1000., 1000., 1000.,\n",
       "        1000., 1000., 1000., 1000., 1000., 1000., 1000., 1000., 1000.,\n",
       "        1000., 1000., 1000., 1000., 1000., 1000., 1000., 1000., 1000.]),\n",
       " 'hf_noise_wave': array(['sine', 'sine', 'sine', 'sine', 'sine', 'sine', 'sine', 'sine',\n",
       "        'sine', 'sine', 'sine', 'sine', 'sine', 'sine', 'sine', 'sine',\n",
       "        'sine', 'sine', 'sine', 'sine', 'sine', 'sine', 'sine', 'sine',\n",
       "        'sine', 'sine', 'sine', 'sine', 'sine', 'sine', 'sine', 'sine',\n",
       "        'sine', 'sine', 'sine', 'sine'], dtype='<U4'),\n",
       " 'lf_noise_freq': array([100., 100., 100., 100., 100., 100., 100., 100., 100., 100., 100.,\n",
       "        100., 100., 100., 100., 100., 100., 100., 100., 100., 100., 100.,\n",
       "        100., 100., 100., 100., 100., 100., 100., 100., 100., 100., 100.,\n",
       "        100., 100., 100.]),\n",
       " 'lf_noise_wave': array(['sine', 'sine', 'sine', 'sine', 'sine', 'sine', 'sine', 'sine',\n",
       "        'sine', 'sine', 'sine', 'sine', 'sine', 'sine', 'sine', 'sine',\n",
       "        'sine', 'sine', 'sine', 'sine', 'sine', 'sine', 'sine', 'sine',\n",
       "        'sine', 'sine', 'sine', 'sine', 'sine', 'sine', 'sine', 'sine',\n",
       "        'sine', 'sine', 'sine', 'sine'], dtype='<U4'),\n",
       " 'filter1_type': array(['lowpass', 'lowpass', 'lowpass', 'lowpass', 'lowpass', 'lowpass',\n",
       "        'lowpass', 'lowpass', 'lowpass', 'lowpass', 'lowpass', 'lowpass',\n",
       "        'lowpass', 'lowpass', 'lowpass', 'lowpass', 'lowpass', 'lowpass',\n",
       "        'lowpass', 'lowpass', 'lowpass', 'lowpass', 'lowpass', 'lowpass',\n",
       "        'lowpass', 'lowpass', 'lowpass', 'lowpass', 'lowpass', 'lowpass',\n",
       "        'lowpass', 'lowpass', 'lowpass', 'lowpass', 'lowpass', 'lowpass'],\n",
       "       dtype='<U7'),\n",
       " 'filter1_freq': array([1000., 1000., 1000., 1000., 1000., 1000., 1000., 1000., 1000.,\n",
       "        1000., 1000., 1000., 1000., 1000., 1000., 1000., 1000., 1000.,\n",
       "        1000., 1000., 1000., 1000., 1000., 1000., 1000., 1000., 1000.,\n",
       "        1000., 1000., 1000., 1000., 1000., 1000., 1000., 1000., 1000.]),\n",
       " 'filter2_type': array(['na', 'na', 'na', 'na', 'na', 'na', 'na', 'na', 'na', 'na', 'na',\n",
       "        'na', 'na', 'na', 'na', 'na', 'na', 'na', 'na', 'na', 'na', 'na',\n",
       "        'na', 'na', 'na', 'na', 'na', 'na', 'na', 'na', 'na', 'na', 'na',\n",
       "        'na', 'na', 'na'], dtype='<U2'),\n",
       " 'filter2_freq': array([0., 0., 0., 0., 0., 0., 0., 0., 0., 0., 0., 0., 0., 0., 0., 0., 0.,\n",
       "        0., 0., 0., 0., 0., 0., 0., 0., 0., 0., 0., 0., 0., 0., 0., 0., 0.,\n",
       "        0., 0.]),\n",
       " 'filter3_type': array(['', '', '', '', 'na', 'na', 'na', 'na', 'na', 'na', 'na', 'na',\n",
       "        'na', 'na', 'na', 'na', 'na', 'na', 'na', 'na', 'na', 'na', 'na',\n",
       "        'na', 'na', 'na', 'na', 'na', 'na', 'na', 'na', 'na', 'na', 'na',\n",
       "        'na', ''], dtype='<U2'),\n",
       " 'filter3_freq': array([0., 0., 0., 0., 0., 0., 0., 0., 0., 0., 0., 0., 0., 0., 0., 0., 0.,\n",
       "        0., 0., 0., 0., 0., 0., 0., 0., 0., 0., 0., 0., 0., 0., 0., 0., 0.,\n",
       "        0., 0.]),\n",
       " 'reverb': array([0.5, 0.5, 0.5, 0.5, 0.5, 0.5, 0.5, 0.5, 0.5, 0.5, 0.5, 0.5, 0.5,\n",
       "        0.5, 0.5, 0.5, 0.5, 0.5, 0.5, 0.5, 0.5, 0.5, 0.5, 0.5, 0.5, 0.5,\n",
       "        0.5, 0.5, 0.5, 0.5, 0.5, 0.5, 0.5, 0.5, 0.5, 0.5]),\n",
       " 'vibrato_freq': array([0.5, 0.5, 0.5, 0.5, 0.5, 0.5, 0.5, 0.5, 0.5, 0.5, 0.5, 0.5, 0.5,\n",
       "        0.5, 0.5, 0.5, 0.5, 0.5, 0.5, 0.5, 0.5, 0.5, 0.5, 0.5, 0.5, 0.5,\n",
       "        0.5, 0.5, 0.5, 0.5, 0.5, 0.5, 0.5, 0.5, 0.5, 0.5]),\n",
       " 'vibrato_depth': array([0.5, 0.5, 0.5, 0.5, 0.5, 0.5, 0.5, 0.5, 0.5, 0.5, 0.5, 0.5, 0.5,\n",
       "        0.5, 0.5, 0.5, 0.5, 0.5, 0.5, 0.5, 0.5, 0.5, 0.5, 0.5, 0.5, 0.5,\n",
       "        0.5, 0.5, 0.5, 0.5, 0.5, 0.5, 0.5, 0.5, 0.5, 0.5]),\n",
       " 'attack': array([500., 500., 500., 500., 500., 500., 500., 500., 500., 500., 500.,\n",
       "        500., 500., 500., 500., 500., 500., 500., 500., 500., 500., 500.,\n",
       "        500., 500., 500., 500., 500., 500., 500., 500., 500., 500., 500.,\n",
       "        500., 500., 500.]),\n",
       " 'decay': array([0.5, 0.5, 0.5, 0.5, 0.5, 0.5, 0.5, 0.5, 0.5, 0.5, 0.5, 0.5, 0.5,\n",
       "        0.5, 0.5, 0.5, 0.5, 0.5, 0.5, 0.5, 0.5, 0.5, 0.5, 0.5, 0.5, 0.5,\n",
       "        0.5, 0.5, 0.5, 0.5, 0.5, 0.5, 0.5, 0.5, 0.5, 0.5]),\n",
       " 'sustain': array([0.5, 0.5, 0.5, 0.5, 0.5, 0.5, 0.5, 0.5, 0.5, 0.5, 0.5, 0.5, 0.5,\n",
       "        0.5, 0.5, 0.5, 0.5, 0.5, 0.5, 0.5, 0.5, 0.5, 0.5, 0.5, 0.5, 0.5,\n",
       "        0.5, 0.5, 0.5, 0.5, 0.5, 0.5, 0.5, 0.5, 0.5, 0.5]),\n",
       " 'release': array([500., 500., 500., 500., 500., 500., 500., 500., 500., 500., 500.,\n",
       "        500., 500., 500., 500., 500., 500., 500., 500., 500., 500., 500.,\n",
       "        500., 500., 500., 500., 500., 500., 500., 500., 500., 500., 500.,\n",
       "        500., 500., 500.]),\n",
       " 'fade_in': array([0.5, 0.5, 0.5, 0.5, 0.5, 0.5, 0.5, 0.5, 0.5, 0.5, 0.5, 0.5, 0.5,\n",
       "        0.5, 0.5, 0.5, 0.5, 0.5, 0.5, 0.5, 0.5, 0.5, 0.5, 0.5, 0.5, 0.5,\n",
       "        0.5, 0.5, 0.5, 0.5, 0.5, 0.5, 0.5, 0.5, 0.5, 0.5]),\n",
       " 'fade_out': array([0.5, 0.5, 0.5, 0.5, 0.5, 0.5, 0.5, 0.5, 0.5, 0.5, 0.5, 0.5, 0.5,\n",
       "        0.5, 0.5, 0.5, 0.5, 0.5, 0.5, 0.5, 0.5, 0.5, 0.5, 0.5, 0.5, 0.5,\n",
       "        0.5, 0.5, 0.5, 0.5, 0.5, 0.5, 0.5, 0.5, 0.5, 0.5])}"
      ]
     },
     "execution_count": 166,
     "metadata": {},
     "output_type": "execute_result"
    }
   ],
   "source": [
    "t_params"
   ]
  },
  {
   "cell_type": "code",
   "execution_count": 165,
   "metadata": {},
   "outputs": [
    {
     "data": {
      "text/plain": [
       "{(0.0, 20.3): 7,\n",
       " (20.3, 40.6): 7,\n",
       " (40.6, 60.9): 7,\n",
       " (60.9, 81.2): 11,\n",
       " (81.2, 90): 4}"
      ]
     },
     "execution_count": 165,
     "metadata": {},
     "output_type": "execute_result"
    }
   ],
   "source": [
    "steps"
   ]
  },
  {
   "cell_type": "code",
   "execution_count": 21,
   "metadata": {},
   "outputs": [],
   "source": [
    "emotion_timestamp_dict = {0.0:1, 20.3:2, 40.6:3, 60.9:4, 81.2:5, 90:1}\n",
    "desired_duration = 90"
   ]
  },
  {
   "cell_type": "code",
   "execution_count": 22,
   "metadata": {},
   "outputs": [],
   "source": [
    "keys = list(emotion_timestamp_dict.keys())\n",
    "values = list(emotion_timestamp_dict.values())\n",
    "emotion_intervals = {}\n",
    "for i in range(len(emotion_timestamp_dict.keys())-1):\n",
    "    emotion_intervals[(keys[i], keys[i+1])] = (values[i], values[i+1])\n",
    "if keys[i+1] < desired_duration:\n",
    "    # emotion_intervals.append((list(mood_map.keys())[i+1], desired_duration))\n",
    "    emotion_intervals[(keys[i+1], desired_duration)] = (values[i+1], values[i+1])"
   ]
  },
  {
   "cell_type": "code",
   "execution_count": 26,
   "metadata": {},
   "outputs": [
    {
     "ename": "AttributeError",
     "evalue": "'MusicalParameters' object has no attribute 'generate_chords'",
     "output_type": "error",
     "traceback": [
      "\u001b[0;31m---------------------------------------------------------------------------\u001b[0m",
      "\u001b[0;31mAttributeError\u001b[0m                            Traceback (most recent call last)",
      "\u001b[1;32m/Users/vedant/Desktop/Programming/emotional-background-music-generation/src/timbral_params.ipynb Cell 19\u001b[0m in \u001b[0;36m<cell line: 1>\u001b[0;34m()\u001b[0m\n\u001b[0;32m----> <a href='vscode-notebook-cell:/Users/vedant/Desktop/Programming/emotional-background-music-generation/src/timbral_params.ipynb#X64sZmlsZQ%3D%3D?line=0'>1</a>\u001b[0m chords, durations \u001b[39m=\u001b[39m mp\u001b[39m.\u001b[39;49mgenerate_chords(emotion_timestamp_dict)\n",
      "\u001b[0;31mAttributeError\u001b[0m: 'MusicalParameters' object has no attribute 'generate_chords'"
     ]
    }
   ],
   "source": [
    "chords, durations = mp.generate_chords(emotion_timestamp_dict)"
   ]
  },
  {
   "cell_type": "code",
   "execution_count": 23,
   "metadata": {},
   "outputs": [
    {
     "data": {
      "text/plain": [
       "{(0.0, 20.3): (1, 2),\n",
       " (20.3, 40.6): (2, 3),\n",
       " (40.6, 60.9): (3, 4),\n",
       " (60.9, 81.2): (4, 5),\n",
       " (81.2, 90): (5, 1)}"
      ]
     },
     "execution_count": 23,
     "metadata": {},
     "output_type": "execute_result"
    }
   ],
   "source": [
    "emotion_intervals"
   ]
  },
  {
   "cell_type": "code",
   "execution_count": 16,
   "metadata": {},
   "outputs": [],
   "source": [
    "def interpolate_parameter(initial, final, num_steps):\n",
    "    \"\"\"\n",
    "    Interpolates between two values\n",
    "    \"\"\"\n",
    "    if type(initial) == str:\n",
    "        return np.array([initial if i <= num_steps/2 else final for i in range(num_steps)])\n",
    "    return np.linspace(initial, final, num_steps)"
   ]
  },
  {
   "cell_type": "code",
   "execution_count": 18,
   "metadata": {},
   "outputs": [],
   "source": [
    "import numpy as np"
   ]
  },
  {
   "cell_type": "code",
   "execution_count": 9,
   "metadata": {},
   "outputs": [
    {
     "data": {
      "text/plain": [
       "{(0.0, 20.3): (1, 2),\n",
       " (20.3, 40.6): (2, 3),\n",
       " (40.6, 60.9): (3, 4),\n",
       " (60.9, 81.2): (4, 5),\n",
       " (81.2, 90): (5, 1),\n",
       " (90, 100): (1, 1)}"
      ]
     },
     "execution_count": 9,
     "metadata": {},
     "output_type": "execute_result"
    }
   ],
   "source": [
    "d,_=generate_timbral_curves({0.0:1, 20.3:2, 40.6:3, 60.9:4, 81.2:5, 90:1}, 100)\n",
    "d"
   ]
  },
  {
   "cell_type": "code",
   "execution_count": 30,
   "metadata": {},
   "outputs": [
    {
     "data": {
      "text/plain": [
       "dict_keys(['lfo1_type', 'lfo1_freq', 'lfo1_depth', 'lfo2_type', 'lfo2_freq', 'lfo2_depth', 'osc1_wave', 'osc1_detune', 'osc2_wave', 'osc2_detune', 'osc2_relative_shift', 'n_voices', 'sub_freq', 'sub_wave', 'sub_detune', 'hf_noise_type', 'lf_noise_type', 'filter1_type', 'filter1_freq', 'filter2_type', 'filter2_freq', 'filter3_type', 'filter3_freq', 'reverb', 'vibrato_freq', 'vibrato_depth', 'attack', 'decay', 'sustain', 'release', 'automation'])"
      ]
     },
     "execution_count": 30,
     "metadata": {},
     "output_type": "execute_result"
    }
   ],
   "source": [
    "mellow_o.keys()"
   ]
  },
  {
   "cell_type": "code",
   "execution_count": 5,
   "metadata": {},
   "outputs": [],
   "source": [
    "from icecream import ic\n",
    "import json\n",
    "import gensound\n",
    "from gensound.signals import Sine, Sawtooth, Square, Triangle, WhiteNoise, Silence, PinkNoise, Mix, WAV\n",
    "from gensound.effects import OneImpulseReverb, Vibrato\n",
    "from gensound.filters import SimpleBandPass, SimpleHPF, SimpleLPF, SimpleHighShelf, SimpleLowShelf\n",
    "from gensound.transforms import ADSR, Fade, Amplitude, CrossFade\n",
    "from gensound.curve import SineCurve, Constant, Line"
   ]
  },
  {
   "cell_type": "code",
   "execution_count": 10,
   "metadata": {},
   "outputs": [],
   "source": [
    "\n",
    "\n",
    "curves={}\n",
    "for i in range(len(d.keys())):\n",
    "    interval = list(d.keys())[i]\n",
    "    duration = interval[1] - interval[0]\n",
    "    initial_mood = d[list(d.keys())[i]][0]\n",
    "    final_mood = d[list(d.keys())[i]][1]\n",
    "    if i == 0:\n",
    "        for param in list(timbre['default'].keys()):\n",
    "            # create a gensound line object with the starting and ending values for each parameter based on the mood found from timbre.json\n",
    "            if (param[:2] == 'lfo') and (param[-5:]=='_type'):\n",
    "                curves[param] = Constant(lfo[timbre[str(initial_mood)][param]], duration)\n",
    "            if (param[:5] == 'filter') and (param[-5:]=='_type'):\n",
    "                curves[param] = Constant(filters[timbre[str(initial_mood)][param]], duration)\n",
    "            if param[-5:] == '_wave':\n",
    "                curves[param] = Constant(osc[timbre[str(initial_mood)][param]], duration)\n",
    "            if param == 'automation':\n",
    "                pass\n",
    "            # if the parameter is an lfo, use the lfo lookup dict    \n",
    "            else:\n",
    "                curves[param] = Line(timbre[str(initial_mood)][param], timbre[str(final_mood)][param], duration)\n",
    "    else:\n",
    "        for param in list(timbre['default'].keys()):\n",
    "            # create a gensound line object with the starting and ending values for each parameter based on the mood found from timbre.json\n",
    "            if (param[:2] == 'lfo') and (param[-5:]=='_type'):\n",
    "                curves[param] = curves[param] | Constant(lfo[timbre[str(initial_mood)][param]], duration)\n",
    "            if (param[:5] == 'filter') and (param[-5:]=='_type'):\n",
    "                curves[param] = curves[param] | Constant(filters[timbre[str(initial_mood)][param]], duration)\n",
    "            if param[-5:] == '_wave':\n",
    "                curves[param] = curves[param] | Constant(osc[timbre[str(initial_mood)][param]], duration)\n",
    "            if param == 'automation':\n",
    "                pass\n",
    "            else:\n",
    "                curves[param] = curves[param] | Line(timbre[str(final_mood)][param], timbre[str(final_mood)][param], duration)\n",
    "            \n",
    "#     ic(interval)\n",
    "#     ic(initial_mood, final_mood)\n",
    "# ic(curves)"
   ]
  },
  {
   "cell_type": "code",
   "execution_count": null,
   "metadata": {},
   "outputs": [],
   "source": [
    "for i in range(len(output['chords'])):\n",
    "    if i == 0:\n",
    "        audio = "
   ]
  },
  {
   "cell_type": "markdown",
   "metadata": {},
   "source": [
    "## Debugging"
   ]
  },
  {
   "cell_type": "code",
   "execution_count": 168,
   "metadata": {},
   "outputs": [
    {
     "ename": "NameError",
     "evalue": "name 'AmbientMusicSynthesis' is not defined",
     "output_type": "error",
     "traceback": [
      "\u001b[0;31m---------------------------------------------------------------------------\u001b[0m",
      "\u001b[0;31mNameError\u001b[0m                                 Traceback (most recent call last)",
      "\u001b[1;32m/Users/vedant/Desktop/Programming/emotional-background-music-generation/src/timbral_params.ipynb Cell 49\u001b[0m in \u001b[0;36m<cell line: 2>\u001b[0;34m()\u001b[0m\n\u001b[1;32m      <a href='vscode-notebook-cell:/Users/vedant/Desktop/Programming/emotional-background-music-generation/src/timbral_params.ipynb#Y141sZmlsZQ%3D%3D?line=0'>1</a>\u001b[0m \u001b[39mimport\u001b[39;00m \u001b[39mmain\u001b[39;00m\n\u001b[0;32m----> <a href='vscode-notebook-cell:/Users/vedant/Desktop/Programming/emotional-background-music-generation/src/timbral_params.ipynb#Y141sZmlsZQ%3D%3D?line=1'>2</a>\u001b[0m ams \u001b[39m=\u001b[39m AmbientMusicSynthesis()\n",
      "\u001b[0;31mNameError\u001b[0m: name 'AmbientMusicSynthesis' is not defined"
     ]
    }
   ],
   "source": [
    "import main\n",
    "ams = AmbientMusicSynthesis()"
   ]
  },
  {
   "cell_type": "code",
   "execution_count": 16,
   "metadata": {},
   "outputs": [
    {
     "data": {
      "text/plain": [
       "<Sound at 0x7fcdf1153270>"
      ]
     },
     "execution_count": 16,
     "metadata": {},
     "output_type": "execute_result"
    }
   ],
   "source": [
    "o1 = Sawtooth('A3',5e3)\n",
    "o2 = Sawtooth('A4',5e3)\n",
    "\n",
    "out = o1 + o2\n",
    "\n",
    "filter1 = synth.filter1\n",
    "filter2 = synth.filter2\n",
    "out *= filter1\n",
    "out *= filter2\n",
    "out *= ADSR(attack=synth.attack, decay=synth.decay, sustain=synth.sustain, release=synth.release)\n",
    "out.play()"
   ]
  },
  {
   "cell_type": "code",
   "execution_count": 28,
   "metadata": {},
   "outputs": [
    {
     "data": {
      "text/plain": [
       "<Sound at 0x7fcdf08ea5b0>"
      ]
     },
     "execution_count": 28,
     "metadata": {},
     "output_type": "execute_result"
    }
   ],
   "source": [
    "def detuned_array(pitch, duration, width, amount):\n",
    "  # amount = how many oscillators in the array\n",
    "  # width = the difference in cents between the highest and lowest oscillators in the array\n",
    "  all_cents = [i*width/amount - width/2 for i in range(amount)] # how much to detune each signal in the array\n",
    "  return gensound.mix([ Sawtooth(f\"{pitch}{round(cents):+}\", duration) for cents in all_cents ])\n",
    "\n",
    "# detuned_array(\"D4\", duration=5e3, width=0, amount=1).play() # just one\n",
    "# detuned_array(\"E4\", duration=5e3, width=10, amount=3).play() # three, across 10 cents\n",
    "detuned_array(\"F#4\", duration=5e3, width=40, amount=3).play() # many"
   ]
  },
  {
   "cell_type": "code",
   "execution_count": null,
   "metadata": {},
   "outputs": [],
   "source": [
    "# n_voices = how many oscillators in the array\n",
    "# detune_range = the difference in cents between the highest and lowest oscillators in the array\n",
    "if isinstance(pitch, str):\n",
    "    freq = self.pitch_to_freq(self.NoteToMidi(pitch))\n",
    "detune_range = freq * int(detune_pct)/100\n",
    "all_cents = [i*detune_range/n_voices - detune_range/2 for i in range(n_voices)] # how much to detune each signal in the array\n",
    "# print(isinstance(pitch, str))\n",
    "match wave_type: # REQUIRES PYTHON 3.10\n",
    "    case 'sine':\n",
    "        f = Sine\n",
    "    case 'square':\n",
    "        f = Square\n",
    "    case 'triangle':\n",
    "        f = Triangle\n",
    "    case 'sawtooth':\n",
    "        f = Sawtooth\n",
    "if isinstance(pitch, str):\n",
    "    freq = self.pitch_to_freq(self.NoteToMidi(pitch))\n",
    "return gensound.mix([f(self.shift_freq_by_cents(freq*relative_shift,cents),duration) for cents in all_cents])"
   ]
  },
  {
   "cell_type": "code",
   "execution_count": 17,
   "metadata": {},
   "outputs": [
    {
     "data": {
      "text/plain": [
       "<Sound at 0x7fcdf38ca130>"
      ]
     },
     "execution_count": 17,
     "metadata": {},
     "output_type": "execute_result"
    }
   ],
   "source": [
    "out.play()"
   ]
  },
  {
   "cell_type": "code",
   "execution_count": null,
   "metadata": {},
   "outputs": [],
   "source": [
    "def octave_to_multiplier(octave):\n",
    "    return 2**(octave-4)"
   ]
  },
  {
   "cell_type": "code",
   "execution_count": 16,
   "metadata": {},
   "outputs": [
    {
     "data": {
      "text/plain": [
       "<Sound at 0x7f9b9c9f34b0>"
      ]
     },
     "execution_count": 16,
     "metadata": {},
     "output_type": "execute_result"
    }
   ],
   "source": [
    "pitch = 'A3'\n",
    "relative_shift = 2\n",
    "duration = 2e3\n",
    "detune_pct = 8\n",
    "n_voices = 4\n",
    "wave_type='sawtooth'\n",
    "signal = synth.detuned_voices(pitch, relative_shift, duration, detune_pct, n_voices, wave_type)\n",
    "signal.play()"
   ]
  },
  {
   "cell_type": "code",
   "execution_count": 21,
   "metadata": {},
   "outputs": [
    {
     "data": {
      "text/plain": [
       "<Sound at 0x7f9b9cde40c0>"
      ]
     },
     "execution_count": 21,
     "metadata": {},
     "output_type": "execute_result"
    }
   ],
   "source": [
    "osc1 = synth.osc1\n",
    "osc2 = synth.osc2\n",
    "# filter1 = synth.filter1\n",
    "# filter2 = synth.filter2\n",
    "\n",
    "output = osc1 + osc2 \n",
    "# output *= filter1\n",
    "# output *= filter2\n",
    "output *= ADSR(attack=synth.attack, decay=synth.decay, sustain=synth.sustain, release=synth.release)\n",
    "output.play()"
   ]
  },
  {
   "cell_type": "code",
   "execution_count": 169,
   "metadata": {},
   "outputs": [
    {
     "data": {
      "text/plain": [
       "array([ 1,  3,  5,  7, 10])"
      ]
     },
     "execution_count": 169,
     "metadata": {},
     "output_type": "execute_result"
    }
   ],
   "source": [
    "np.linspace(1, 10, 5, dtype=int)"
   ]
  },
  {
   "cell_type": "code",
   "execution_count": 6,
   "metadata": {},
   "outputs": [
    {
     "name": "stderr",
     "output_type": "stream",
     "text": [
      "UserWarning: Output audio signal amplitude exceeds 1 (max abs. amplitude 15.88). By default, the signal will be shrunk to fit range of [-1, 1] to prevent clipping. To prevent this behaviour, set the max_amplitude argument to zero, which leaves the signal untouched, or to any positive number, which will stretch/shrink it to match the given peak amplitude.\n"
     ]
    },
    {
     "data": {
      "text/plain": [
       "<Sound at 0x7f9b9ce1bc00>"
      ]
     },
     "execution_count": 6,
     "metadata": {},
     "output_type": "execute_result"
    }
   ],
   "source": [
    "synth.osc1.play()"
   ]
  },
  {
   "cell_type": "code",
   "execution_count": 46,
   "metadata": {},
   "outputs": [],
   "source": [
    "filters={}\n",
    "for filter_number in ['filter1','filter2','filter3']:\n",
    "    if mellow_o[filter_number+'_type'] == 'na':\n",
    "        mellow_o[filter_number] = None\n",
    "    else:\n",
    "        match mellow_o[filter_number+'_type']:\n",
    "            case 'lowpass':\n",
    "                filters[filter_number] = SimpleLPF\n",
    "            case 'highpass':\n",
    "                filters[filter_number] = SimpleHPF\n",
    "            case 'bandpass':\n",
    "                filters[filter_number] = SimpleBandPass\n",
    "            case 'lowshelf':\n",
    "                filters[filter_number] = SimpleLowShelf\n",
    "            case 'highshelf':\n",
    "                filters[filter_number] = SimpleHighShelf"
   ]
  },
  {
   "cell_type": "code",
   "execution_count": null,
   "metadata": {},
   "outputs": [],
   "source": []
  }
 ],
 "metadata": {
  "kernelspec": {
   "display_name": "Python 3.10.4 ('bgm-generation')",
   "language": "python",
   "name": "python3"
  },
  "language_info": {
   "codemirror_mode": {
    "name": "ipython",
    "version": 3
   },
   "file_extension": ".py",
   "mimetype": "text/x-python",
   "name": "python",
   "nbconvert_exporter": "python",
   "pygments_lexer": "ipython3",
   "version": "3.10.4"
  },
  "orig_nbformat": 4,
  "vscode": {
   "interpreter": {
    "hash": "11e541338b35738313e8424a03c0ad951310cbc49d68edead48851e8ef14da64"
   }
  }
 },
 "nbformat": 4,
 "nbformat_minor": 2
}
