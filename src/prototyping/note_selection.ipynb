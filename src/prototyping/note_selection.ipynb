{
 "cells": [
  {
   "cell_type": "markdown",
   "metadata": {},
   "source": [
    "\n",
    "\n",
    "- Total duration to be divided into 2 sections if there is a change from one emotional state to another during the piece\n",
    "- Each section will be divided into (number of notes), which will be calculated based on the randomly selected range of note durations\n",
    "- The last note of every section will be atleast 3 seconds long\n",
    "- The section duration is reduced by a randomly selected note duration within the range\n",
    "\n",
    "Alternatively:\n",
    "- If the affect has low arousal, the notes/chords can all be set to a standard duration (3-5s) \n",
    "- If affect has high arousal, the duration of each note/chord is randomly sampled from the range of note durations\n",
    "- This process continues until the final note is less than 3 seconds long, in which case the penultimate note is extended to the end of the audio"
   ]
  },
  {
   "cell_type": "markdown",
   "metadata": {},
   "source": []
  },
  {
   "cell_type": "code",
   "execution_count": 1,
   "metadata": {},
   "outputs": [
    {
     "ename": "FileNotFoundError",
     "evalue": "[Errno 2] No such file or directory: 'Liverpool_band_chord_sequence.csv'",
     "output_type": "error",
     "traceback": [
      "\u001b[0;31m---------------------------------------------------------------------------\u001b[0m",
      "\u001b[0;31mFileNotFoundError\u001b[0m                         Traceback (most recent call last)",
      "\u001b[0;32m<ipython-input-1-70a96a1262ab>\u001b[0m in \u001b[0;36m<module>\u001b[0;34m\u001b[0m\n\u001b[1;32m      6\u001b[0m \u001b[0;34m\u001b[0m\u001b[0m\n\u001b[1;32m      7\u001b[0m \u001b[0;31m# read file\u001b[0m\u001b[0;34m\u001b[0m\u001b[0;34m\u001b[0m\u001b[0m\n\u001b[0;32m----> 8\u001b[0;31m \u001b[0mdata\u001b[0m \u001b[0;34m=\u001b[0m \u001b[0mpd\u001b[0m\u001b[0;34m.\u001b[0m\u001b[0mread_csv\u001b[0m\u001b[0;34m(\u001b[0m\u001b[0;34m'Liverpool_band_chord_sequence.csv'\u001b[0m\u001b[0;34m)\u001b[0m\u001b[0;34m\u001b[0m\u001b[0;34m\u001b[0m\u001b[0m\n\u001b[0m",
      "\u001b[0;32m/usr/local/lib/python3.9/site-packages/pandas/io/parsers.py\u001b[0m in \u001b[0;36mread_csv\u001b[0;34m(filepath_or_buffer, sep, delimiter, header, names, index_col, usecols, squeeze, prefix, mangle_dupe_cols, dtype, engine, converters, true_values, false_values, skipinitialspace, skiprows, skipfooter, nrows, na_values, keep_default_na, na_filter, verbose, skip_blank_lines, parse_dates, infer_datetime_format, keep_date_col, date_parser, dayfirst, cache_dates, iterator, chunksize, compression, thousands, decimal, lineterminator, quotechar, quoting, doublequote, escapechar, comment, encoding, dialect, error_bad_lines, warn_bad_lines, delim_whitespace, low_memory, memory_map, float_precision, storage_options)\u001b[0m\n\u001b[1;32m    608\u001b[0m     \u001b[0mkwds\u001b[0m\u001b[0;34m.\u001b[0m\u001b[0mupdate\u001b[0m\u001b[0;34m(\u001b[0m\u001b[0mkwds_defaults\u001b[0m\u001b[0;34m)\u001b[0m\u001b[0;34m\u001b[0m\u001b[0;34m\u001b[0m\u001b[0m\n\u001b[1;32m    609\u001b[0m \u001b[0;34m\u001b[0m\u001b[0m\n\u001b[0;32m--> 610\u001b[0;31m     \u001b[0;32mreturn\u001b[0m \u001b[0m_read\u001b[0m\u001b[0;34m(\u001b[0m\u001b[0mfilepath_or_buffer\u001b[0m\u001b[0;34m,\u001b[0m \u001b[0mkwds\u001b[0m\u001b[0;34m)\u001b[0m\u001b[0;34m\u001b[0m\u001b[0;34m\u001b[0m\u001b[0m\n\u001b[0m\u001b[1;32m    611\u001b[0m \u001b[0;34m\u001b[0m\u001b[0m\n\u001b[1;32m    612\u001b[0m \u001b[0;34m\u001b[0m\u001b[0m\n",
      "\u001b[0;32m/usr/local/lib/python3.9/site-packages/pandas/io/parsers.py\u001b[0m in \u001b[0;36m_read\u001b[0;34m(filepath_or_buffer, kwds)\u001b[0m\n\u001b[1;32m    460\u001b[0m \u001b[0;34m\u001b[0m\u001b[0m\n\u001b[1;32m    461\u001b[0m     \u001b[0;31m# Create the parser.\u001b[0m\u001b[0;34m\u001b[0m\u001b[0;34m\u001b[0m\u001b[0m\n\u001b[0;32m--> 462\u001b[0;31m     \u001b[0mparser\u001b[0m \u001b[0;34m=\u001b[0m \u001b[0mTextFileReader\u001b[0m\u001b[0;34m(\u001b[0m\u001b[0mfilepath_or_buffer\u001b[0m\u001b[0;34m,\u001b[0m \u001b[0;34m**\u001b[0m\u001b[0mkwds\u001b[0m\u001b[0;34m)\u001b[0m\u001b[0;34m\u001b[0m\u001b[0;34m\u001b[0m\u001b[0m\n\u001b[0m\u001b[1;32m    463\u001b[0m \u001b[0;34m\u001b[0m\u001b[0m\n\u001b[1;32m    464\u001b[0m     \u001b[0;32mif\u001b[0m \u001b[0mchunksize\u001b[0m \u001b[0;32mor\u001b[0m \u001b[0miterator\u001b[0m\u001b[0;34m:\u001b[0m\u001b[0;34m\u001b[0m\u001b[0;34m\u001b[0m\u001b[0m\n",
      "\u001b[0;32m/usr/local/lib/python3.9/site-packages/pandas/io/parsers.py\u001b[0m in \u001b[0;36m__init__\u001b[0;34m(self, f, engine, **kwds)\u001b[0m\n\u001b[1;32m    817\u001b[0m             \u001b[0mself\u001b[0m\u001b[0;34m.\u001b[0m\u001b[0moptions\u001b[0m\u001b[0;34m[\u001b[0m\u001b[0;34m\"has_index_names\"\u001b[0m\u001b[0;34m]\u001b[0m \u001b[0;34m=\u001b[0m \u001b[0mkwds\u001b[0m\u001b[0;34m[\u001b[0m\u001b[0;34m\"has_index_names\"\u001b[0m\u001b[0;34m]\u001b[0m\u001b[0;34m\u001b[0m\u001b[0;34m\u001b[0m\u001b[0m\n\u001b[1;32m    818\u001b[0m \u001b[0;34m\u001b[0m\u001b[0m\n\u001b[0;32m--> 819\u001b[0;31m         \u001b[0mself\u001b[0m\u001b[0;34m.\u001b[0m\u001b[0m_engine\u001b[0m \u001b[0;34m=\u001b[0m \u001b[0mself\u001b[0m\u001b[0;34m.\u001b[0m\u001b[0m_make_engine\u001b[0m\u001b[0;34m(\u001b[0m\u001b[0mself\u001b[0m\u001b[0;34m.\u001b[0m\u001b[0mengine\u001b[0m\u001b[0;34m)\u001b[0m\u001b[0;34m\u001b[0m\u001b[0;34m\u001b[0m\u001b[0m\n\u001b[0m\u001b[1;32m    820\u001b[0m \u001b[0;34m\u001b[0m\u001b[0m\n\u001b[1;32m    821\u001b[0m     \u001b[0;32mdef\u001b[0m \u001b[0mclose\u001b[0m\u001b[0;34m(\u001b[0m\u001b[0mself\u001b[0m\u001b[0;34m)\u001b[0m\u001b[0;34m:\u001b[0m\u001b[0;34m\u001b[0m\u001b[0;34m\u001b[0m\u001b[0m\n",
      "\u001b[0;32m/usr/local/lib/python3.9/site-packages/pandas/io/parsers.py\u001b[0m in \u001b[0;36m_make_engine\u001b[0;34m(self, engine)\u001b[0m\n\u001b[1;32m   1048\u001b[0m             )\n\u001b[1;32m   1049\u001b[0m         \u001b[0;31m# error: Too many arguments for \"ParserBase\"\u001b[0m\u001b[0;34m\u001b[0m\u001b[0;34m\u001b[0m\u001b[0m\n\u001b[0;32m-> 1050\u001b[0;31m         \u001b[0;32mreturn\u001b[0m \u001b[0mmapping\u001b[0m\u001b[0;34m[\u001b[0m\u001b[0mengine\u001b[0m\u001b[0;34m]\u001b[0m\u001b[0;34m(\u001b[0m\u001b[0mself\u001b[0m\u001b[0;34m.\u001b[0m\u001b[0mf\u001b[0m\u001b[0;34m,\u001b[0m \u001b[0;34m**\u001b[0m\u001b[0mself\u001b[0m\u001b[0;34m.\u001b[0m\u001b[0moptions\u001b[0m\u001b[0;34m)\u001b[0m  \u001b[0;31m# type: ignore[call-arg]\u001b[0m\u001b[0;34m\u001b[0m\u001b[0;34m\u001b[0m\u001b[0m\n\u001b[0m\u001b[1;32m   1051\u001b[0m \u001b[0;34m\u001b[0m\u001b[0m\n\u001b[1;32m   1052\u001b[0m     \u001b[0;32mdef\u001b[0m \u001b[0m_failover_to_python\u001b[0m\u001b[0;34m(\u001b[0m\u001b[0mself\u001b[0m\u001b[0;34m)\u001b[0m\u001b[0;34m:\u001b[0m\u001b[0;34m\u001b[0m\u001b[0;34m\u001b[0m\u001b[0m\n",
      "\u001b[0;32m/usr/local/lib/python3.9/site-packages/pandas/io/parsers.py\u001b[0m in \u001b[0;36m__init__\u001b[0;34m(self, src, **kwds)\u001b[0m\n\u001b[1;32m   1865\u001b[0m \u001b[0;34m\u001b[0m\u001b[0m\n\u001b[1;32m   1866\u001b[0m         \u001b[0;31m# open handles\u001b[0m\u001b[0;34m\u001b[0m\u001b[0;34m\u001b[0m\u001b[0m\n\u001b[0;32m-> 1867\u001b[0;31m         \u001b[0mself\u001b[0m\u001b[0;34m.\u001b[0m\u001b[0m_open_handles\u001b[0m\u001b[0;34m(\u001b[0m\u001b[0msrc\u001b[0m\u001b[0;34m,\u001b[0m \u001b[0mkwds\u001b[0m\u001b[0;34m)\u001b[0m\u001b[0;34m\u001b[0m\u001b[0;34m\u001b[0m\u001b[0m\n\u001b[0m\u001b[1;32m   1868\u001b[0m         \u001b[0;32massert\u001b[0m \u001b[0mself\u001b[0m\u001b[0;34m.\u001b[0m\u001b[0mhandles\u001b[0m \u001b[0;32mis\u001b[0m \u001b[0;32mnot\u001b[0m \u001b[0;32mNone\u001b[0m\u001b[0;34m\u001b[0m\u001b[0;34m\u001b[0m\u001b[0m\n\u001b[1;32m   1869\u001b[0m         \u001b[0;32mfor\u001b[0m \u001b[0mkey\u001b[0m \u001b[0;32min\u001b[0m \u001b[0;34m(\u001b[0m\u001b[0;34m\"storage_options\"\u001b[0m\u001b[0;34m,\u001b[0m \u001b[0;34m\"encoding\"\u001b[0m\u001b[0;34m,\u001b[0m \u001b[0;34m\"memory_map\"\u001b[0m\u001b[0;34m,\u001b[0m \u001b[0;34m\"compression\"\u001b[0m\u001b[0;34m)\u001b[0m\u001b[0;34m:\u001b[0m\u001b[0;34m\u001b[0m\u001b[0;34m\u001b[0m\u001b[0m\n",
      "\u001b[0;32m/usr/local/lib/python3.9/site-packages/pandas/io/parsers.py\u001b[0m in \u001b[0;36m_open_handles\u001b[0;34m(self, src, kwds)\u001b[0m\n\u001b[1;32m   1360\u001b[0m         \u001b[0mLet\u001b[0m \u001b[0mthe\u001b[0m \u001b[0mreaders\u001b[0m \u001b[0mopen\u001b[0m \u001b[0mIOHanldes\u001b[0m \u001b[0mafter\u001b[0m \u001b[0mthey\u001b[0m \u001b[0mare\u001b[0m \u001b[0mdone\u001b[0m \u001b[0;32mwith\u001b[0m \u001b[0mtheir\u001b[0m \u001b[0mpotential\u001b[0m \u001b[0mraises\u001b[0m\u001b[0;34m.\u001b[0m\u001b[0;34m\u001b[0m\u001b[0;34m\u001b[0m\u001b[0m\n\u001b[1;32m   1361\u001b[0m         \"\"\"\n\u001b[0;32m-> 1362\u001b[0;31m         self.handles = get_handle(\n\u001b[0m\u001b[1;32m   1363\u001b[0m             \u001b[0msrc\u001b[0m\u001b[0;34m,\u001b[0m\u001b[0;34m\u001b[0m\u001b[0;34m\u001b[0m\u001b[0m\n\u001b[1;32m   1364\u001b[0m             \u001b[0;34m\"r\"\u001b[0m\u001b[0;34m,\u001b[0m\u001b[0;34m\u001b[0m\u001b[0;34m\u001b[0m\u001b[0m\n",
      "\u001b[0;32m/usr/local/lib/python3.9/site-packages/pandas/io/common.py\u001b[0m in \u001b[0;36mget_handle\u001b[0;34m(path_or_buf, mode, encoding, compression, memory_map, is_text, errors, storage_options)\u001b[0m\n\u001b[1;32m    640\u001b[0m                 \u001b[0merrors\u001b[0m \u001b[0;34m=\u001b[0m \u001b[0;34m\"replace\"\u001b[0m\u001b[0;34m\u001b[0m\u001b[0;34m\u001b[0m\u001b[0m\n\u001b[1;32m    641\u001b[0m             \u001b[0;31m# Encoding\u001b[0m\u001b[0;34m\u001b[0m\u001b[0;34m\u001b[0m\u001b[0m\n\u001b[0;32m--> 642\u001b[0;31m             handle = open(\n\u001b[0m\u001b[1;32m    643\u001b[0m                 \u001b[0mhandle\u001b[0m\u001b[0;34m,\u001b[0m\u001b[0;34m\u001b[0m\u001b[0;34m\u001b[0m\u001b[0m\n\u001b[1;32m    644\u001b[0m                 \u001b[0mioargs\u001b[0m\u001b[0;34m.\u001b[0m\u001b[0mmode\u001b[0m\u001b[0;34m,\u001b[0m\u001b[0;34m\u001b[0m\u001b[0;34m\u001b[0m\u001b[0m\n",
      "\u001b[0;31mFileNotFoundError\u001b[0m: [Errno 2] No such file or directory: 'Liverpool_band_chord_sequence.csv'"
     ]
    }
   ],
   "source": [
    "import numpy as np\n",
    "import random as rm\n",
    "import pandas as pd\n",
    "from collections import Counter\n",
    "np.random.seed(42)\n",
    "\n",
    "# read file\n",
    "data = pd.read_csv('Liverpool_band_chord_sequence.csv')"
   ]
  },
  {
   "cell_type": "code",
   "execution_count": 15,
   "metadata": {},
   "outputs": [
    {
     "data": {
      "text/plain": [
       "['F Em7 A7', 'Em7 A7 Dm', 'A7 Dm Dm7', 'Dm Dm7 Bb', 'Dm7 Bb C7']"
      ]
     },
     "execution_count": 15,
     "metadata": {},
     "output_type": "execute_result"
    }
   ],
   "source": [
    "n = 3\n",
    "chords = data['chords'].values\n",
    "ngrams = zip(*[chords[i:] for i in range(n)])\n",
    "bigrams = [\" \".join(ngram) for ngram in ngrams]\n",
    "\n",
    "bigrams[:5]"
   ]
  },
  {
   "cell_type": "code",
   "execution_count": 30,
   "metadata": {},
   "outputs": [],
   "source": [
    "def predict_next_state(chord:str, data:list=bigrams, segment:int=1):\n",
    "    \"\"\"Predict next chord based on current state.\"\"\"\n",
    "    # create list of bigrams which stats with current chord\n",
    "    bigrams_with_current_chord = [bigram for bigram in bigrams if bigram.split(' ')[0]==chord]\n",
    "    # count appearance of each bigram\n",
    "    count_appearance = dict(Counter(bigrams_with_current_chord))\n",
    "    # convert apperance into probabilities\n",
    "    for ngram in count_appearance.keys():\n",
    "        count_appearance[ngram] = count_appearance[ngram]/len(bigrams_with_current_chord)\n",
    "    \n",
    "    # create list of possible options for the next chord\n",
    "    options = [key.split(' ')[1] for key in count_appearance.keys()]\n",
    "    # print(options)\n",
    "    # create  list of probability distribution\n",
    "    probabilities = list(count_appearance.values())\n",
    "    # return random prediction\n",
    "    return np.random.choice(options, p=probabilities)"
   ]
  },
  {
   "cell_type": "code",
   "execution_count": 31,
   "metadata": {},
   "outputs": [
    {
     "data": {
      "text/plain": [
       "'Fsus4'"
      ]
     },
     "execution_count": 31,
     "metadata": {},
     "output_type": "execute_result"
    }
   ],
   "source": [
    "predict_next_state('F')"
   ]
  },
  {
   "cell_type": "code",
   "execution_count": 32,
   "metadata": {},
   "outputs": [],
   "source": [
    "def generate_sequence(chord:str=None, data:list=bigrams, length:int=30):\n",
    "    \"\"\"Generate sequence of defined length.\"\"\"\n",
    "    # create list to store future chords\n",
    "    chords = []\n",
    "    chords.append(chord)\n",
    "    for n in range(length):\n",
    "        # append next chord for the list\n",
    "        chords.append(predict_next_state(chord, bigrams))\n",
    "        # use last chord in sequence to predict next chord\n",
    "        chord = chords[-1]\n",
    "    return chords"
   ]
  },
  {
   "cell_type": "code",
   "execution_count": 33,
   "metadata": {},
   "outputs": [
    {
     "data": {
      "text/plain": [
       "['C',\n",
       " 'Dm7',\n",
       " 'G7',\n",
       " 'Bb',\n",
       " 'Dm',\n",
       " 'Dm7',\n",
       " 'Bb',\n",
       " 'Dm',\n",
       " 'Dm7',\n",
       " 'Bb',\n",
       " 'F',\n",
       " 'Fsus4',\n",
       " 'F',\n",
       " 'F',\n",
       " 'Em7',\n",
       " 'A7',\n",
       " 'Dm',\n",
       " 'Dm7',\n",
       " 'G7',\n",
       " 'Bb',\n",
       " 'Dm',\n",
       " 'Gm6',\n",
       " 'C7',\n",
       " 'F',\n",
       " 'C',\n",
       " 'Bb',\n",
       " 'Dm',\n",
       " 'Gm6',\n",
       " 'C7',\n",
       " 'F',\n",
       " 'F']"
      ]
     },
     "execution_count": 33,
     "metadata": {},
     "output_type": "execute_result"
    }
   ],
   "source": [
    "generate_sequence('C')"
   ]
  },
  {
   "cell_type": "markdown",
   "metadata": {},
   "source": [
    "# Circle of fifths based approach"
   ]
  },
  {
   "cell_type": "code",
   "execution_count": 34,
   "metadata": {},
   "outputs": [],
   "source": [
    "from collections import OrderedDict\n",
    "major_keys = OrderedDict({\n",
    "                'F':['Bb','F','C',\"Dm\"], # Each list contains keys that it can transition to (the first 3 are major and the last is minor)\n",
    "                'C':['F','C','G',\"Am\"],\n",
    "                'G':['C','G','D',\"Em\"],\n",
    "                'D':['G','D','A',\"Bm\"],\n",
    "                'A':['D','A','E',\"F#m\"],\n",
    "                'E':['A','E','B',\"C#m\"],\n",
    "                'B':['E','B','Gb',\"G#m\"],\n",
    "                'Gb':['B','Gb','Db',\"Ebm\"],\n",
    "                'Db':['Gb','Db','Ab',\"Bbm\"], \n",
    "                'Ab':['Db','Ab','Eb',\"Fm\"], \n",
    "                'Eb':['Ab','Eb','Bb',\"Cm\"], \n",
    "                'Bb':['Eb','Bb','F',\"Gm\"],\n",
    "                'Am':[\"C\",\"C\",\"C\",\"C\"],\n",
    "                'Em':[\"G\",\"G\",\"G\",\"G\"],\n",
    "                'Bm':[\"D\",\"D\",\"D\",\"D\"],\n",
    "                'F#m':[\"A\",\"A\",\"A\",\"A\"],\n",
    "                'C#m':[\"Eb\",\"Eb\",\"Eb\",\"Eb\"],\n",
    "                'G#m':[\"B\",\"B\",\"B\",\"B\"],\n",
    "                'Ebm':[\"Gb\",\"Gb\",\"Gb\",\"Gb\"], \n",
    "                'Bbm':[\"Db\",\"Db\",\"Db\",\"Db\"], \n",
    "                'Fm':[\"Ab\",\"Ab\",\"Ab\",\"Ab\"], \n",
    "                'Cm':[\"Eb\",\"Eb\",\"Eb\",\"Eb\"],\n",
    "                'Gm':[\"Bb\",\"Bb\",\"Bb\",\"Bb\"],\n",
    "                'Dm':[\"F\",\"F\",\"F\",\"F\"]\n",
    "            })\n",
    "minor_keys = OrderedDict({\n",
    "                'Am':['Dm','Am','Em',\"C\"],\n",
    "                'Em':['Am','Em','Bm',\"G\"],\n",
    "                'Bm':['Em','Bm','F#m',\"D\"],\n",
    "                'F#m':['Bm','F#m','C#m',\"A\"],\n",
    "                'C#m':['F#m','C#m','G#m',\"Eb\"],\n",
    "                'G#m':['C#m','G#m','Ebm',\"B\"],\n",
    "                'Ebm':['G#m','Ebm','Bbm',\"Gb\"], \n",
    "                'Bbm':['Ebm','Bbm','Fm',\"Db\"], \n",
    "                'Fm':['Bbm','Fm','Cm',\"Ab\"], \n",
    "                'Cm':['Fm','Cm','Gm',\"Eb\"],\n",
    "                'Gm':['Cm','Gm','Dm',\"Bb\"],\n",
    "                'Dm':['Gm','Dm','Am',\"F\"],\n",
    "                'F':[\"Dm\",\"Dm\",\"Dm\",\"Dm\"], \n",
    "                'C':[\"Am\",\"Am\",\"Am\",\"Am\"],\n",
    "                'G':[\"Em\",\"Em\",\"Em\",\"Em\"],\n",
    "                'D':[\"Bm\",\"Bm\",\"Bm\",\"Bm\"],\n",
    "                'A':[\"F#m\",\"F#m\",\"F#m\",\"F#m\"],\n",
    "                'E':[\"C#m\",\"C#m\",\"C#m\",\"C#m\"],\n",
    "                'B':[\"G#m\",\"G#m\",\"G#m\",\"G#m\"],\n",
    "                'Gb':[\"Ebm\",\"Ebm\",\"Ebm\",\"Ebm\"],\n",
    "                'Db':[\"Bbm\",\"Bbm\",\"Bbm\",\"Bbm\"], \n",
    "                'Ab':[\"Fm\",\"Fm\",\"Fm\",\"Fm\"], \n",
    "                'Eb':[\"Cm\",\"Cm\",\"Cm\",\"Cm\"], \n",
    "                'Bb':[\"Gm\",\"Gm\",\"Gm\",\"Gm\"]\n",
    "                })\n",
    "transition_probabilities=[0.3,0.3,0.3,0.1]\n",
    "\n",
    "major_minor_transition = {\n",
    "                            \"F\":\"Dm\",\n",
    "                            \"C\":\"Am\",\n",
    "                            \"G\":\"Em\",\n",
    "                            \"D\":\"Bm\",\n",
    "                            \"A\":\"F#m\",\n",
    "                            \"E\":\"C#m\",\n",
    "                            \"B\":\"G#m\",\n",
    "                            \"Gb\":\"Ebm\",\n",
    "                            \"Db\":\"Bbm\",\n",
    "                            \"Ab\":\"Fm\",\n",
    "                            \"Eb\":\"Cm\",\n",
    "                            \"Bb\":\"Gm\"\n",
    "                        }"
   ]
  },
  {
   "cell_type": "code",
   "execution_count": 32,
   "metadata": {},
   "outputs": [
    {
     "data": {
      "text/plain": [
       "['F', 'C', 'G', 'D', 'A', 'E', 'B', 'Gb', 'Db', 'Ab', 'Eb', 'Bb']"
      ]
     },
     "execution_count": 32,
     "metadata": {},
     "output_type": "execute_result"
    }
   ],
   "source": [
    "list(OrderedDict(major_keys).keys())[:12]"
   ]
  },
  {
   "cell_type": "markdown",
   "metadata": {},
   "source": [
    "Algorithm:  \n",
    "- Select a key randomly from the circle of fifths\n",
    "- select a random number of notes from the key\n",
    "- Add a list of these notes to a list\n",
    "- return to the root note\n",
    "- if required, use the major_minor_transition to change from major to minor keys\n",
    "- repeat the process until the total duration of the piece is reached"
   ]
  },
  {
   "cell_type": "code",
   "execution_count": 41,
   "metadata": {},
   "outputs": [],
   "source": [
    "def flatten(l):\n",
    "    return [item for sublist in l for item in sublist]\n",
    "def generate_sequence(starting_key, length):\n",
    "    \"\"\"Generate sequence of defined length.\"\"\"\n",
    "    # create list to store future chords\n",
    "    chords = []\n",
    "    current_key = starting_key\n",
    "    # n_chords = rm.randint(2,10)\n",
    "    # generate chords progressions for current_key\n",
    "\n",
    "    chords.append(current_key)\n",
    "    if current_key in list(major_keys.keys())[:12]:\n",
    "        for n in range(length):\n",
    "            # append next chord for the list\n",
    "            choice = np.random.choice(major_keys[current_key], p=transition_probabilities)\n",
    "            while (choice == current_key):\n",
    "                choice = np.random.choice(major_keys[current_key], p=transition_probabilities)\n",
    "            chords.append(choice)\n",
    "            # use last chord in sequence to predict next chord\n",
    "            current_key = chords[-1]\n",
    "    elif current_key in list(minor_keys.keys())[:12]:\n",
    "        for n in range(length):\n",
    "            # append next chord for the list\n",
    "            choice = np.random.choice(minor_keys[current_key], p=transition_probabilities)\n",
    "            while (choice == current_key):\n",
    "                choice = np.random.choice(minor_keys[current_key], p=transition_probabilities)\n",
    "            chords.append(choice)\n",
    "            # use last chord in sequence to predict next chord\n",
    "            current_key = chords[-1]\n",
    "        \n",
    "    return chords\n",
    "        \n",
    "\n",
    "        \n",
    "\n"
   ]
  },
  {
   "cell_type": "code",
   "execution_count": 59,
   "metadata": {},
   "outputs": [
    {
     "data": {
      "text/plain": [
       "['F', 'C', 'F', 'Dm', 'F', 'C', 'F', 'C', 'F', 'Bb', 'Gm']"
      ]
     },
     "execution_count": 59,
     "metadata": {},
     "output_type": "execute_result"
    }
   ],
   "source": [
    "key = np.random.choice(list(OrderedDict(major_keys).keys())[:12])\n",
    "generate_sequence(key, 10)"
   ]
  },
  {
   "cell_type": "code",
   "execution_count": 5,
   "metadata": {},
   "outputs": [
    {
     "data": {
      "text/plain": [
       "9"
      ]
     },
     "execution_count": 5,
     "metadata": {},
     "output_type": "execute_result"
    }
   ],
   "source": [
    "def flatten(l):\n",
    "    return [item for sublist in l for item in sublist]\n",
    "len(flatten([[1,2,3],[4,5,6],[7,8,9]]))"
   ]
  },
  {
   "cell_type": "code",
   "execution_count": 8,
   "metadata": {},
   "outputs": [
    {
     "data": {
      "text/plain": [
       "9"
      ]
     },
     "execution_count": 8,
     "metadata": {},
     "output_type": "execute_result"
    }
   ],
   "source": [
    "len(flatten({1:[1,2,3], 2:[4,5,6], 3:[7,8,9]}.values()))"
   ]
  },
  {
   "cell_type": "code",
   "execution_count": 1,
   "metadata": {},
   "outputs": [],
   "source": [
    "import music21"
   ]
  },
  {
   "cell_type": "code",
   "execution_count": 4,
   "metadata": {},
   "outputs": [],
   "source": [
    "# class using music21 to load a list of chords and play them as a midi object\n",
    "class ChordPlayer:\n",
    "    def __init__(self, chords):\n",
    "        self.chords = chords\n",
    "        self.stream = music21.stream.Stream()\n",
    "        self.stream.append(music21.instrument.Piano())\n",
    "    def play_chords(self):\n",
    "        for chord in self.chords:\n",
    "            self.stream.append(music21.chord.Chord(chord))\n",
    "        self.stream.show('midi')\n"
   ]
  },
  {
   "cell_type": "code",
   "execution_count": 5,
   "metadata": {},
   "outputs": [],
   "source": [
    "chords = ['C', 'F', 'Dm', 'F', 'C', 'F', 'C']\n",
    "cp = ChordPlayer(chords)"
   ]
  },
  {
   "cell_type": "code",
   "execution_count": 6,
   "metadata": {},
   "outputs": [
    {
     "ename": "AccidentalException",
     "evalue": "m is not a supported accidental type",
     "output_type": "error",
     "traceback": [
      "\u001b[0;31m---------------------------------------------------------------------------\u001b[0m",
      "\u001b[0;31mAccidentalException\u001b[0m                       Traceback (most recent call last)",
      "\u001b[1;32m/Users/vedant/Desktop/Programming/emotional-background-music-generation/src/prototyping/note_selection.ipynb Cell 20\u001b[0m in \u001b[0;36m<cell line: 1>\u001b[0;34m()\u001b[0m\n\u001b[0;32m----> <a href='vscode-notebook-cell:/Users/vedant/Desktop/Programming/emotional-background-music-generation/src/prototyping/note_selection.ipynb#X25sZmlsZQ%3D%3D?line=0'>1</a>\u001b[0m cp\u001b[39m.\u001b[39;49mplay_chords()\n",
      "\u001b[1;32m/Users/vedant/Desktop/Programming/emotional-background-music-generation/src/prototyping/note_selection.ipynb Cell 20\u001b[0m in \u001b[0;36mChordPlayer.play_chords\u001b[0;34m(self)\u001b[0m\n\u001b[1;32m      <a href='vscode-notebook-cell:/Users/vedant/Desktop/Programming/emotional-background-music-generation/src/prototyping/note_selection.ipynb#X25sZmlsZQ%3D%3D?line=6'>7</a>\u001b[0m \u001b[39mdef\u001b[39;00m \u001b[39mplay_chords\u001b[39m(\u001b[39mself\u001b[39m):\n\u001b[1;32m      <a href='vscode-notebook-cell:/Users/vedant/Desktop/Programming/emotional-background-music-generation/src/prototyping/note_selection.ipynb#X25sZmlsZQ%3D%3D?line=7'>8</a>\u001b[0m     \u001b[39mfor\u001b[39;00m chord \u001b[39min\u001b[39;00m \u001b[39mself\u001b[39m\u001b[39m.\u001b[39mchords:\n\u001b[0;32m----> <a href='vscode-notebook-cell:/Users/vedant/Desktop/Programming/emotional-background-music-generation/src/prototyping/note_selection.ipynb#X25sZmlsZQ%3D%3D?line=8'>9</a>\u001b[0m         \u001b[39mself\u001b[39m\u001b[39m.\u001b[39mstream\u001b[39m.\u001b[39mappend(music21\u001b[39m.\u001b[39;49mchord\u001b[39m.\u001b[39;49mChord(chord))\n\u001b[1;32m     <a href='vscode-notebook-cell:/Users/vedant/Desktop/Programming/emotional-background-music-generation/src/prototyping/note_selection.ipynb#X25sZmlsZQ%3D%3D?line=9'>10</a>\u001b[0m     \u001b[39mself\u001b[39m\u001b[39m.\u001b[39mstream\u001b[39m.\u001b[39mshow(\u001b[39m'\u001b[39m\u001b[39mmidi\u001b[39m\u001b[39m'\u001b[39m)\n",
      "File \u001b[0;32m~/miniconda3/envs/bgm-generation/lib/python3.10/site-packages/music21/chord/__init__.py:726\u001b[0m, in \u001b[0;36mChord.__init__\u001b[0;34m(self, notes, **keywords)\u001b[0m\n\u001b[1;32m    722\u001b[0m \u001b[39mif\u001b[39;00m notes \u001b[39mis\u001b[39;00m \u001b[39mnot\u001b[39;00m \u001b[39mNone\u001b[39;00m \u001b[39mand\u001b[39;00m \u001b[39many\u001b[39m(\u001b[39misinstance\u001b[39m(n, note\u001b[39m.\u001b[39mGeneralNote)\n\u001b[1;32m    723\u001b[0m                              \u001b[39mand\u001b[39;00m \u001b[39mnot\u001b[39;00m \u001b[39misinstance\u001b[39m(n, (note\u001b[39m.\u001b[39mNote, Chord))\n\u001b[1;32m    724\u001b[0m                              \u001b[39mfor\u001b[39;00m n \u001b[39min\u001b[39;00m notes):\n\u001b[1;32m    725\u001b[0m     \u001b[39mraise\u001b[39;00m \u001b[39mTypeError\u001b[39;00m(\u001b[39mf\u001b[39m\u001b[39m'\u001b[39m\u001b[39mUse a PercussionChord to contain Unpitched objects; got \u001b[39m\u001b[39m{\u001b[39;00mnotes\u001b[39m}\u001b[39;00m\u001b[39m'\u001b[39m)\n\u001b[0;32m--> 726\u001b[0m \u001b[39msuper\u001b[39;49m()\u001b[39m.\u001b[39;49m\u001b[39m__init__\u001b[39;49m(notes\u001b[39m=\u001b[39;49mnotes, \u001b[39m*\u001b[39;49m\u001b[39m*\u001b[39;49mkeywords)\n\u001b[1;32m    728\u001b[0m \u001b[39m# if there were a covariant list, we would use that instead.\u001b[39;00m\n\u001b[1;32m    729\u001b[0m \u001b[39mself\u001b[39m\u001b[39m.\u001b[39m_notes: t\u001b[39m.\u001b[39mList[note\u001b[39m.\u001b[39mNote]  \u001b[39m# type: ignore\u001b[39;00m\n",
      "File \u001b[0;32m~/miniconda3/envs/bgm-generation/lib/python3.10/site-packages/music21/chord/__init__.py:115\u001b[0m, in \u001b[0;36mChordBase.__init__\u001b[0;34m(self, notes, **keywords)\u001b[0m\n\u001b[1;32m    112\u001b[0m \u001b[39mif\u001b[39;00m \u001b[39m'\u001b[39m\u001b[39mduration\u001b[39m\u001b[39m'\u001b[39m \u001b[39min\u001b[39;00m keywords:\n\u001b[1;32m    113\u001b[0m     durationKeyword \u001b[39m=\u001b[39m keywords[\u001b[39m'\u001b[39m\u001b[39mduration\u001b[39m\u001b[39m'\u001b[39m]\n\u001b[0;32m--> 115\u001b[0m durationKeyword \u001b[39m=\u001b[39m \u001b[39mself\u001b[39;49m\u001b[39m.\u001b[39;49m_add_core_or_init(notes, useDuration\u001b[39m=\u001b[39;49mdurationKeyword)\n\u001b[1;32m    117\u001b[0m \u001b[39mif\u001b[39;00m durationKeyword \u001b[39mis\u001b[39;00m \u001b[39mnot\u001b[39;00m \u001b[39mNone\u001b[39;00m:\n\u001b[1;32m    118\u001b[0m     \u001b[39mself\u001b[39m\u001b[39m.\u001b[39mduration \u001b[39m=\u001b[39m durationKeyword\n",
      "File \u001b[0;32m~/miniconda3/envs/bgm-generation/lib/python3.10/site-packages/music21/chord/__init__.py:237\u001b[0m, in \u001b[0;36mChordBase._add_core_or_init\u001b[0;34m(self, notes, useDuration)\u001b[0m\n\u001b[1;32m    235\u001b[0m \u001b[39melif\u001b[39;00m \u001b[39misinstance\u001b[39m(n, (\u001b[39mstr\u001b[39m, \u001b[39mint\u001b[39m)):\n\u001b[1;32m    236\u001b[0m     \u001b[39mif\u001b[39;00m useDuration:\n\u001b[0;32m--> 237\u001b[0m         \u001b[39mself\u001b[39m\u001b[39m.\u001b[39m_notes\u001b[39m.\u001b[39mappend(note\u001b[39m.\u001b[39;49mNote(n, duration\u001b[39m=\u001b[39;49museDuration))\n\u001b[1;32m    238\u001b[0m     \u001b[39melse\u001b[39;00m:\n\u001b[1;32m    239\u001b[0m         \u001b[39mself\u001b[39m\u001b[39m.\u001b[39m_notes\u001b[39m.\u001b[39mappend(note\u001b[39m.\u001b[39mNote(n))\n",
      "File \u001b[0;32m~/miniconda3/envs/bgm-generation/lib/python3.10/site-packages/music21/note.py:1471\u001b[0m, in \u001b[0;36mNote.__init__\u001b[0;34m(self, pitch, name, nameWithOctave, **keywords)\u001b[0m\n\u001b[1;32m   1469\u001b[0m         \u001b[39mself\u001b[39m\u001b[39m.\u001b[39mpitch \u001b[39m=\u001b[39m pitch\n\u001b[1;32m   1470\u001b[0m     \u001b[39melse\u001b[39;00m:  \u001b[39m# assume first argument is pitch\u001b[39;00m\n\u001b[0;32m-> 1471\u001b[0m         \u001b[39mself\u001b[39m\u001b[39m.\u001b[39mpitch \u001b[39m=\u001b[39m Pitch(pitch, \u001b[39m*\u001b[39;49m\u001b[39m*\u001b[39;49mkeywords)\n\u001b[1;32m   1472\u001b[0m \u001b[39melse\u001b[39;00m:  \u001b[39m# supply a default pitch\u001b[39;00m\n\u001b[1;32m   1473\u001b[0m     \u001b[39mif\u001b[39;00m nameWithOctave \u001b[39mis\u001b[39;00m \u001b[39mnot\u001b[39;00m \u001b[39mNone\u001b[39;00m:\n",
      "File \u001b[0;32m~/miniconda3/envs/bgm-generation/lib/python3.10/site-packages/music21/pitch.py:1848\u001b[0m, in \u001b[0;36mPitch.__init__\u001b[0;34m(self, name, step, octave, accidental, microtone, pitchClass, midi, ps, fundamental, **keywords)\u001b[0m\n\u001b[1;32m   1846\u001b[0m \u001b[39mif\u001b[39;00m name \u001b[39mis\u001b[39;00m \u001b[39mnot\u001b[39;00m \u001b[39mNone\u001b[39;00m:\n\u001b[1;32m   1847\u001b[0m     \u001b[39mif\u001b[39;00m \u001b[39misinstance\u001b[39m(name, \u001b[39mstr\u001b[39m):\n\u001b[0;32m-> 1848\u001b[0m         \u001b[39mself\u001b[39m\u001b[39m.\u001b[39mname \u001b[39m=\u001b[39m name  \u001b[39m# set based on string\u001b[39;00m\n\u001b[1;32m   1849\u001b[0m     \u001b[39melse\u001b[39;00m:  \u001b[39m# is a number\u001b[39;00m\n\u001b[1;32m   1850\u001b[0m         \u001b[39m# is a midiNumber or a ps -- a float midiNumber\u001b[39;00m\n\u001b[1;32m   1851\u001b[0m         \u001b[39m# get step and accidental w/o octave\u001b[39;00m\n\u001b[1;32m   1852\u001b[0m         \u001b[39mself\u001b[39m\u001b[39m.\u001b[39mstep, \u001b[39mself\u001b[39m\u001b[39m.\u001b[39m_accidental \u001b[39m=\u001b[39m _convertPsToStep(name)[\u001b[39m0\u001b[39m:\u001b[39m2\u001b[39m]\n",
      "File \u001b[0;32m~/miniconda3/envs/bgm-generation/lib/python3.10/site-packages/music21/pitch.py:2680\u001b[0m, in \u001b[0;36mPitch.name\u001b[0;34m(self, usrStr)\u001b[0m\n\u001b[1;32m   2678\u001b[0m \u001b[39melif\u001b[39;00m \u001b[39mlen\u001b[39m(usrStr) \u001b[39m>\u001b[39m \u001b[39m1\u001b[39m:\n\u001b[1;32m   2679\u001b[0m     \u001b[39mself\u001b[39m\u001b[39m.\u001b[39mstep \u001b[39m=\u001b[39m usrStr[\u001b[39m0\u001b[39m]  \u001b[39m# type: ignore\u001b[39;00m\n\u001b[0;32m-> 2680\u001b[0m     \u001b[39mself\u001b[39m\u001b[39m.\u001b[39maccidental \u001b[39m=\u001b[39m Accidental(usrStr[\u001b[39m1\u001b[39;49m:])\n\u001b[1;32m   2681\u001b[0m \u001b[39melse\u001b[39;00m:\n\u001b[1;32m   2682\u001b[0m     \u001b[39mraise\u001b[39;00m PitchException(\u001b[39mf\u001b[39m\u001b[39m'\u001b[39m\u001b[39mCannot make a name out of \u001b[39m\u001b[39m{\u001b[39;00musrStr\u001b[39m!r}\u001b[39;00m\u001b[39m'\u001b[39m)\n",
      "File \u001b[0;32m~/miniconda3/envs/bgm-generation/lib/python3.10/site-packages/music21/pitch.py:906\u001b[0m, in \u001b[0;36mAccidental.__init__\u001b[0;34m(self, specifier)\u001b[0m\n\u001b[1;32m    904\u001b[0m \u001b[39mself\u001b[39m\u001b[39m.\u001b[39m_alter \u001b[39m=\u001b[39m \u001b[39m0.0\u001b[39m     \u001b[39m# semitones to alter step\u001b[39;00m\n\u001b[1;32m    905\u001b[0m \u001b[39m# potentially can be a fraction... but not exponent...\u001b[39;00m\n\u001b[0;32m--> 906\u001b[0m \u001b[39mself\u001b[39;49m\u001b[39m.\u001b[39;49mset(specifier)\n",
      "File \u001b[0;32m~/miniconda3/envs/bgm-generation/lib/python3.10/site-packages/music21/pitch.py:1170\u001b[0m, in \u001b[0;36mAccidental.set\u001b[0;34m(self, name, allowNonStandardValue)\u001b[0m\n\u001b[1;32m   1168\u001b[0m \u001b[39melse\u001b[39;00m:\n\u001b[1;32m   1169\u001b[0m     \u001b[39mif\u001b[39;00m \u001b[39mnot\u001b[39;00m allowNonStandardValue:\n\u001b[0;32m-> 1170\u001b[0m         \u001b[39mraise\u001b[39;00m AccidentalException(\u001b[39mf\u001b[39m\u001b[39m'\u001b[39m\u001b[39m{\u001b[39;00mname\u001b[39m}\u001b[39;00m\u001b[39m is not a supported accidental type\u001b[39m\u001b[39m'\u001b[39m)\n\u001b[1;32m   1172\u001b[0m     \u001b[39mif\u001b[39;00m \u001b[39misinstance\u001b[39m(name, \u001b[39mstr\u001b[39m):\n\u001b[1;32m   1173\u001b[0m         \u001b[39mself\u001b[39m\u001b[39m.\u001b[39m_name \u001b[39m=\u001b[39m name\n",
      "\u001b[0;31mAccidentalException\u001b[0m: m is not a supported accidental type"
     ]
    }
   ],
   "source": [
    "cp.play_chords()"
   ]
  },
  {
   "cell_type": "code",
   "execution_count": null,
   "metadata": {},
   "outputs": [],
   "source": []
  }
 ],
 "metadata": {
  "kernelspec": {
   "display_name": "Python 3.10.4 ('bgm-generation')",
   "language": "python",
   "name": "python3"
  },
  "language_info": {
   "codemirror_mode": {
    "name": "ipython",
    "version": 3
   },
   "file_extension": ".py",
   "mimetype": "text/x-python",
   "name": "python",
   "nbconvert_exporter": "python",
   "pygments_lexer": "ipython3",
   "version": "3.10.4"
  },
  "orig_nbformat": 4,
  "vscode": {
   "interpreter": {
    "hash": "11e541338b35738313e8424a03c0ad951310cbc49d68edead48851e8ef14da64"
   }
  }
 },
 "nbformat": 4,
 "nbformat_minor": 2
}
