{
 "cells": [
  {
   "cell_type": "code",
   "execution_count": 2,
   "metadata": {},
   "outputs": [],
   "source": [
    "import gensound\n",
    "from gensound.signals import Sine, Sawtooth, Square, Triangle, WhiteNoise, Silence, PinkNoise, Mix, WAV\n",
    "from gensound.effects import OneImpulseReverb, Vibrato\n",
    "from gensound.filters import SimpleBandPass, SimpleHPF, SimpleLPF, SimpleHighShelf, SimpleLowShelf\n",
    "from gensound.transforms import ADSR, Fade, Amplitude, CrossFade\n",
    "from gensound.curve import SineCurve"
   ]
  },
  {
   "cell_type": "code",
   "execution_count": 5,
   "metadata": {},
   "outputs": [
    {
     "name": "stdout",
     "output_type": "stream",
     "text": [
      "pygame 2.1.2 (SDL 2.0.18, Python 3.10.4)\n",
      "Hello from the pygame community. https://www.pygame.org/contribute.html\n"
     ]
    },
    {
     "data": {
      "text/plain": [
       "<Sound at 0x7f9e7900c5d0>"
      ]
     },
     "execution_count": 5,
     "metadata": {},
     "output_type": "execute_result"
    }
   ],
   "source": [
    "WAV(\"../resources/samples/idea_1.mp3\").play()"
   ]
  },
  {
   "cell_type": "code",
   "execution_count": 33,
   "metadata": {},
   "outputs": [],
   "source": [
    "import json\n",
    "class Synth():\n",
    "    def __init__(self, preset='default'):\n",
    "        self.preset = preset\n",
    "        if self.preset == 'default':\n",
    "            # load json file containing default settings\n",
    "            data = json.load(open('../presets/default.json'))\n",
    "        self.__dict__ = data\n",
    "    def _setparam(self, param, value):\n",
    "        setattr(self, param, value)\n",
    "\n",
    "    def shift_freq_by_cents(self, freq, cents):\n",
    "        return freq*(10**(cents/(1200*3.322038403)))\n",
    "\n",
    "    def semitones_to_cents(self, semitones):\n",
    "        return semitones*100\n",
    "\n",
    "    def cents_to_semitones(self, cents):\n",
    "        return cents/100\n",
    "\n",
    "    def detuned_voices(self, pitch, duration, detune_range, n_voices, wave_type='square'):\n",
    "        # n_voices = how many oscillators in the array\n",
    "        # detune_range = the difference in cents between the highest and lowest oscillators in the array\n",
    "        all_cents = [i*detune_range/n_voices - detune_range/2 for i in range(n_voices)] # how much to detune each signal in the array\n",
    "        # print(isinstance(pitch, str))\n",
    "        match wave_type: # REQUIRES PYTHON 3.10\n",
    "            case 'sine':\n",
    "                f = Sine\n",
    "            case 'square':\n",
    "                f = Square\n",
    "            case 'triangle':\n",
    "                f = Triangle\n",
    "            case 'sawtooth':\n",
    "                f = Sawtooth\n",
    "        if isinstance(pitch, str):\n",
    "            # print([f\"{pitch}{round(cents):+}\" for cents in all_cents])\n",
    "            return gensound.mix([f(f\"{pitch}{round(cents):+}\", duration) for cents in all_cents])\n",
    "        elif (isinstance(pitch, int)) or isinstance(pitch, int):\n",
    "            return gensound.mix([f(self.shift_freq_by_cents(pitch,cents),duration) for cents in all_cents])\n",
    "\n",
    "    def generate_audio(self, pitch,duration):\n",
    "        # self._update()\n",
    "        self.pitch = pitch\n",
    "        # 2 LFOS for amplitude modulation\n",
    "        self.lfo1 = SineCurve(frequency=self.lfo1_freq, depth=self.lfo1_depth, baseline=0.5, duration=duration)\n",
    "        self.lfo2 = SineCurve(frequency=self.lfo2_freq, depth=self.lfo2_depth, baseline=0.5, duration=duration)\n",
    "\n",
    "        # 2 oscillators for the main sound\n",
    "        self.osc1 = self.detuned_voices(self.pitch, duration=duration,detune_range = self.osc1_detune, n_voices = self.n_voices, wave_type=self.osc1_wave)\n",
    "        self.osc2 = self.detuned_voices(self.pitch, duration=duration,detune_range = self.osc2_detune, n_voices = self.n_voices, wave_type=self.osc2_wave)\n",
    "        # 1 oscillator for the sub bass\n",
    "        self.sub_bass = self.detuned_voices(self.sub_freq, duration=duration,detune_range = self.sub_detune, n_voices = self.n_voices, wave_type='sine')\n",
    "        # 1 oscillator for the high frequency noise\n",
    "        self.high_freq_noise = WhiteNoise(duration=duration)\n",
    "        # 1 oscillator for the low frequency noise\n",
    "        self.low_freq_noise = PinkNoise(duration=duration)\n",
    "        # Filters\n",
    "\n",
    "        # EFFECTS\n",
    "        #   - Reverb\n",
    "        #   - Vibrato\n",
    "\n",
    "        # AMPLITUDE ENVELOPES\n",
    "        #   - 2 ADSR envelopes\n",
    "        #   - Fade in and out\n",
    "\n",
    "        # apply lfo1 and lfo2 to osc1 and osc2 amplitude\n",
    "        self.lfo1 = self.osc1 * self.lfo1\n",
    "        self.lfo1 = self.lfo1 * ADSR(attack=self.attack, decay=self.decay, sustain=self.sustain, release=self.release)\n",
    "        self.lfo2 = self.osc2 * self.lfo2\n",
    "        self.lfo2 = self.lfo2 * ADSR(attack=self.attack, decay=self.decay, sustain=self.sustain, release=self.release)\n",
    "\n",
    "        self.output = self.osc1 + self.osc2 + self.sub_bass + self.high_freq_noise + self.low_freq_noise\n",
    "\n",
    "        self.output *= Fade(is_in=True, duration=2000)\n",
    "        self.output *= Fade(is_in=False, duration=2000)\n",
    "        self.output = self.output * ADSR(attack=self.attack, decay=self.decay, sustain=self.sustain, release=self.release)\n",
    "        \n",
    "        return self.output"
   ]
  },
  {
   "cell_type": "code",
   "execution_count": 34,
   "metadata": {},
   "outputs": [
    {
     "name": "stderr",
     "output_type": "stream",
     "text": [
      "UserWarning: Output audio signal amplitude exceeds 1 (max abs. amplitude 8.21). By default, the signal will be shrunk to fit range of [-1, 1] to prevent clipping. To prevent this behaviour, set the max_amplitude argument to zero, which leaves the signal untouched, or to any positive number, which will stretch/shrink it to match the given peak amplitude.\n"
     ]
    },
    {
     "data": {
      "text/plain": [
       "<Sound at 0x7fa1a6b51170>"
      ]
     },
     "execution_count": 34,
     "metadata": {},
     "output_type": "execute_result"
    }
   ],
   "source": [
    "synth = Synth()\n",
    "s = synth.generate_audio('A3',5e3)\n",
    "s.play()"
   ]
  },
  {
   "cell_type": "code",
   "execution_count": 39,
   "metadata": {},
   "outputs": [
    {
     "name": "stdout",
     "output_type": "stream",
     "text": [
      "{'filter1_freq_type': 'constant', 'filter1_freq_rate': 0, 'filter2_freq_type': 'constant', 'filter2_freq_rate': 0, 'filter3_freq_type': 'constant', 'filter3_freq_rate': 0}\n",
      "constant\n"
     ]
    }
   ],
   "source": [
    "print(synth.automation)\n",
    "print(synth.automation['filter1_freq_type'])"
   ]
  },
  {
   "cell_type": "code",
   "execution_count": 40,
   "metadata": {},
   "outputs": [],
   "source": [
    "notes = ['C3', 'D3', 'E3', 'G3', 'A3']\n",
    "s = synth.generate_audio(notes[0],5e3)\n",
    "for note in notes[1:]:\n",
    "    s = s | CrossFade(duration=0.5e3) | synth.generate_audio(note,5e3)"
   ]
  },
  {
   "cell_type": "code",
   "execution_count": 41,
   "metadata": {},
   "outputs": [
    {
     "name": "stderr",
     "output_type": "stream",
     "text": [
      "UserWarning: Output audio signal amplitude exceeds 1 (max abs. amplitude 9.30). By default, the signal will be shrunk to fit range of [-1, 1] to prevent clipping. To prevent this behaviour, set the max_amplitude argument to zero, which leaves the signal untouched, or to any positive number, which will stretch/shrink it to match the given peak amplitude.\n"
     ]
    },
    {
     "data": {
      "text/plain": [
       "<Sound at 0x7fa1a56181e0>"
      ]
     },
     "execution_count": 41,
     "metadata": {},
     "output_type": "execute_result"
    }
   ],
   "source": [
    "s.play()"
   ]
  },
  {
   "cell_type": "code",
   "execution_count": 42,
   "metadata": {},
   "outputs": [],
   "source": [
    "l=['A3 B3 C3']"
   ]
  },
  {
   "cell_type": "code",
   "execution_count": 46,
   "metadata": {},
   "outputs": [
    {
     "data": {
      "text/plain": [
       "'A3'"
      ]
     },
     "execution_count": 46,
     "metadata": {},
     "output_type": "execute_result"
    }
   ],
   "source": [
    "l[0].split(' ')[0]"
   ]
  },
  {
   "cell_type": "code",
   "execution_count": 53,
   "metadata": {},
   "outputs": [
    {
     "data": {
      "text/plain": [
       "['A3', 'C3', 'E3']"
      ]
     },
     "execution_count": 53,
     "metadata": {},
     "output_type": "execute_result"
    }
   ],
   "source": [
    "chords[1:][0].split(' ')"
   ]
  },
  {
   "cell_type": "code",
   "execution_count": 74,
   "metadata": {},
   "outputs": [
    {
     "name": "stderr",
     "output_type": "stream",
     "text": [
      "UserWarning: Output audio signal amplitude exceeds 1 (max abs. amplitude 29098.06). By default, the signal will be shrunk to fit range of [-1, 1] to prevent clipping. To prevent this behaviour, set the max_amplitude argument to zero, which leaves the signal untouched, or to any positive number, which will stretch/shrink it to match the given peak amplitude.\n"
     ]
    },
    {
     "data": {
      "text/plain": [
       "<Sound at 0x7fa1a5810540>"
      ]
     },
     "execution_count": 74,
     "metadata": {},
     "output_type": "execute_result"
    }
   ],
   "source": [
    "chords = [\"C3 E3 G3\", \"A3 C3 E3\"]\n",
    "duration_secs=5\n",
    "crossfade_duration = 0.25\n",
    "\n",
    "layer1 = synth.generate_audio(chords[0].split(' ')[0],1e3*duration_secs)\n",
    "layer2 = synth.generate_audio(chords[0].split(' ')[1],1e3*duration_secs)\n",
    "layer3 = synth.generate_audio(chords[0].split(' ')[2],1e3*duration_secs)\n",
    "for chord in chords[1:]:\n",
    "    layer1 = layer1 | CrossFade(duration=1e3*crossfade_duration) | synth.generate_audio(chord.split(' ')[0],1e3*duration_secs)\n",
    "    layer2 = layer2 | CrossFade(duration=1e3*crossfade_duration) | synth.generate_audio(chord.split(' ')[1],1e3*duration_secs)\n",
    "    layer3 = layer3 | CrossFade(duration=1e3*crossfade_duration) | synth.generate_audio(chord.split(' ')[2],1e3*duration_secs)\n",
    "\n",
    "s = 0.5*layer1 + 0.25*layer2 + 0.25*layer3\n",
    "s *= ADSR(attack=1e3, decay=0.5e3, sustain=5e3, release=1.5e3)\n",
    "s.play()"
   ]
  },
  {
   "cell_type": "code",
   "execution_count": 32,
   "metadata": {},
   "outputs": [
    {
     "name": "stderr",
     "output_type": "stream",
     "text": [
      "UserWarning: Output audio signal amplitude exceeds 1 (max abs. amplitude 2.58). By default, the signal will be shrunk to fit range of [-1, 1] to prevent clipping. To prevent this behaviour, set the max_amplitude argument to zero, which leaves the signal untouched, or to any positive number, which will stretch/shrink it to match the given peak amplitude.\n"
     ]
    },
    {
     "data": {
      "text/plain": [
       "<Sound at 0x7fa1a580f360>"
      ]
     },
     "execution_count": 32,
     "metadata": {},
     "output_type": "execute_result"
    }
   ],
   "source": [
    "from gensound import Sine, Triangle, Square, Pan\n",
    "\n",
    "sig = Triangle # Sine? Square?\n",
    "\n",
    "beat = 0.5e3 # 120 bpm\n",
    "fermata = 0.1 # make fermatas in the melody slightly longer\n",
    "pause = 0.6 # and breathe for a moment before starting the next phrase\n",
    "\n",
    "S = sig(f\"r D5 D=2 C#=1 B-13=2 A=1 D E=2 F#-13={2+fermata} r={pause} F#=1 F#=2 F#=1 E=2 F#-13=1 G F#-13=2 E={2+fermata} r={pause} \"\n",
    "        f\"D+16=1 E=2 F#-13=1 E=2 D+16=1 B-13 C#=2 D+9={2+fermata} r={pause} A'=1 F#-13=2 D+16=1 E=2 G=1 F#-13 E=2 D=3\", beat)\n",
    "A = sig(f\"r A4 B=2 A+16=1 G=2 F#-13=1 F# B-13 A A={2+fermata} r={pause} C#=1 B=2 B=1 B A A A D A A={2+fermata} r={pause} \"\n",
    "        f\"B=1 A=2 A=1 B-13 A=0.5 G F#=1 B-13 B A#-13 B={2+fermata} r={pause} A=1 A=2 B=1 A=2 A=1 A B-13 A F#-13=3\", beat)\n",
    "T = sig(f\"r F#4-13 F#=2 F#=1 D=2 D=1 D D C#-13 D={2+fermata} r={pause} C#=1 D+16=2 D+16=1 D C#-13 D E A, D C#-13={2+fermata} r={pause} \"\n",
    "        f\"F#=1 E=2 D=1 D C#-13 D+16 D G+5 F# F#={2+fermata} r={pause} E=1 F#-13=2 F#=1 E=2 C#-13=1 A B C#-13 D=3\", beat)\n",
    "B = sig(f\"r D3 B-16 D F# G B-13 D B-16 G A D,={2+fermata} r={pause} A#'-13=1 B=2 A=1 G#-13 A F#-13 C#-13 D F#-13 A={2+fermata} r={pause} \"\n",
    "        f\"B=1 C#-13=2 D=1 G, A B G E F# B,={2+fermata} r={pause} C#'-13=1 D C# B C#-13 B A D G, A D,=3\", beat)\n",
    "\n",
    "chorale = S*Pan(25) + B*Pan(-25) + T*Pan(80) + A*Pan(-80) # position the voices in the stereo field\n",
    "chorale.play() # can you spot the parallel octaves?"
   ]
  },
  {
   "cell_type": "code",
   "execution_count": null,
   "metadata": {},
   "outputs": [],
   "source": []
  }
 ],
 "metadata": {
  "kernelspec": {
   "display_name": "Python 3.10.4 ('bgm-generation')",
   "language": "python",
   "name": "python3"
  },
  "language_info": {
   "codemirror_mode": {
    "name": "ipython",
    "version": 3
   },
   "file_extension": ".py",
   "mimetype": "text/x-python",
   "name": "python",
   "nbconvert_exporter": "python",
   "pygments_lexer": "ipython3",
   "version": "3.10.4"
  },
  "orig_nbformat": 4,
  "vscode": {
   "interpreter": {
    "hash": "11e541338b35738313e8424a03c0ad951310cbc49d68edead48851e8ef14da64"
   }
  }
 },
 "nbformat": 4,
 "nbformat_minor": 2
}
