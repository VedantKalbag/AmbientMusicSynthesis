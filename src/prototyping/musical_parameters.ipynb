{
 "cells": [
  {
   "cell_type": "code",
   "execution_count": 7,
   "metadata": {},
   "outputs": [],
   "source": [
    "import numpy as np\n",
    "import random as rm"
   ]
  },
  {
   "cell_type": "markdown",
   "metadata": {},
   "source": [
    "# THEMES\n",
    "Add different themes for the system to use, which will control the ranges and values that the musical and timbral parameters can take  \n",
    "eg. lush, drone, busy, minimal, etc.  \n",
    "\n",
    "\n",
    "\n",
    "- minimal- One note sustained  \n",
    "- drone- long sustained chords, sawtooth wave heavy\n",
    "- lush- full sounding, minimal effects and minimal chord selection\n",
    "- busy- lots of chords, lots of effects, varying sustain for each note\n",
    "- voice/choir synth- few chords, not as long sustained as drone/minimal"
   ]
  },
  {
   "cell_type": "markdown",
   "metadata": {},
   "source": [
    "## Testing"
   ]
  },
  {
   "cell_type": "code",
   "execution_count": 2,
   "metadata": {},
   "outputs": [],
   "source": [
    "# The statespace\n",
    "states = [\"Sleep\",\"Icecream\",\"Run\"]\n",
    "\n",
    "# Possible sequences of events\n",
    "transitionName = [[\"SS\",\"SR\",\"SI\"],[\"RS\",\"RR\",\"RI\"],[\"IS\",\"IR\",\"II\"]]\n",
    "\n",
    "# Probabilities matrix (transition matrix)\n",
    "transitionMatrix = [[0.2,0.6,0.2],[0.1,0.6,0.3],[0.2,0.7,0.1]]"
   ]
  },
  {
   "cell_type": "code",
   "execution_count": 3,
   "metadata": {},
   "outputs": [
    {
     "name": "stdout",
     "output_type": "stream",
     "text": [
      "All is gonna be okay, you should move on!! ;)\n"
     ]
    }
   ],
   "source": [
    "if sum(transitionMatrix[0])+sum(transitionMatrix[1])+sum(transitionMatrix[1]) != 3:\n",
    "    print(\"Somewhere, something went wrong. Transition matrix, perhaps?\")\n",
    "else: print(\"All is gonna be okay, you should move on!! ;)\")\n"
   ]
  },
  {
   "cell_type": "code",
   "execution_count": 4,
   "metadata": {},
   "outputs": [
    {
     "name": "stdout",
     "output_type": "stream",
     "text": [
      "Start state: Sleep\n",
      "Possible states: ['Sleep', 'Run', 'Run']\n",
      "End state after 2 days: Run\n",
      "Probability of the possible sequence of states: 0.3\n"
     ]
    }
   ],
   "source": [
    "# A function that implements the Markov model to forecast the state/mood.\n",
    "def activity_forecast(days):\n",
    "    # Choose the starting state\n",
    "    activityToday = \"Sleep\"\n",
    "    print(\"Start state: \" + activityToday)\n",
    "    # Shall store the sequence of states taken. So, this only has the starting state for now.\n",
    "    activityList = [activityToday]\n",
    "    i = 0\n",
    "    # To calculate the probability of the activityList\n",
    "    prob = 1\n",
    "    while i != days:\n",
    "        if activityToday == \"Sleep\":\n",
    "            change = np.random.choice(transitionName[0],replace=True,p=transitionMatrix[0])\n",
    "            if change == \"SS\":\n",
    "                prob = prob * 0.2\n",
    "                activityList.append(\"Sleep\")\n",
    "                pass\n",
    "            elif change == \"SR\":\n",
    "                prob = prob * 0.6\n",
    "                activityToday = \"Run\"\n",
    "                activityList.append(\"Run\")\n",
    "            else:\n",
    "                prob = prob * 0.2\n",
    "                activityToday = \"Icecream\"\n",
    "                activityList.append(\"Icecream\")\n",
    "        elif activityToday == \"Run\":\n",
    "            change = np.random.choice(transitionName[1],replace=True,p=transitionMatrix[1])\n",
    "            if change == \"RR\":\n",
    "                prob = prob * 0.5\n",
    "                activityList.append(\"Run\")\n",
    "                pass\n",
    "            elif change == \"RS\":\n",
    "                prob = prob * 0.2\n",
    "                activityToday = \"Sleep\"\n",
    "                activityList.append(\"Sleep\")\n",
    "            else:\n",
    "                prob = prob * 0.3\n",
    "                activityToday = \"Icecream\"\n",
    "                activityList.append(\"Icecream\")\n",
    "        elif activityToday == \"Icecream\":\n",
    "            change = np.random.choice(transitionName[2],replace=True,p=transitionMatrix[2])\n",
    "            if change == \"II\":\n",
    "                prob = prob * 0.1\n",
    "                activityList.append(\"Icecream\")\n",
    "                pass\n",
    "            elif change == \"IS\":\n",
    "                prob = prob * 0.2\n",
    "                activityToday = \"Sleep\"\n",
    "                activityList.append(\"Sleep\")\n",
    "            else:\n",
    "                prob = prob * 0.7\n",
    "                activityToday = \"Run\"\n",
    "                activityList.append(\"Run\")\n",
    "        i += 1  \n",
    "    print(\"Possible states: \" + str(activityList))\n",
    "    print(\"End state after \"+ str(days) + \" days: \" + activityToday)\n",
    "    print(\"Probability of the possible sequence of states: \" + str(prob))\n",
    "\n",
    "# Function that forecasts the possible state for the next 2 days\n",
    "activity_forecast(2)\n"
   ]
  },
  {
   "cell_type": "markdown",
   "metadata": {},
   "source": [
    "# Note Selection"
   ]
  },
  {
   "cell_type": "code",
   "execution_count": 9,
   "metadata": {},
   "outputs": [],
   "source": [
    "import numpy as np\n",
    "import pandas as pd\n",
    "from collections import Counter\n",
    "np.random.seed(42)\n",
    "\n",
    "# read file\n",
    "data = pd.read_csv('../Liverpool_band_chord_sequence.csv')\n",
    "# ----------------------------------------------------------------------\n",
    "n = 3\n",
    "chords = data['chords'].values\n",
    "ngrams = zip(*[chords[i:] for i in range(n)])\n",
    "bigrams = [\" \".join(ngram) for ngram in ngrams]\n",
    "\n",
    "# bigrams[:5]\n",
    "# ----------------------------------------------------------------------\n",
    "def predict_next_state(chord:str, data:list=bigrams, segment:int=1):\n",
    "    \"\"\"Predict next chord based on current state.\"\"\"\n",
    "    # create list of bigrams which stats with current chord\n",
    "    bigrams_with_current_chord = [bigram for bigram in bigrams if bigram.split(' ')[0]==chord]\n",
    "    # count appearance of each bigram\n",
    "    count_appearance = dict(Counter(bigrams_with_current_chord))\n",
    "    # convert apperance into probabilities\n",
    "    for ngram in count_appearance.keys():\n",
    "        count_appearance[ngram] = count_appearance[ngram]/len(bigrams_with_current_chord)\n",
    "    \n",
    "    # create list of possible options for the next chord\n",
    "    options = [key.split(' ')[1] for key in count_appearance.keys()]\n",
    "    # print(options)\n",
    "    # create  list of probability distribution\n",
    "    probabilities = list(count_appearance.values())\n",
    "    # return random prediction\n",
    "    return np.random.choice(options, p=probabilities)\n",
    "\n",
    "# ----------------------------------------------------------------------\n",
    "def generate_sequence(chord:str=None, data:list=bigrams, length:int=30):\n",
    "    \"\"\"Generate sequence of defined length.\"\"\"\n",
    "    # create list to store future chords\n",
    "    chords = []\n",
    "    chords.append(chord)\n",
    "    for n in range(length):\n",
    "        # append next chord for the list\n",
    "        chords.append(predict_next_state(chord, bigrams))\n",
    "        # use last chord in sequence to predict next chord\n",
    "        chord = chords[-1]\n",
    "    return chords\n"
   ]
  },
  {
   "cell_type": "code",
   "execution_count": 10,
   "metadata": {},
   "outputs": [],
   "source": [
    "extended_chord_sequence = generate_sequence('C')"
   ]
  },
  {
   "cell_type": "markdown",
   "metadata": {},
   "source": [
    "# Note duration\n",
    "\n",
    "- Changes in note durations\n",
    "- minumum note duration is 0.5s\n",
    "- maximum note duration is 8 seconds\n",
    "- To be modeled using a markov chain"
   ]
  },
  {
   "cell_type": "code",
   "execution_count": 11,
   "metadata": {},
   "outputs": [],
   "source": [
    "# note_durations = [0.5, 0.75, 1.0, 1.5, 2.0, 3.0, 4.0, 5.0, 6.0, 7.0, 8.0]\n",
    "# The statespace\n",
    "states = [\"VS\",\"S\",\"M\",\"L\",\"VL\"]\n",
    "# Possible sequences of events\n",
    "transitionName = [[\"VSVS\",\"VSS\",\"VSM\",\"VSL\",\"VSVL\"],[\"SVS\",\"SS\",\"SM\",\"SL\",\"SVL\"],[\"MVS\",\"MS\",\"MM\",\"ML\",\"MVL\"],[\"LVS\",\"LS\",\"LM\",\"LL\",\"LVL\"],[\"VLVS\",\"VLS\",\"VLM\",\"VLL\",\"VLVL\"]]\n",
    "\n",
    "# Probabilities matrix (transition matrix)\n",
    "#TODO: Load transition matrix, last_note_min_length from each theme\n",
    "transitionMatrix = np.array([\n",
    "                             [0.2,0.2,0.2,0.2,0.2],\n",
    "                             [0.2,0.2,0.2,0.2,0.2],\n",
    "                             [0.2,0.2,0.2,0.2,0.2],\n",
    "                             [0.2,0.2,0.2,0.2,0.2],\n",
    "                             [0.2,0.2,0.2,0.2,0.2]\n",
    "                             ])\n",
    "assert sum(transitionMatrix[0])==1\n",
    "assert sum(transitionMatrix[1])==1\n",
    "assert sum(transitionMatrix[2])==1\n",
    "assert sum(transitionMatrix[3])==1\n",
    "assert sum(transitionMatrix[4])==1\n",
    "\n",
    "\n",
    "def get_length_sequence(initial_state, n_steps, seed=\"NA\"):\n",
    "    sequence = [initial_state]\n",
    "    if seed != \"NA\":\n",
    "        np.random.seed(seed)\n",
    "    for i in range(n_steps-1):\n",
    "        transition_probs = transitionMatrix[states.index(sequence[-1])]\n",
    "        next_state = np.random.choice(states, p=transition_probs)\n",
    "        sequence.append(next_state)\n",
    "    return sequence\n",
    "\n",
    "def get_durations(total_length, sequence, last_note_min_length=3):\n",
    "    length_reqd = total_length\n",
    "    durations = []\n",
    "    for i in range(len(sequence)):\n",
    "        if sum(durations) > total_length:\n",
    "            # print(durations)\n",
    "            durations = durations[:-1]\n",
    "            durations.append(round(total_length-sum(durations),2))\n",
    "            # print(durations)\n",
    "            # print(sum(durations))\n",
    "            while durations[-1] < last_note_min_length:\n",
    "                durations[-2] += durations[-1]\n",
    "                durations=durations[:-1]\n",
    "                # print(durations)\n",
    "                # print(sum(durations))\n",
    "            # print(\"exited while\")\n",
    "            # print(durations)\n",
    "            # print(sum(durations))\n",
    "            assert durations[-1] >= last_note_min_length\n",
    "            assert round(sum(durations),2) == total_length\n",
    "            # l = len(durations)\n",
    "            return durations\n",
    "            \n",
    "        if i == len(sequence)-1:\n",
    "            if length_reqd < last_note_min_length:\n",
    "                durations.append(length_reqd)\n",
    "                break\n",
    "        if sequence[i] == \"VS\":\n",
    "            durations.append(round(rm.uniform(0.5,1),2))\n",
    "        elif sequence[i] == \"S\":\n",
    "            durations.append(round(rm.uniform(1,2),2))\n",
    "        elif sequence[i] == \"M\":\n",
    "            durations.append(round(rm.uniform(2,3),2))\n",
    "        elif sequence[i] == \"L\":\n",
    "            durations.append(round(rm.uniform(3,5),2))\n",
    "        elif sequence[i] == \"VL\":\n",
    "            durations.append(round(rm.uniform(5,8),2))\n",
    "        length_reqd -= durations[i]\n",
    "    l = len(durations)\n",
    "    assert durations[-1] >= last_note_min_length\n",
    "    assert round(sum(durations),2) == total_length\n",
    "    return durations"
   ]
  },
  {
   "cell_type": "code",
   "execution_count": 12,
   "metadata": {},
   "outputs": [
    {
     "data": {
      "text/plain": [
       "['VL', 'L', 'VS', 'VS', 'VL']"
      ]
     },
     "execution_count": 12,
     "metadata": {},
     "output_type": "execute_result"
    }
   ],
   "source": [
    "lengths = get_length_sequence(\"VL\",5)\n",
    "chord_sequence = extended_chord_sequence[:len(lengths)]\n",
    "lengths"
   ]
  },
  {
   "cell_type": "code",
   "execution_count": 13,
   "metadata": {},
   "outputs": [
    {
     "name": "stdout",
     "output_type": "stream",
     "text": [
      "[5.98, 7.47, 6.55]\n",
      "20.0\n"
     ]
    }
   ],
   "source": [
    "durs = get_durations(20,get_length_sequence(\"VL\",20),2)\n",
    "print(durs)\n",
    "print(sum(durs))"
   ]
  },
  {
   "cell_type": "markdown",
   "metadata": {},
   "source": [
    "# Note Density\n",
    "- Number of simultaneous notes  \n",
    "- Ranges from 1 to 5  \n",
    "- Modeled using a markov chain  \n",
    "\n",
    "\n",
    "Load transition matrix for note density based on theme"
   ]
  },
  {
   "cell_type": "code",
   "execution_count": 14,
   "metadata": {},
   "outputs": [],
   "source": [
    "def get_note_density(sequence, initial_state=3, seed=\"NA\", transition_probs=[0.2,0.3,0.3,0.1,0.1]):\n",
    "    assert sum(transition_probs) == 1\n",
    "    states = [1,2,3,4,5]\n",
    "    densities=[initial_state]\n",
    "    for i in range(len(sequence)-1):\n",
    "        densities.append(np.random.choice(states, p=transition_probs))\n",
    "    return densities"
   ]
  },
  {
   "cell_type": "code",
   "execution_count": 17,
   "metadata": {},
   "outputs": [
    {
     "data": {
      "text/plain": [
       "[3,\n",
       " 4,\n",
       " 3,\n",
       " 5,\n",
       " 1,\n",
       " 1,\n",
       " 1,\n",
       " 2,\n",
       " 2,\n",
       " 2,\n",
       " 4,\n",
       " 2,\n",
       " 2,\n",
       " 3,\n",
       " 1,\n",
       " 4,\n",
       " 1,\n",
       " 5,\n",
       " 3,\n",
       " 1,\n",
       " 1,\n",
       " 4,\n",
       " 3,\n",
       " 3,\n",
       " 3,\n",
       " 1,\n",
       " 2,\n",
       " 1,\n",
       " 4,\n",
       " 3,\n",
       " 2]"
      ]
     },
     "execution_count": 17,
     "metadata": {},
     "output_type": "execute_result"
    }
   ],
   "source": [
    "get_note_density(extended_chord_sequence)"
   ]
  },
  {
   "cell_type": "markdown",
   "metadata": {},
   "source": [
    "# Melodic Range\n",
    "- Number of octaves to select from (Range: 1 - 3)\n",
    "- Specific octave to use (Changes from one timbre to another)\n",
    "- Modeled using random sampling with probabilities"
   ]
  },
  {
   "cell_type": "code",
   "execution_count": 18,
   "metadata": {},
   "outputs": [],
   "source": [
    "def get_octaves(sequence, initial_state=3, seed=\"NA\", transition_probs=[0.3,0.5,0.1,0.1]):\n",
    "    assert sum(transition_probs) == 1\n",
    "    octaves=[initial_state]\n",
    "    for i in range(len(sequence)-1):\n",
    "        octaves.append(np.random.choice([2,3,4,5], p=transition_probs))\n",
    "    return octaves"
   ]
  },
  {
   "cell_type": "code",
   "execution_count": 19,
   "metadata": {},
   "outputs": [
    {
     "data": {
      "text/plain": [
       "[3, 2, 3, 3, 3]"
      ]
     },
     "execution_count": 19,
     "metadata": {},
     "output_type": "execute_result"
    }
   ],
   "source": [
    "get_octaves(chord_sequence)"
   ]
  },
  {
   "cell_type": "markdown",
   "metadata": {},
   "source": [
    "# Loudness\n",
    "- Scaling factor for the final output (Range: 0 - 1)\n",
    "- Initial and final values to be selected and connected using a Gensound Linear or Exponential object"
   ]
  },
  {
   "cell_type": "code",
   "execution_count": null,
   "metadata": {},
   "outputs": [],
   "source": []
  },
  {
   "cell_type": "markdown",
   "metadata": {},
   "source": [
    "# Melodic Direction\n",
    "- Ascending or descending based on the selected segment"
   ]
  },
  {
   "cell_type": "code",
   "execution_count": null,
   "metadata": {},
   "outputs": [],
   "source": []
  },
  {
   "cell_type": "markdown",
   "metadata": {},
   "source": [
    "# Combined params"
   ]
  },
  {
   "cell_type": "code",
   "execution_count": 20,
   "metadata": {},
   "outputs": [],
   "source": [
    "def get_chord_and_metadata(total_length, ending_chord_length,starting_chord='C', starting_length=\"VL\", starting_density=1, starting_octave=3, seed=\"NA\"):\n",
    "    chord_sequence = generate_sequence('C')\n",
    "    lengths = get_length_sequence(starting_length, 5, seed)\n",
    "    durations = get_durations(total_length,lengths,ending_chord_length)\n",
    "    chord_sequence = chord_sequence[:len(durations)]\n",
    "\n",
    "    densities = get_note_density(chord_sequence, starting_density, seed)\n",
    "    octaves = get_octaves(chord_sequence)\n",
    "\n",
    "    assert durations[-1] >= ending_chord_length\n",
    "    return {'chords':chord_sequence, 'durations': durations, 'note_densities':densities, 'octaves':octaves}"
   ]
  },
  {
   "cell_type": "code",
   "execution_count": 21,
   "metadata": {},
   "outputs": [
    {
     "ename": "AssertionError",
     "evalue": "",
     "output_type": "error",
     "traceback": [
      "\u001b[0;31m---------------------------------------------------------------------------\u001b[0m",
      "\u001b[0;31mAssertionError\u001b[0m                            Traceback (most recent call last)",
      "\u001b[0;32m<ipython-input-21-a6795764cc17>\u001b[0m in \u001b[0;36m<module>\u001b[0;34m\u001b[0m\n\u001b[0;32m----> 1\u001b[0;31m \u001b[0mget_chord_and_metadata\u001b[0m\u001b[0;34m(\u001b[0m\u001b[0;36m20\u001b[0m\u001b[0;34m,\u001b[0m\u001b[0;36m2\u001b[0m\u001b[0;34m)\u001b[0m\u001b[0;34m\u001b[0m\u001b[0;34m\u001b[0m\u001b[0m\n\u001b[0m",
      "\u001b[0;32m<ipython-input-20-cf1a39e16dbb>\u001b[0m in \u001b[0;36mget_chord_and_metadata\u001b[0;34m(total_length, ending_chord_length, starting_chord, starting_length, starting_density, starting_octave, seed)\u001b[0m\n\u001b[1;32m      2\u001b[0m     \u001b[0mchord_sequence\u001b[0m \u001b[0;34m=\u001b[0m \u001b[0mgenerate_sequence\u001b[0m\u001b[0;34m(\u001b[0m\u001b[0;34m'C'\u001b[0m\u001b[0;34m)\u001b[0m\u001b[0;34m\u001b[0m\u001b[0;34m\u001b[0m\u001b[0m\n\u001b[1;32m      3\u001b[0m     \u001b[0mlengths\u001b[0m \u001b[0;34m=\u001b[0m \u001b[0mget_length_sequence\u001b[0m\u001b[0;34m(\u001b[0m\u001b[0mstarting_length\u001b[0m\u001b[0;34m,\u001b[0m \u001b[0;36m5\u001b[0m\u001b[0;34m,\u001b[0m \u001b[0mseed\u001b[0m\u001b[0;34m)\u001b[0m\u001b[0;34m\u001b[0m\u001b[0;34m\u001b[0m\u001b[0m\n\u001b[0;32m----> 4\u001b[0;31m     \u001b[0mdurations\u001b[0m \u001b[0;34m=\u001b[0m \u001b[0mget_durations\u001b[0m\u001b[0;34m(\u001b[0m\u001b[0mtotal_length\u001b[0m\u001b[0;34m,\u001b[0m\u001b[0mlengths\u001b[0m\u001b[0;34m,\u001b[0m\u001b[0mending_chord_length\u001b[0m\u001b[0;34m)\u001b[0m\u001b[0;34m\u001b[0m\u001b[0;34m\u001b[0m\u001b[0m\n\u001b[0m\u001b[1;32m      5\u001b[0m     \u001b[0mchord_sequence\u001b[0m \u001b[0;34m=\u001b[0m \u001b[0mchord_sequence\u001b[0m\u001b[0;34m[\u001b[0m\u001b[0;34m:\u001b[0m\u001b[0mlen\u001b[0m\u001b[0;34m(\u001b[0m\u001b[0mdurations\u001b[0m\u001b[0;34m)\u001b[0m\u001b[0;34m]\u001b[0m\u001b[0;34m\u001b[0m\u001b[0;34m\u001b[0m\u001b[0m\n\u001b[1;32m      6\u001b[0m \u001b[0;34m\u001b[0m\u001b[0m\n",
      "\u001b[0;32m<ipython-input-11-d2e56dbd3163>\u001b[0m in \u001b[0;36mget_durations\u001b[0;34m(total_length, sequence, last_note_min_length)\u001b[0m\n\u001b[1;32m     71\u001b[0m     \u001b[0ml\u001b[0m \u001b[0;34m=\u001b[0m \u001b[0mlen\u001b[0m\u001b[0;34m(\u001b[0m\u001b[0mdurations\u001b[0m\u001b[0;34m)\u001b[0m\u001b[0;34m\u001b[0m\u001b[0;34m\u001b[0m\u001b[0m\n\u001b[1;32m     72\u001b[0m     \u001b[0;32massert\u001b[0m \u001b[0mdurations\u001b[0m\u001b[0;34m[\u001b[0m\u001b[0;34m-\u001b[0m\u001b[0;36m1\u001b[0m\u001b[0;34m]\u001b[0m \u001b[0;34m>=\u001b[0m \u001b[0mlast_note_min_length\u001b[0m\u001b[0;34m\u001b[0m\u001b[0;34m\u001b[0m\u001b[0m\n\u001b[0;32m---> 73\u001b[0;31m     \u001b[0;32massert\u001b[0m \u001b[0mround\u001b[0m\u001b[0;34m(\u001b[0m\u001b[0msum\u001b[0m\u001b[0;34m(\u001b[0m\u001b[0mdurations\u001b[0m\u001b[0;34m)\u001b[0m\u001b[0;34m,\u001b[0m\u001b[0;36m2\u001b[0m\u001b[0;34m)\u001b[0m \u001b[0;34m==\u001b[0m \u001b[0mtotal_length\u001b[0m\u001b[0;34m\u001b[0m\u001b[0;34m\u001b[0m\u001b[0m\n\u001b[0m\u001b[1;32m     74\u001b[0m     \u001b[0;32mreturn\u001b[0m \u001b[0mdurations\u001b[0m\u001b[0;34m\u001b[0m\u001b[0;34m\u001b[0m\u001b[0m\n",
      "\u001b[0;31mAssertionError\u001b[0m: "
     ]
    }
   ],
   "source": [
    "get_chord_and_metadata(20,2)"
   ]
  },
  {
   "cell_type": "markdown",
   "metadata": {},
   "source": []
  },
  {
   "cell_type": "markdown",
   "metadata": {},
   "source": []
  }
 ],
 "metadata": {
  "kernelspec": {
   "display_name": "Python 3.9.13 64-bit",
   "language": "python",
   "name": "python3"
  },
  "language_info": {
   "codemirror_mode": {
    "name": "ipython",
    "version": 3
   },
   "file_extension": ".py",
   "mimetype": "text/x-python",
   "name": "python",
   "nbconvert_exporter": "python",
   "pygments_lexer": "ipython3",
   "version": "3.9.13"
  },
  "orig_nbformat": 4,
  "vscode": {
   "interpreter": {
    "hash": "aee8b7b246df8f9039afb4144a1f6fd8d2ca17a180786b69acc140d282b71a49"
   }
  }
 },
 "nbformat": 4,
 "nbformat_minor": 2
}
