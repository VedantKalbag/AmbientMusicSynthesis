{
 "cells": [
  {
   "cell_type": "code",
   "execution_count": 1,
   "metadata": {},
   "outputs": [],
   "source": [
    "import numpy as np\n",
    "import random as rm"
   ]
  },
  {
   "cell_type": "markdown",
   "metadata": {},
   "source": [
    "# THEMES\n",
    "Add different themes for the system to use, which will control the ranges and values that the musical and timbral parameters can take  \n",
    "eg. lush, drone, busy, minimal, etc.  \n",
    "\n",
    "\n",
    "\n",
    "- minimal- One note sustained  \n",
    "- drone- long sustained chords, sawtooth wave heavy\n",
    "- lush- full sounding, minimal effects and minimal chord selection\n",
    "- busy- lots of chords, lots of effects, varying sustain for each note\n",
    "- voice/choir synth- few chords, not as long sustained as drone/minimal"
   ]
  },
  {
   "cell_type": "markdown",
   "metadata": {},
   "source": [
    "## Testing"
   ]
  },
  {
   "cell_type": "code",
   "execution_count": 2,
   "metadata": {},
   "outputs": [],
   "source": [
    "# The statespace\n",
    "states = [\"Sleep\",\"Icecream\",\"Run\"]\n",
    "\n",
    "# Possible sequences of events\n",
    "transitionName = [[\"SS\",\"SR\",\"SI\"],[\"RS\",\"RR\",\"RI\"],[\"IS\",\"IR\",\"II\"]]\n",
    "\n",
    "# Probabilities matrix (transition matrix)\n",
    "transitionMatrix = [[0.2,0.6,0.2],[0.1,0.6,0.3],[0.2,0.7,0.1]]"
   ]
  },
  {
   "cell_type": "code",
   "execution_count": 3,
   "metadata": {},
   "outputs": [
    {
     "name": "stdout",
     "output_type": "stream",
     "text": [
      "All is gonna be okay, you should move on!! ;)\n"
     ]
    }
   ],
   "source": [
    "if sum(transitionMatrix[0])+sum(transitionMatrix[1])+sum(transitionMatrix[1]) != 3:\n",
    "    print(\"Somewhere, something went wrong. Transition matrix, perhaps?\")\n",
    "else: print(\"All is gonna be okay, you should move on!! ;)\")\n"
   ]
  },
  {
   "cell_type": "code",
   "execution_count": 4,
   "metadata": {},
   "outputs": [
    {
     "name": "stdout",
     "output_type": "stream",
     "text": [
      "Start state: Sleep\n",
      "Possible states: ['Sleep', 'Run', 'Run']\n",
      "End state after 2 days: Run\n",
      "Probability of the possible sequence of states: 0.3\n"
     ]
    }
   ],
   "source": [
    "# A function that implements the Markov model to forecast the state/mood.\n",
    "def activity_forecast(days):\n",
    "    # Choose the starting state\n",
    "    activityToday = \"Sleep\"\n",
    "    print(\"Start state: \" + activityToday)\n",
    "    # Shall store the sequence of states taken. So, this only has the starting state for now.\n",
    "    activityList = [activityToday]\n",
    "    i = 0\n",
    "    # To calculate the probability of the activityList\n",
    "    prob = 1\n",
    "    while i != days:\n",
    "        if activityToday == \"Sleep\":\n",
    "            change = np.random.choice(transitionName[0],replace=True,p=transitionMatrix[0])\n",
    "            if change == \"SS\":\n",
    "                prob = prob * 0.2\n",
    "                activityList.append(\"Sleep\")\n",
    "                pass\n",
    "            elif change == \"SR\":\n",
    "                prob = prob * 0.6\n",
    "                activityToday = \"Run\"\n",
    "                activityList.append(\"Run\")\n",
    "            else:\n",
    "                prob = prob * 0.2\n",
    "                activityToday = \"Icecream\"\n",
    "                activityList.append(\"Icecream\")\n",
    "        elif activityToday == \"Run\":\n",
    "            change = np.random.choice(transitionName[1],replace=True,p=transitionMatrix[1])\n",
    "            if change == \"RR\":\n",
    "                prob = prob * 0.5\n",
    "                activityList.append(\"Run\")\n",
    "                pass\n",
    "            elif change == \"RS\":\n",
    "                prob = prob * 0.2\n",
    "                activityToday = \"Sleep\"\n",
    "                activityList.append(\"Sleep\")\n",
    "            else:\n",
    "                prob = prob * 0.3\n",
    "                activityToday = \"Icecream\"\n",
    "                activityList.append(\"Icecream\")\n",
    "        elif activityToday == \"Icecream\":\n",
    "            change = np.random.choice(transitionName[2],replace=True,p=transitionMatrix[2])\n",
    "            if change == \"II\":\n",
    "                prob = prob * 0.1\n",
    "                activityList.append(\"Icecream\")\n",
    "                pass\n",
    "            elif change == \"IS\":\n",
    "                prob = prob * 0.2\n",
    "                activityToday = \"Sleep\"\n",
    "                activityList.append(\"Sleep\")\n",
    "            else:\n",
    "                prob = prob * 0.7\n",
    "                activityToday = \"Run\"\n",
    "                activityList.append(\"Run\")\n",
    "        i += 1  \n",
    "    print(\"Possible states: \" + str(activityList))\n",
    "    print(\"End state after \"+ str(days) + \" days: \" + activityToday)\n",
    "    print(\"Probability of the possible sequence of states: \" + str(prob))\n",
    "\n",
    "# Function that forecasts the possible state for the next 2 days\n",
    "activity_forecast(2)\n"
   ]
  },
  {
   "cell_type": "markdown",
   "metadata": {},
   "source": [
    "# Note duration\n",
    "\n",
    "- Changes in note durations\n",
    "- minumum note duration is 0.5s\n",
    "- maximum note duration is 8 seconds\n",
    "- To be modeled using a markov chain"
   ]
  },
  {
   "cell_type": "code",
   "execution_count": 21,
   "metadata": {},
   "outputs": [],
   "source": [
    "# note_durations = [0.5, 0.75, 1.0, 1.5, 2.0, 3.0, 4.0, 5.0, 6.0, 7.0, 8.0]\n",
    "# The statespace\n",
    "states = [\"VS\",\"S\",\"M\",\"L\",\"VL\"]\n",
    "# Possible sequences of events\n",
    "transitionName = [[\"VSVS\",\"VSS\",\"VSM\",\"VSL\",\"VSVL\"],[\"SVS\",\"SS\",\"SM\",\"SL\",\"SVL\"],[\"MVS\",\"MS\",\"MM\",\"ML\",\"MVL\"],[\"LVS\",\"LS\",\"LM\",\"LL\",\"LVL\"],[\"VLVS\",\"VLS\",\"VLM\",\"VLL\",\"VLVL\"]]\n",
    "# Probabilities matrix (transition matrix)\n",
    "#TODO: Load transition matrix, last_note_min_length from each theme\n",
    "transitionMatrix = np.array([[0.2,0.2,0.2,0.2,0.2],[0.2,0.2,0.2,0.2,0.2],[0.2,0.2,0.2,0.2,0.2],[0.2,0.2,0.2,0.2,0.2],[0.2,0.2,0.2,0.2,0.2]])\n",
    "assert sum(transitionMatrix[0])==1\n",
    "assert sum(transitionMatrix[1])==1\n",
    "assert sum(transitionMatrix[2])==1\n",
    "assert sum(transitionMatrix[3])==1\n",
    "assert sum(transitionMatrix[4])==1\n",
    "\n",
    "\n",
    "def get_length_sequence(initial_state, n_steps, seed=\"NA\"):\n",
    "    sequence = [initial_state]\n",
    "    if seed != \"NA\":\n",
    "        np.random.seed(seed)\n",
    "    for i in range(n_steps-1):\n",
    "        transition_probs = transitionMatrix[states.index(sequence[-1])]\n",
    "        next_state = np.random.choice(states, p=transition_probs)\n",
    "        sequence.append(next_state)\n",
    "    return sequence\n",
    "\n",
    "def get_durations(total_length, sequence, last_note_min_length=3):\n",
    "    length_reqd = total_length\n",
    "    durations = []\n",
    "    for i in range(len(sequence)):\n",
    "        if i == len(sequence)-1:\n",
    "            if length_reqd < 3:\n",
    "                durations.append(length_reqd)\n",
    "                break\n",
    "        if sequence[i] == \"VS\":\n",
    "            durations.append(round(rm.uniform(0.5,1),2))\n",
    "        elif sequence[i] == \"S\":\n",
    "            durations.append(round(rm.uniform(1,2),2))\n",
    "        elif sequence[i] == \"M\":\n",
    "            durations.append(round(rm.uniform(2,3),2))\n",
    "        elif sequence[i] == \"L\":\n",
    "            durations.append(round(rm.uniform(3,5),2))\n",
    "        elif sequence[i] == \"VL\":\n",
    "            durations.append(round(rm.uniform(5,8),2))\n",
    "        length_reqd -= durations[i]\n",
    "        if sum(durations) > total_length:\n",
    "            durations = durations[:-1]\n",
    "            durations.append(total_length-sum(durations))\n",
    "            if durations[-1] < last_note_min_length:\n",
    "                durations[-2] += durations[-1]\n",
    "                durations=durations[:-1]\n",
    "            return durations\n",
    "    return durations"
   ]
  },
  {
   "cell_type": "code",
   "execution_count": 25,
   "metadata": {},
   "outputs": [
    {
     "data": {
      "text/plain": [
       "['VL', 'L', 'VL', 'M', 'S']"
      ]
     },
     "execution_count": 25,
     "metadata": {},
     "output_type": "execute_result"
    }
   ],
   "source": [
    "sequence = get_length_sequence(\"VL\",5)\n",
    "sequence"
   ]
  },
  {
   "cell_type": "code",
   "execution_count": 23,
   "metadata": {},
   "outputs": [
    {
     "name": "stdout",
     "output_type": "stream",
     "text": [
      "[7.1, 0.81, 4.36, 0.95, 1.47, 5.31]\n",
      "20.0\n"
     ]
    }
   ],
   "source": [
    "durs = get_durations(20,get_length_sequence(\"VL\",20),2)\n",
    "print(durs)\n",
    "print(sum(durs))"
   ]
  },
  {
   "cell_type": "markdown",
   "metadata": {},
   "source": [
    "# Note Density\n",
    "- Number of simultaneous notes  \n",
    "- Ranges from 1 to 5  \n",
    "- Modeled using a markov chain  \n",
    "\n",
    "\n",
    "Load transition matrix for note density based on theme"
   ]
  },
  {
   "cell_type": "code",
   "execution_count": 33,
   "metadata": {},
   "outputs": [],
   "source": [
    "def get_note_density(sequence, transition_probs=[0.2,0.3,0.3,0.1,0.1]):\n",
    "    states = [1,2,3,4,5]\n",
    "    densities=[]\n",
    "    for i in range(len(sequence)):\n",
    "        densities.append(np.random.choice(states, p=transition_probs))\n",
    "    return densities"
   ]
  },
  {
   "cell_type": "code",
   "execution_count": 37,
   "metadata": {},
   "outputs": [
    {
     "data": {
      "text/plain": [
       "[1, 4, 2, 3, 1]"
      ]
     },
     "execution_count": 37,
     "metadata": {},
     "output_type": "execute_result"
    }
   ],
   "source": [
    "get_note_density(sequence)"
   ]
  },
  {
   "cell_type": "markdown",
   "metadata": {},
   "source": [
    "# Melodic Range\n",
    "- Number of octaves to select from (Range: 1 - 3)\n",
    "- Specific octave to use (Changes from one timbre to another)\n",
    "- Modeled using random sampling with probabilities"
   ]
  },
  {
   "cell_type": "code",
   "execution_count": null,
   "metadata": {},
   "outputs": [],
   "source": []
  },
  {
   "cell_type": "markdown",
   "metadata": {},
   "source": [
    "# Loudness\n",
    "- Scaling factor for the final output (Range: 0 - 1)\n",
    "- Initial and final values to be selected and connected using a Gensound Linear or Exponential object"
   ]
  },
  {
   "cell_type": "code",
   "execution_count": null,
   "metadata": {},
   "outputs": [],
   "source": []
  },
  {
   "cell_type": "markdown",
   "metadata": {},
   "source": [
    "# Melodic Direction\n",
    "- Ascending or descending based on the selected segment"
   ]
  },
  {
   "cell_type": "code",
   "execution_count": null,
   "metadata": {},
   "outputs": [],
   "source": []
  }
 ],
 "metadata": {
  "kernelspec": {
   "display_name": "Python 3.10.4 ('bgm-generation')",
   "language": "python",
   "name": "python3"
  },
  "language_info": {
   "codemirror_mode": {
    "name": "ipython",
    "version": 3
   },
   "file_extension": ".py",
   "mimetype": "text/x-python",
   "name": "python",
   "nbconvert_exporter": "python",
   "pygments_lexer": "ipython3",
   "version": "3.10.4"
  },
  "orig_nbformat": 4,
  "vscode": {
   "interpreter": {
    "hash": "11e541338b35738313e8424a03c0ad951310cbc49d68edead48851e8ef14da64"
   }
  }
 },
 "nbformat": 4,
 "nbformat_minor": 2
}
