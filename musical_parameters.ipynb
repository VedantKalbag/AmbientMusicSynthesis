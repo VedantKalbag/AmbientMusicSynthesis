{
 "cells": [
  {
   "cell_type": "code",
   "execution_count": 16,
   "metadata": {},
   "outputs": [],
   "source": [
    "import numpy as np\n",
    "import random as rm"
   ]
  },
  {
   "cell_type": "markdown",
   "metadata": {},
   "source": [
    "# THEMES\n",
    "Add different themes for the system to use, which will control the ranges and values that the musical and timbral parameters can take  \n",
    "eg. lush, drone, busy, minimal, etc.  \n",
    "\n",
    "\n",
    "\n",
    "- minimal- One note sustained  \n",
    "- drone- long sustained chords, sawtooth wave heavy\n",
    "- lush- full sounding, minimal effects and minimal chord selection\n",
    "- busy- lots of chords, lots of effects, varying sustain for each note\n",
    "- voice/choir synth- few chords, not as long sustained as drone/minimal"
   ]
  },
  {
   "cell_type": "markdown",
   "metadata": {},
   "source": [
    "## Testing"
   ]
  },
  {
   "cell_type": "code",
   "execution_count": 2,
   "metadata": {},
   "outputs": [],
   "source": [
    "# The statespace\n",
    "states = [\"Sleep\",\"Icecream\",\"Run\"]\n",
    "\n",
    "# Possible sequences of events\n",
    "transitionName = [[\"SS\",\"SR\",\"SI\"],[\"RS\",\"RR\",\"RI\"],[\"IS\",\"IR\",\"II\"]]\n",
    "\n",
    "# Probabilities matrix (transition matrix)\n",
    "transitionMatrix = [[0.2,0.6,0.2],[0.1,0.6,0.3],[0.2,0.7,0.1]]"
   ]
  },
  {
   "cell_type": "code",
   "execution_count": 3,
   "metadata": {},
   "outputs": [
    {
     "name": "stdout",
     "output_type": "stream",
     "text": [
      "All is gonna be okay, you should move on!! ;)\n"
     ]
    }
   ],
   "source": [
    "if sum(transitionMatrix[0])+sum(transitionMatrix[1])+sum(transitionMatrix[1]) != 3:\n",
    "    print(\"Somewhere, something went wrong. Transition matrix, perhaps?\")\n",
    "else: print(\"All is gonna be okay, you should move on!! ;)\")\n"
   ]
  },
  {
   "cell_type": "code",
   "execution_count": 4,
   "metadata": {},
   "outputs": [
    {
     "name": "stdout",
     "output_type": "stream",
     "text": [
      "Start state: Sleep\n",
      "Possible states: ['Sleep', 'Run', 'Run']\n",
      "End state after 2 days: Run\n",
      "Probability of the possible sequence of states: 0.3\n"
     ]
    }
   ],
   "source": [
    "# A function that implements the Markov model to forecast the state/mood.\n",
    "def activity_forecast(days):\n",
    "    # Choose the starting state\n",
    "    activityToday = \"Sleep\"\n",
    "    print(\"Start state: \" + activityToday)\n",
    "    # Shall store the sequence of states taken. So, this only has the starting state for now.\n",
    "    activityList = [activityToday]\n",
    "    i = 0\n",
    "    # To calculate the probability of the activityList\n",
    "    prob = 1\n",
    "    while i != days:\n",
    "        if activityToday == \"Sleep\":\n",
    "            change = np.random.choice(transitionName[0],replace=True,p=transitionMatrix[0])\n",
    "            if change == \"SS\":\n",
    "                prob = prob * 0.2\n",
    "                activityList.append(\"Sleep\")\n",
    "                pass\n",
    "            elif change == \"SR\":\n",
    "                prob = prob * 0.6\n",
    "                activityToday = \"Run\"\n",
    "                activityList.append(\"Run\")\n",
    "            else:\n",
    "                prob = prob * 0.2\n",
    "                activityToday = \"Icecream\"\n",
    "                activityList.append(\"Icecream\")\n",
    "        elif activityToday == \"Run\":\n",
    "            change = np.random.choice(transitionName[1],replace=True,p=transitionMatrix[1])\n",
    "            if change == \"RR\":\n",
    "                prob = prob * 0.5\n",
    "                activityList.append(\"Run\")\n",
    "                pass\n",
    "            elif change == \"RS\":\n",
    "                prob = prob * 0.2\n",
    "                activityToday = \"Sleep\"\n",
    "                activityList.append(\"Sleep\")\n",
    "            else:\n",
    "                prob = prob * 0.3\n",
    "                activityToday = \"Icecream\"\n",
    "                activityList.append(\"Icecream\")\n",
    "        elif activityToday == \"Icecream\":\n",
    "            change = np.random.choice(transitionName[2],replace=True,p=transitionMatrix[2])\n",
    "            if change == \"II\":\n",
    "                prob = prob * 0.1\n",
    "                activityList.append(\"Icecream\")\n",
    "                pass\n",
    "            elif change == \"IS\":\n",
    "                prob = prob * 0.2\n",
    "                activityToday = \"Sleep\"\n",
    "                activityList.append(\"Sleep\")\n",
    "            else:\n",
    "                prob = prob * 0.7\n",
    "                activityToday = \"Run\"\n",
    "                activityList.append(\"Run\")\n",
    "        i += 1  \n",
    "    print(\"Possible states: \" + str(activityList))\n",
    "    print(\"End state after \"+ str(days) + \" days: \" + activityToday)\n",
    "    print(\"Probability of the possible sequence of states: \" + str(prob))\n",
    "\n",
    "# Function that forecasts the possible state for the next 2 days\n",
    "activity_forecast(2)\n"
   ]
  },
  {
   "cell_type": "markdown",
   "metadata": {},
   "source": [
    "# Minimum note duration\n",
    "\n",
    "- Changes in note durations\n",
    "- minumum note duration is 0.5s\n",
    "- maximum note duration is 8 seconds\n",
    "- To be modeled using a markov chain"
   ]
  },
  {
   "cell_type": "code",
   "execution_count": 99,
   "metadata": {},
   "outputs": [],
   "source": [
    "note_durations = [0.5, 0.75, 1.0, 1.5, 2.0, 3.0, 4.0, 5.0, 6.0, 7.0, 8.0]\n",
    "# The statespace\n",
    "states = [\"VS\",\"S\",\"M\",\"L\",\"VL\"]\n",
    "# Possible sequences of events\n",
    "transitionName = [[\"VSVS\",\"VSS\",\"VSM\",\"VSL\",\"VSVL\"],[\"SVS\",\"SS\",\"SM\",\"SL\",\"SVL\"],[\"MVS\",\"MS\",\"MM\",\"ML\",\"MVL\"],[\"LVS\",\"LS\",\"LM\",\"LL\",\"LVL\"],[\"VLVS\",\"VLS\",\"VLM\",\"VLL\",\"VLVL\"]]\n",
    "# Probabilities matrix (transition matrix)\n",
    "#TODO: Load transition matrix from each theme\n",
    "transitionMatrix = np.array([[0.2,0.2,0.2,0.2,0.2],[0.2,0.2,0.2,0.2,0.2],[0.2,0.2,0.2,0.2,0.2],[0.2,0.2,0.2,0.2,0.2],[0.2,0.2,0.2,0.2,0.2]])\n",
    "assert sum(transitionMatrix[0])==1\n",
    "assert sum(transitionMatrix[1])==1\n",
    "assert sum(transitionMatrix[2])==1\n",
    "assert sum(transitionMatrix[3])==1\n",
    "assert sum(transitionMatrix[4])==1\n",
    "\n",
    "\n",
    "def get_length_sequence(initial_state, n_steps, seed=\"NA\"):\n",
    "    sequence = [initial_state]\n",
    "    if seed != \"NA\":\n",
    "        np.random.seed(seed)\n",
    "    for i in range(n_steps-1):\n",
    "        transition_probs = transitionMatrix[states.index(sequence[-1])]\n",
    "        next_state = np.random.choice(states, p=transition_probs)\n",
    "        sequence.append(next_state)\n",
    "    return sequence\n",
    "\n",
    "def get_durations(total_length, sequence):\n",
    "    length_reqd = total_length\n",
    "    durations = []\n",
    "    for i in range(len(sequence)):\n",
    "        if i == len(sequence)-1:\n",
    "            if length_reqd < 3:\n",
    "                durations.append(length_reqd)\n",
    "                break\n",
    "        if sequence[i] == \"VS\":\n",
    "            durations.append(rm.uniform(0.5,1))\n",
    "        elif sequence[i] == \"S\":\n",
    "            durations.append(rm.uniform(1,2))\n",
    "        elif sequence[i] == \"M\":\n",
    "            durations.append(rm.uniform(2,3))\n",
    "        elif sequence[i] == \"L\":\n",
    "            durations.append(rm.uniform(3,5))\n",
    "        elif sequence[i] == \"VL\":\n",
    "            durations.append(rm.uniform(5,8))\n",
    "        length_reqd -= durations[i]\n",
    "        # print(length_reqd)\n",
    "        # print(durations)\n",
    "        if sum(durations) > total_length:\n",
    "            durations = durations[:-1]\n",
    "            durations.append(total_length-sum(durations))\n",
    "            return durations\n",
    "    return durations"
   ]
  },
  {
   "cell_type": "code",
   "execution_count": 100,
   "metadata": {},
   "outputs": [
    {
     "data": {
      "text/plain": [
       "['VL',\n",
       " 'M',\n",
       " 'M',\n",
       " 'VS',\n",
       " 'L',\n",
       " 'M',\n",
       " 'L',\n",
       " 'VL',\n",
       " 'VL',\n",
       " 'VL',\n",
       " 'VS',\n",
       " 'S',\n",
       " 'L',\n",
       " 'VS',\n",
       " 'M',\n",
       " 'VS',\n",
       " 'VS',\n",
       " 'VS',\n",
       " 'L',\n",
       " 'S']"
      ]
     },
     "execution_count": 100,
     "metadata": {},
     "output_type": "execute_result"
    }
   ],
   "source": [
    "get_length_sequence(\"VL\",20)"
   ]
  },
  {
   "cell_type": "code",
   "execution_count": 109,
   "metadata": {},
   "outputs": [
    {
     "name": "stdout",
     "output_type": "stream",
     "text": [
      "[5.2937271081268324, 1.1819885637992447, 0.5433863438972469, 6.378951745295597, 0.7841233867891114, 2.3879217089372413, 1.8492768135184037, 0.516635769890291, 1.0639885597460292]\n",
      "20.0\n"
     ]
    }
   ],
   "source": [
    "durs = get_durations(20,get_length_sequence(\"VL\",20))\n",
    "print(durs)\n",
    "print(sum(durs))"
   ]
  },
  {
   "cell_type": "markdown",
   "metadata": {},
   "source": [
    "# Note Density\n",
    "- Number of simultaneous notes  \n",
    "- Ranges from 1 to 5  \n",
    "- Modeled using a markov chain  "
   ]
  },
  {
   "cell_type": "code",
   "execution_count": null,
   "metadata": {},
   "outputs": [],
   "source": []
  },
  {
   "cell_type": "markdown",
   "metadata": {},
   "source": [
    "# Melodic Range\n",
    "- Number of octaves to select from (Range: 1 - 3)\n",
    "- Specific octave to use (Changes from one timbre to another)\n",
    "- Modeled using random sampling with probabilities"
   ]
  },
  {
   "cell_type": "code",
   "execution_count": null,
   "metadata": {},
   "outputs": [],
   "source": []
  },
  {
   "cell_type": "markdown",
   "metadata": {},
   "source": [
    "# Loudness\n",
    "- Scaling factor for the final output (Range: 0 - 1)\n",
    "- Initial and final values to be selected and connected using a Gensound Linear or Exponential object"
   ]
  },
  {
   "cell_type": "code",
   "execution_count": null,
   "metadata": {},
   "outputs": [],
   "source": []
  },
  {
   "cell_type": "markdown",
   "metadata": {},
   "source": [
    "# Melodic Direction\n",
    "- Ascending or descending based on the selected segment"
   ]
  },
  {
   "cell_type": "code",
   "execution_count": null,
   "metadata": {},
   "outputs": [],
   "source": []
  }
 ],
 "metadata": {
  "kernelspec": {
   "display_name": "Python 3.10.4 ('bgm-generation')",
   "language": "python",
   "name": "python3"
  },
  "language_info": {
   "codemirror_mode": {
    "name": "ipython",
    "version": 3
   },
   "file_extension": ".py",
   "mimetype": "text/x-python",
   "name": "python",
   "nbconvert_exporter": "python",
   "pygments_lexer": "ipython3",
   "version": "3.10.4"
  },
  "orig_nbformat": 4,
  "vscode": {
   "interpreter": {
    "hash": "11e541338b35738313e8424a03c0ad951310cbc49d68edead48851e8ef14da64"
   }
  }
 },
 "nbformat": 4,
 "nbformat_minor": 2
}
